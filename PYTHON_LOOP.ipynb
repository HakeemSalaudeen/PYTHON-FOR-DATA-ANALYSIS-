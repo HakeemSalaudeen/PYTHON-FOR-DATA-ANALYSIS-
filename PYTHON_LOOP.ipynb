{
  "cells": [
    {
      "cell_type": "markdown",
      "metadata": {
        "id": "ZEHQkiawif-5"
      },
      "source": [
        "**PYTHON LOOP**\n",
        "*   Range\n",
        "*   For loop\n",
        "*   while loop\n",
        "*   Nested Loop\n",
        "\n",
        "\n",
        "\n"
      ]
    },
    {
      "cell_type": "markdown",
      "metadata": {
        "id": "zBFM5zzvtd4I"
      },
      "source": [
        "# **RANGE**"
      ]
    },
    {
      "cell_type": "code",
      "execution_count": null,
      "metadata": {
        "colab": {
          "base_uri": "https://localhost:8080/"
        },
        "id": "uyzvtUZNiybI",
        "outputId": "81faf0e4-ec99-4eec-fa27-48307d65508b"
      },
      "outputs": [
        {
          "name": "stdout",
          "output_type": "stream",
          "text": [
            "[1, 2, 3, 4, 5, 6, 7, 8, 9]\n",
            "(1, 2, 3, 4, 5, 6, 7, 8, 9)\n"
          ]
        }
      ],
      "source": [
        "#range\n",
        "# generate a sequenbce of numbers\n",
        "# Has a method described as start, stop, stop\n",
        "#it exclude the last digit or number\n",
        "#Range doesn't save the number it generates\n",
        "# so is better to put it in a list, tuple\n",
        "\n",
        "range1 = list(range (1,10))             #to put it in a list\n",
        "range2 = tuple(range (1,10))             #to put it in a list\n",
        "type(range1)\n",
        "print (range1)\n",
        "print (range2)\n"
      ]
    },
    {
      "cell_type": "code",
      "execution_count": null,
      "metadata": {
        "colab": {
          "base_uri": "https://localhost:8080/"
        },
        "id": "gcpmuMbMsVIF",
        "outputId": "5cd9fd93-7f23-455b-c91e-d3854f594e23"
      },
      "outputs": [
        {
          "name": "stdout",
          "output_type": "stream",
          "text": [
            "[1, 4, 7]\n",
            "[1, 3, 5, 7, 9]\n"
          ]
        }
      ],
      "source": [
        "#Range with step3\n",
        "\n",
        "range3 = list(range (1,10,3))       ##in step 3\n",
        "range4 = list(range (1,10,2))       #in step 2\n",
        "print (range3)\n",
        "print (range4)"
      ]
    },
    {
      "cell_type": "code",
      "execution_count": null,
      "metadata": {
        "colab": {
          "base_uri": "https://localhost:8080/"
        },
        "id": "xthrLH12BCnz",
        "outputId": "53159837-fa28-45fa-b3c8-9dffba68cc63"
      },
      "outputs": [
        {
          "name": "stdout",
          "output_type": "stream",
          "text": [
            "[0, 1, 2, 3, 4, 5, 6, 7, 8, 9, 10, 11, 12, 13, 14]\n"
          ]
        }
      ],
      "source": [
        "range5 = list(range (15))     # you will av 0-14, it when you dont want it to strt from zero, you can put a starting point\n",
        "\n",
        "print (range5)"
      ]
    },
    {
      "cell_type": "markdown",
      "metadata": {
        "id": "WuXr2QRLtLdl"
      },
      "source": [
        "# **FOR LOOP**"
      ]
    },
    {
      "cell_type": "code",
      "execution_count": null,
      "metadata": {
        "colab": {
          "base_uri": "https://localhost:8080/"
        },
        "id": "4ZS3fVD2tlug",
        "outputId": "a321b408-17f8-4435-add7-fd5362ad81dc"
      },
      "outputs": [
        {
          "name": "stdout",
          "output_type": "stream",
          "text": [
            "0\n",
            "1\n",
            "2\n",
            "3\n",
            "4\n",
            "5\n",
            "6\n",
            "7\n",
            "8\n",
            "9\n"
          ]
        }
      ],
      "source": [
        "#We set a counter and it executes\n",
        "\n",
        "#Execuse a code using a counter loop\n",
        "\n",
        "for number in range (0,10):\n",
        "  print(number)"
      ]
    },
    {
      "cell_type": "code",
      "execution_count": null,
      "metadata": {
        "colab": {
          "base_uri": "https://localhost:8080/"
        },
        "id": "qJgHhasH8vKV",
        "outputId": "75c70c63-acd2-4cae-d7e6-5e1cbb8ffce4"
      },
      "outputs": [
        {
          "name": "stdout",
          "output_type": "stream",
          "text": [
            "@\n",
            "@@\n",
            "@@@\n",
            "@@@@\n",
            "@@@@@\n",
            "@@@@@@\n",
            "@@@@@@@\n",
            "@@@@@@@@\n",
            "@@@@@@@@@\n"
          ]
        }
      ],
      "source": [
        "for x in range (1,10) :\n",
        "  print ('@' * x)"
      ]
    },
    {
      "cell_type": "code",
      "execution_count": null,
      "metadata": {
        "colab": {
          "base_uri": "https://localhost:8080/"
        },
        "id": "Y7B0SQ658-ks",
        "outputId": "55446df7-8ee6-4712-cdcd-eb10cdb5154c"
      },
      "outputs": [
        {
          "name": "stdout",
          "output_type": "stream",
          "text": [
            "yes\n",
            "no\n",
            "why\n",
            "who\n",
            "when\n",
            "\n",
            "yes\n",
            "no\n",
            "why\n",
            "who\n",
            "when\n",
            "\n",
            "0\n",
            "1\n",
            "2\n",
            "3\n",
            "4\n"
          ]
        }
      ],
      "source": [
        "#using list with for loop\n",
        "\n",
        "my_list = ['yes', 'no', 'why', 'who', 'when']\n",
        "\n",
        "for word in my_list:\n",
        "  print (word)\n",
        "\n",
        "print()       #to give space\n",
        "\n",
        "for numbers in my_list:\n",
        "  print (numbers)\n",
        "\n",
        "print()       #to give space\n",
        "\n",
        "for numbers in range (len(my_list)):\n",
        "  print (numbers)"
      ]
    },
    {
      "cell_type": "code",
      "execution_count": null,
      "metadata": {
        "colab": {
          "base_uri": "https://localhost:8080/"
        },
        "id": "dPm4xk9uFC_u",
        "outputId": "4727fa53-7ae1-4244-e2a6-23bdf043db28"
      },
      "outputs": [
        {
          "name": "stdout",
          "output_type": "stream",
          "text": [
            "Apple is available for purchase\n",
            "Nokia is not available for purchase\n",
            "Vivo is available for purchase\n"
          ]
        }
      ],
      "source": [
        "## for loop and list\n",
        "\n",
        "phone_in_stock = ['apple', 'samsung', 'redmi', 'vivo']\n",
        "order_chart = ['apple', 'nokia', 'vivo']\n",
        "\n",
        "for phone in order_chart:               #this code is going to be looping on the order_chart\n",
        "  if phone in phone_in_stock:       #the IF statement will check if apple is in the phone_in_stock\n",
        "    print (f'{phone.title()} is available for purchase')            #it will be print that the phone is available\n",
        "  else:\n",
        "    print (f'{phone.title()} is not available for purchase')      #.title is to make the first letter in the result come out in capital letter"
      ]
    },
    {
      "cell_type": "code",
      "execution_count": null,
      "metadata": {
        "colab": {
          "base_uri": "https://localhost:8080/"
        },
        "id": "FrZmW0_fM8U5",
        "outputId": "817139bd-004a-4814-876b-74ee44f75b54"
      },
      "outputs": [
        {
          "name": "stdout",
          "output_type": "stream",
          "text": [
            "location\n",
            "bank\n",
            "team\n",
            "\n",
            "location\n",
            "bank\n",
            "team\n",
            "\n",
            "odeku\n",
            "heritage\n",
            "Ebanking\n",
            "\n",
            "('location', 'odeku')\n",
            "('bank', 'heritage')\n",
            "('team', 'Ebanking')\n",
            "\n",
            "location\n",
            "bank\n",
            "team\n",
            "\n",
            "odeku\n",
            "heritage\n",
            "Ebanking\n"
          ]
        }
      ],
      "source": [
        "## for loop and dict\n",
        "\n",
        "my_dict = {'location' : 'odeku', 'bank': 'heritage', 'team': 'Ebanking'}\n",
        "\n",
        "for keys in my_dict:        #by default if you look through a dict,it will print the keys\n",
        "  print (keys)\n",
        "\n",
        "print()\n",
        "\n",
        "for keys in my_dict.keys():        #print the keys manually using '.keys'\n",
        "  print (keys)\n",
        "\n",
        "print ()\n",
        "\n",
        "## to get the values\n",
        "\n",
        "for keys in my_dict.values():        #to get the values\n",
        "  print (keys)\n",
        "\n",
        "print ()\n",
        "\n",
        "## to get all items\n",
        "\n",
        "for keys in my_dict.items():        #to get all the items in the dict\n",
        "  print (keys)                #when you look through a dict, the values are coming out as a tuple\n",
        "\n",
        "print ()\n",
        "\n",
        "## to access only the keys\n",
        "\n",
        "for keys in my_dict.items():\n",
        "  print (keys [0])                #when you look through a dict, the values are coming out as a tuple\n",
        "\n",
        "print()\n",
        "\n",
        "## to access only the values\n",
        "\n",
        "for keys in my_dict.items():\n",
        "  print (keys [1])"
      ]
    },
    {
      "cell_type": "code",
      "execution_count": null,
      "metadata": {
        "colab": {
          "base_uri": "https://localhost:8080/"
        },
        "id": "X-oqkcrnB_Nm",
        "outputId": "a321b408-17f8-4435-add7-fd5362ad81dc"
      },
      "outputs": [
        {
          "name": "stdout",
          "output_type": "stream",
          "text": [
            "0\n",
            "1\n",
            "2\n",
            "3\n",
            "4\n",
            "5\n",
            "6\n",
            "7\n",
            "8\n",
            "9\n"
          ]
        }
      ],
      "source": [
        "#We set a counter and it executes\n",
        "\n",
        "#Execuse a code using a counter loop\n",
        "\n",
        "for number in range (0,10):\n",
        "  print(number)"
      ]
    },
    {
      "cell_type": "code",
      "execution_count": null,
      "metadata": {
        "colab": {
          "base_uri": "https://localhost:8080/"
        },
        "id": "LU9qb8knB_Np",
        "outputId": "75c70c63-acd2-4cae-d7e6-5e1cbb8ffce4"
      },
      "outputs": [
        {
          "name": "stdout",
          "output_type": "stream",
          "text": [
            "@\n",
            "@@\n",
            "@@@\n",
            "@@@@\n",
            "@@@@@\n",
            "@@@@@@\n",
            "@@@@@@@\n",
            "@@@@@@@@\n",
            "@@@@@@@@@\n"
          ]
        }
      ],
      "source": [
        "for x in range (1,10) :\n",
        "  print ('@' * x)"
      ]
    },
    {
      "cell_type": "code",
      "execution_count": null,
      "metadata": {
        "colab": {
          "base_uri": "https://localhost:8080/"
        },
        "id": "57SXy7XIB_Nq",
        "outputId": "55446df7-8ee6-4712-cdcd-eb10cdb5154c"
      },
      "outputs": [
        {
          "name": "stdout",
          "output_type": "stream",
          "text": [
            "yes\n",
            "no\n",
            "why\n",
            "who\n",
            "when\n",
            "\n",
            "yes\n",
            "no\n",
            "why\n",
            "who\n",
            "when\n",
            "\n",
            "0\n",
            "1\n",
            "2\n",
            "3\n",
            "4\n"
          ]
        }
      ],
      "source": [
        "#using list with for loop\n",
        "\n",
        "my_list = ['yes', 'no', 'why', 'who', 'when']\n",
        "\n",
        "for word in my_list:\n",
        "  print (word)\n",
        "\n",
        "print()       #to give space\n",
        "\n",
        "for numbers in my_list:\n",
        "  print (numbers)\n",
        "\n",
        "print()       #to give space\n",
        "\n",
        "for numbers in range (len(my_list)):\n",
        "  print (numbers)"
      ]
    },
    {
      "cell_type": "code",
      "execution_count": null,
      "metadata": {
        "colab": {
          "base_uri": "https://localhost:8080/"
        },
        "id": "O0MTJw8pB_Nt",
        "outputId": "4727fa53-7ae1-4244-e2a6-23bdf043db28"
      },
      "outputs": [
        {
          "name": "stdout",
          "output_type": "stream",
          "text": [
            "Apple is available for purchase\n",
            "Nokia is not available for purchase\n",
            "Vivo is available for purchase\n"
          ]
        }
      ],
      "source": [
        "## for loop and list\n",
        "phone_in_stock = ['apple', 'samsung', 'redmi', 'vivo']\n",
        "order_chart = ['apple', 'nokia', 'vivo']\n",
        "\n",
        "for phone in order_chart:               #this code is going to be looping on the order_chart\n",
        "  if phone in phone_in_stock:       #the IF statement will check if apple is in the phone_in_stock\n",
        "    print (f'{phone.title()} is available for purchase')            #it will be print that the phone is available\n",
        "  else:\n",
        "    print (f'{phone.title()} is not available for purchase')      #.title is to make the first letter in the result come out in capital letter"
      ]
    },
    {
      "cell_type": "code",
      "execution_count": null,
      "metadata": {
        "colab": {
          "base_uri": "https://localhost:8080/"
        },
        "id": "V1NRrOXSB_Ny",
        "outputId": "817139bd-004a-4814-876b-74ee44f75b54"
      },
      "outputs": [
        {
          "name": "stdout",
          "output_type": "stream",
          "text": [
            "location\n",
            "bank\n",
            "team\n",
            "\n",
            "location\n",
            "bank\n",
            "team\n",
            "\n",
            "odeku\n",
            "heritage\n",
            "Ebanking\n",
            "\n",
            "('location', 'odeku')\n",
            "('bank', 'heritage')\n",
            "('team', 'Ebanking')\n",
            "\n",
            "location\n",
            "bank\n",
            "team\n",
            "\n",
            "odeku\n",
            "heritage\n",
            "Ebanking\n"
          ]
        }
      ],
      "source": [
        "## for loop and dict\n",
        "\n",
        "my_dict = {'location' : 'odeku', 'bank': 'heritage', 'team': 'Ebanking'}\n",
        "\n",
        "for keys in my_dict:        #by default if you look through a dict,it will print the keys\n",
        "  print (keys)\n",
        "\n",
        "print()\n",
        "\n",
        "for keys in my_dict.keys():        #print the keys manually using '.keys'\n",
        "  print (keys)\n",
        "\n",
        "print ()\n",
        "\n",
        "## to get the values\n",
        "\n",
        "for keys in my_dict.values():        #to get the values\n",
        "  print (keys)\n",
        "\n",
        "print ()\n",
        "\n",
        "## to get all items\n",
        "\n",
        "for keys in my_dict.items():        #to get all the items in the dict\n",
        "  print (keys)                #when you look through a dict, the values are coming out as a tuple\n",
        "\n",
        "print ()\n",
        "\n",
        "## to access only the keys\n",
        "\n",
        "for keys in my_dict.items():\n",
        "  print (keys [0])                #when you look through a dict, the values are coming out as a tuple\n",
        "\n",
        "print()\n",
        "\n",
        "## to access only the values\n",
        "\n",
        "for keys in my_dict.items():\n",
        "  print (keys [1])"
      ]
    },
    {
      "cell_type": "markdown",
      "metadata": {
        "id": "oeuhfmcPES_P"
      },
      "source": [
        "# **WHILE LOOP**\n",
        "\n",
        "*   Check if a condition is true before executing a block of code\n",
        "*   If the condition is False, it wont execuse\n",
        "*   While loop use what we call a counter\n",
        "*   The counter is what we can use to condition the looping\n",
        "*   in while loop, you first set a counter, then after setting a counter you set a condition\n",
        "*   You can also decide not to set a counter and just write a condition, as long as that condition is valid it would run but if its not valid, it wont run\n"
      ]
    },
    {
      "cell_type": "code",
      "execution_count": null,
      "metadata": {
        "colab": {
          "base_uri": "https://localhost:8080/"
        },
        "id": "e3Z4El_JB_N0",
        "outputId": "4d3e4338-b516-4b94-9721-336d44fa3921"
      },
      "outputs": [
        {
          "output_type": "stream",
          "name": "stdout",
          "text": [
            "1\n",
            "2\n",
            "3\n",
            "4\n",
            "5\n",
            "6\n",
            "7\n",
            "8\n",
            "9\n",
            "10\n",
            "11\n",
            "12\n",
            "13\n",
            "14\n"
          ]
        }
      ],
      "source": [
        "#counter\n",
        "x = 1\n",
        "while x < 15:\n",
        "  print (x)\n",
        "  x = x + 1\n",
        "\n",
        "               #we are incrementing our counter"
      ]
    },
    {
      "cell_type": "code",
      "source": [
        "#counter\n",
        "x = 1\n",
        "while x < 10:\n",
        "  print (x, end = '')\n",
        "  x = x + 1"
      ],
      "metadata": {
        "colab": {
          "base_uri": "https://localhost:8080/"
        },
        "id": "XNGz9LdVQPk6",
        "outputId": "5122c171-7208-4d0f-a3c7-c27658611b56"
      },
      "execution_count": null,
      "outputs": [
        {
          "output_type": "stream",
          "name": "stdout",
          "text": [
            "123456789"
          ]
        }
      ]
    },
    {
      "cell_type": "code",
      "source": [
        "#counter\n",
        "x = 1\n",
        "while x < 10:          #we are incrementing our counter\n",
        "  print ('@' * x)\n",
        "  x = x + 1"
      ],
      "metadata": {
        "colab": {
          "base_uri": "https://localhost:8080/"
        },
        "id": "qnKsybFhQS_w",
        "outputId": "543012b2-d5eb-4e4a-9b15-8ee9adddb01a"
      },
      "execution_count": null,
      "outputs": [
        {
          "output_type": "stream",
          "name": "stdout",
          "text": [
            "@\n",
            "@@\n",
            "@@@\n",
            "@@@@\n",
            "@@@@@\n",
            "@@@@@@\n",
            "@@@@@@@\n",
            "@@@@@@@@\n",
            "@@@@@@@@@\n"
          ]
        }
      ]
    },
    {
      "cell_type": "code",
      "source": [
        "## using list and while loop\n",
        "my_list = ['yes', 'no', 'why', 'who', 'when']\n",
        "word = 0\n",
        "\n",
        "while word < len(my_list):\n",
        "  print (my_list[word])\n",
        "  word = word + 1"
      ],
      "metadata": {
        "colab": {
          "base_uri": "https://localhost:8080/"
        },
        "id": "heagTDKAQXZW",
        "outputId": "60ff876a-898d-4ac1-9771-3bc44b4997af"
      },
      "execution_count": null,
      "outputs": [
        {
          "output_type": "stream",
          "name": "stdout",
          "text": [
            "yes\n",
            "no\n",
            "why\n",
            "who\n",
            "when\n"
          ]
        }
      ]
    },
    {
      "cell_type": "code",
      "source": [
        "## while loop and list\n",
        "phone_in_stock = ['apple', 'samsung', 'redmi', 'vivo']\n",
        "order_chart = ['apple', 'nokia', 'vivo']\n",
        "\n",
        "while order_chart:\n",
        "  phone = order_chart.pop()\n",
        "  if phone in phone_in_stock:\n",
        "    print (f'{phone.title()} is available for purchase!')\n",
        "  else:\n",
        "    print (f'{phone.title()} is not available for purchase!')\n"
      ],
      "metadata": {
        "colab": {
          "base_uri": "https://localhost:8080/"
        },
        "id": "LP9ibQO2Q8gK",
        "outputId": "6bbe6f35-29a2-4007-a388-de07bb43445a"
      },
      "execution_count": null,
      "outputs": [
        {
          "output_type": "stream",
          "name": "stdout",
          "text": [
            "Vivo is available for purchase!\n",
            "Nokia is not available for purchase!\n",
            "Apple is available for purchase!\n"
          ]
        }
      ]
    },
    {
      "cell_type": "code",
      "source": [
        "#Infinite loop\n",
        "#it wont stop until you stop it yourself or type the word in the if statement\n",
        "process = True\n",
        "\n",
        "while process:\n",
        "  print ('how are you')\n",
        "  x = input('Enter * >> ').lower()\n",
        "  if x == 'stop' :        #The code wont stop running until ypu type stop\n",
        "    process = False"
      ],
      "metadata": {
        "colab": {
          "base_uri": "https://localhost:8080/"
        },
        "id": "wmTipWrMXhlC",
        "outputId": "28b2108e-eb89-4888-8f3d-387d681288f2"
      },
      "execution_count": null,
      "outputs": [
        {
          "name": "stdout",
          "output_type": "stream",
          "text": [
            "how are you\n",
            "Enter * >> 55\n",
            "how are you\n",
            "Enter * >> Im fime\n",
            "how are you\n",
            "Enter * >> free me \n",
            "how are you\n",
            "Enter * >> stop\n"
          ]
        }
      ]
    },
    {
      "cell_type": "code",
      "source": [
        "#pass\n",
        "process = True\n",
        "\n",
        "while process:\n",
        "  print ('how are you')\n",
        "  x = input('Enter * >> ').lower()\n",
        "  if x == 'stop' :\n",
        "    pass                #it wont stop until you stop it manually"
      ],
      "metadata": {
        "colab": {
          "base_uri": "https://localhost:8080/",
          "height": 446
        },
        "id": "NkdMlIJ0Z0YQ",
        "outputId": "97dce5f0-5a1c-44a1-b4a6-b6c047e0dd00"
      },
      "execution_count": null,
      "outputs": [
        {
          "output_type": "stream",
          "name": "stdout",
          "text": [
            "how are you\n"
          ]
        },
        {
          "output_type": "error",
          "ename": "KeyboardInterrupt",
          "evalue": "ignored",
          "traceback": [
            "\u001b[0;31m---------------------------------------------------------------------------\u001b[0m",
            "\u001b[0;31mKeyboardInterrupt\u001b[0m                         Traceback (most recent call last)",
            "\u001b[0;32m<ipython-input-19-15c153ce87eb>\u001b[0m in \u001b[0;36m<cell line: 3>\u001b[0;34m()\u001b[0m\n\u001b[1;32m      3\u001b[0m \u001b[0;32mwhile\u001b[0m \u001b[0mprocess\u001b[0m\u001b[0;34m:\u001b[0m\u001b[0;34m\u001b[0m\u001b[0;34m\u001b[0m\u001b[0m\n\u001b[1;32m      4\u001b[0m   \u001b[0mprint\u001b[0m \u001b[0;34m(\u001b[0m\u001b[0;34m'how are you'\u001b[0m\u001b[0;34m)\u001b[0m\u001b[0;34m\u001b[0m\u001b[0;34m\u001b[0m\u001b[0m\n\u001b[0;32m----> 5\u001b[0;31m   \u001b[0mx\u001b[0m \u001b[0;34m=\u001b[0m \u001b[0minput\u001b[0m\u001b[0;34m(\u001b[0m\u001b[0;34m'Enter * >> '\u001b[0m\u001b[0;34m)\u001b[0m\u001b[0;34m.\u001b[0m\u001b[0mlower\u001b[0m\u001b[0;34m(\u001b[0m\u001b[0;34m)\u001b[0m\u001b[0;34m\u001b[0m\u001b[0;34m\u001b[0m\u001b[0m\n\u001b[0m\u001b[1;32m      6\u001b[0m   \u001b[0;32mif\u001b[0m \u001b[0mx\u001b[0m \u001b[0;34m==\u001b[0m \u001b[0;34m'stop'\u001b[0m \u001b[0;34m:\u001b[0m\u001b[0;34m\u001b[0m\u001b[0;34m\u001b[0m\u001b[0m\n\u001b[1;32m      7\u001b[0m     \u001b[0;32mpass\u001b[0m\u001b[0;34m\u001b[0m\u001b[0;34m\u001b[0m\u001b[0m\n",
            "\u001b[0;32m/usr/local/lib/python3.10/dist-packages/ipykernel/kernelbase.py\u001b[0m in \u001b[0;36mraw_input\u001b[0;34m(self, prompt)\u001b[0m\n\u001b[1;32m    849\u001b[0m                 \u001b[0;34m\"raw_input was called, but this frontend does not support input requests.\"\u001b[0m\u001b[0;34m\u001b[0m\u001b[0;34m\u001b[0m\u001b[0m\n\u001b[1;32m    850\u001b[0m             )\n\u001b[0;32m--> 851\u001b[0;31m         return self._input_request(str(prompt),\n\u001b[0m\u001b[1;32m    852\u001b[0m             \u001b[0mself\u001b[0m\u001b[0;34m.\u001b[0m\u001b[0m_parent_ident\u001b[0m\u001b[0;34m,\u001b[0m\u001b[0;34m\u001b[0m\u001b[0;34m\u001b[0m\u001b[0m\n\u001b[1;32m    853\u001b[0m             \u001b[0mself\u001b[0m\u001b[0;34m.\u001b[0m\u001b[0m_parent_header\u001b[0m\u001b[0;34m,\u001b[0m\u001b[0;34m\u001b[0m\u001b[0;34m\u001b[0m\u001b[0m\n",
            "\u001b[0;32m/usr/local/lib/python3.10/dist-packages/ipykernel/kernelbase.py\u001b[0m in \u001b[0;36m_input_request\u001b[0;34m(self, prompt, ident, parent, password)\u001b[0m\n\u001b[1;32m    893\u001b[0m             \u001b[0;32mexcept\u001b[0m \u001b[0mKeyboardInterrupt\u001b[0m\u001b[0;34m:\u001b[0m\u001b[0;34m\u001b[0m\u001b[0;34m\u001b[0m\u001b[0m\n\u001b[1;32m    894\u001b[0m                 \u001b[0;31m# re-raise KeyboardInterrupt, to truncate traceback\u001b[0m\u001b[0;34m\u001b[0m\u001b[0;34m\u001b[0m\u001b[0m\n\u001b[0;32m--> 895\u001b[0;31m                 \u001b[0;32mraise\u001b[0m \u001b[0mKeyboardInterrupt\u001b[0m\u001b[0;34m(\u001b[0m\u001b[0;34m\"Interrupted by user\"\u001b[0m\u001b[0;34m)\u001b[0m \u001b[0;32mfrom\u001b[0m \u001b[0;32mNone\u001b[0m\u001b[0;34m\u001b[0m\u001b[0;34m\u001b[0m\u001b[0m\n\u001b[0m\u001b[1;32m    896\u001b[0m             \u001b[0;32mexcept\u001b[0m \u001b[0mException\u001b[0m \u001b[0;32mas\u001b[0m \u001b[0me\u001b[0m\u001b[0;34m:\u001b[0m\u001b[0;34m\u001b[0m\u001b[0;34m\u001b[0m\u001b[0m\n\u001b[1;32m    897\u001b[0m                 \u001b[0mself\u001b[0m\u001b[0;34m.\u001b[0m\u001b[0mlog\u001b[0m\u001b[0;34m.\u001b[0m\u001b[0mwarning\u001b[0m\u001b[0;34m(\u001b[0m\u001b[0;34m\"Invalid Message:\"\u001b[0m\u001b[0;34m,\u001b[0m \u001b[0mexc_info\u001b[0m\u001b[0;34m=\u001b[0m\u001b[0;32mTrue\u001b[0m\u001b[0;34m)\u001b[0m\u001b[0;34m\u001b[0m\u001b[0;34m\u001b[0m\u001b[0m\n",
            "\u001b[0;31mKeyboardInterrupt\u001b[0m: Interrupted by user"
          ]
        }
      ]
    },
    {
      "cell_type": "code",
      "source": [
        "#break\n",
        "process = True\n",
        "\n",
        "while process:\n",
        "  print ('how are you')\n",
        "  x = input('Enter * >> ').lower()\n",
        "  if x == 'stop' :\n",
        "    break"
      ],
      "metadata": {
        "colab": {
          "base_uri": "https://localhost:8080/"
        },
        "id": "WtpWYfCi0E7Y",
        "outputId": "6cda9dce-1900-4597-b99c-cb77e1022c57"
      },
      "execution_count": null,
      "outputs": [
        {
          "name": "stdout",
          "output_type": "stream",
          "text": [
            "how are you\n",
            "Enter * >> get\n",
            "how are you\n",
            "Enter * >> tes\n",
            "how are you\n",
            "Enter * >> okay\n",
            "how are you\n",
            "Enter * >> stop\n"
          ]
        }
      ]
    },
    {
      "cell_type": "markdown",
      "source": [
        "# **NESTEED LOOP**"
      ],
      "metadata": {
        "id": "bBpgoC9onrgo"
      }
    },
    {
      "cell_type": "code",
      "source": [
        "for outer_number in range (1,11):       #outer loop will run only once\n",
        "  for inner_number in range (1,6):        #inner loop will run for 5times\n",
        "    print (inner_number, end= '')\n",
        "  print (f'\\t {outer_number}')"
      ],
      "metadata": {
        "colab": {
          "base_uri": "https://localhost:8080/"
        },
        "id": "6HWVnSUeoUUL",
        "outputId": "76536d8f-62da-4877-aec8-315b5a4266d4"
      },
      "execution_count": null,
      "outputs": [
        {
          "output_type": "stream",
          "name": "stdout",
          "text": [
            "12345\t 1\n",
            "12345\t 2\n",
            "12345\t 3\n",
            "12345\t 4\n",
            "12345\t 5\n",
            "12345\t 6\n",
            "12345\t 7\n",
            "12345\t 8\n",
            "12345\t 9\n",
            "12345\t 10\n"
          ]
        }
      ]
    },
    {
      "cell_type": "code",
      "source": [
        "#for context\n",
        "for outer_number in range (1,11):\n",
        "  print (outer_number)\n",
        "\n",
        "print ()\n",
        "\n",
        "for outer_number in range (1,11):\n",
        "  print (outer_number, end= '')\n",
        "\n",
        "print ()\n",
        "print ()\n",
        "\n",
        "for inner_number in range (1,6):\n",
        "  print (inner_number)\n",
        "\n",
        "  print ()\n",
        "\n",
        "for inner_number in range (1,6):\n",
        "  print (inner_number, end= '')\n",
        "\n"
      ],
      "metadata": {
        "colab": {
          "base_uri": "https://localhost:8080/"
        },
        "id": "6Y3n0iYzsbum",
        "outputId": "d2b4e2d3-d96e-4f97-f67e-95e9a4230b8e"
      },
      "execution_count": null,
      "outputs": [
        {
          "output_type": "stream",
          "name": "stdout",
          "text": [
            "1\n",
            "2\n",
            "3\n",
            "4\n",
            "5\n",
            "6\n",
            "7\n",
            "8\n",
            "9\n",
            "10\n",
            "\n",
            "12345678910\n",
            "\n",
            "1\n",
            "\n",
            "2\n",
            "\n",
            "3\n",
            "\n",
            "4\n",
            "\n",
            "5\n",
            "\n",
            "12345"
          ]
        }
      ]
    },
    {
      "cell_type": "code",
      "source": [
        "for outer_number in range (1,11):\n",
        "   print (f'Outer loop running for the {outer_number} time')\n",
        "   print ()\n",
        "   for inner_number in range (1,6):\n",
        "     print (f'Iuter loop running for the {inner_number} time')\n"
      ],
      "metadata": {
        "colab": {
          "base_uri": "https://localhost:8080/"
        },
        "id": "BuOTq8GVybnO",
        "outputId": "5212ef1b-268d-4d9c-88ce-0d96ce2bc78d"
      },
      "execution_count": null,
      "outputs": [
        {
          "output_type": "stream",
          "name": "stdout",
          "text": [
            "Outer loop running for the 1 time\n",
            "\n",
            "Iuter loop running for the 1 time\n",
            "Iuter loop running for the 2 time\n",
            "Iuter loop running for the 3 time\n",
            "Iuter loop running for the 4 time\n",
            "Iuter loop running for the 5 time\n",
            "Outer loop running for the 2 time\n",
            "\n",
            "Iuter loop running for the 1 time\n",
            "Iuter loop running for the 2 time\n",
            "Iuter loop running for the 3 time\n",
            "Iuter loop running for the 4 time\n",
            "Iuter loop running for the 5 time\n",
            "Outer loop running for the 3 time\n",
            "\n",
            "Iuter loop running for the 1 time\n",
            "Iuter loop running for the 2 time\n",
            "Iuter loop running for the 3 time\n",
            "Iuter loop running for the 4 time\n",
            "Iuter loop running for the 5 time\n",
            "Outer loop running for the 4 time\n",
            "\n",
            "Iuter loop running for the 1 time\n",
            "Iuter loop running for the 2 time\n",
            "Iuter loop running for the 3 time\n",
            "Iuter loop running for the 4 time\n",
            "Iuter loop running for the 5 time\n",
            "Outer loop running for the 5 time\n",
            "\n",
            "Iuter loop running for the 1 time\n",
            "Iuter loop running for the 2 time\n",
            "Iuter loop running for the 3 time\n",
            "Iuter loop running for the 4 time\n",
            "Iuter loop running for the 5 time\n",
            "Outer loop running for the 6 time\n",
            "\n",
            "Iuter loop running for the 1 time\n",
            "Iuter loop running for the 2 time\n",
            "Iuter loop running for the 3 time\n",
            "Iuter loop running for the 4 time\n",
            "Iuter loop running for the 5 time\n",
            "Outer loop running for the 7 time\n",
            "\n",
            "Iuter loop running for the 1 time\n",
            "Iuter loop running for the 2 time\n",
            "Iuter loop running for the 3 time\n",
            "Iuter loop running for the 4 time\n",
            "Iuter loop running for the 5 time\n",
            "Outer loop running for the 8 time\n",
            "\n",
            "Iuter loop running for the 1 time\n",
            "Iuter loop running for the 2 time\n",
            "Iuter loop running for the 3 time\n",
            "Iuter loop running for the 4 time\n",
            "Iuter loop running for the 5 time\n",
            "Outer loop running for the 9 time\n",
            "\n",
            "Iuter loop running for the 1 time\n",
            "Iuter loop running for the 2 time\n",
            "Iuter loop running for the 3 time\n",
            "Iuter loop running for the 4 time\n",
            "Iuter loop running for the 5 time\n",
            "Outer loop running for the 10 time\n",
            "\n",
            "Iuter loop running for the 1 time\n",
            "Iuter loop running for the 2 time\n",
            "Iuter loop running for the 3 time\n",
            "Iuter loop running for the 4 time\n",
            "Iuter loop running for the 5 time\n"
          ]
        }
      ]
    }
  ],
  "metadata": {
    "colab": {
      "provenance": [],
      "collapsed_sections": [
        "zBFM5zzvtd4I",
        "WuXr2QRLtLdl"
      ]
    },
    "kernelspec": {
      "display_name": "Python 3",
      "name": "python3"
    },
    "language_info": {
      "name": "python"
    }
  },
  "nbformat": 4,
  "nbformat_minor": 0
}