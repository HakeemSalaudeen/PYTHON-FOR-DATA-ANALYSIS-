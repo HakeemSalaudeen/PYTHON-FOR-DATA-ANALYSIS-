{
  "nbformat": 4,
  "nbformat_minor": 0,
  "metadata": {
    "colab": {
      "provenance": []
    },
    "kernelspec": {
      "name": "python3",
      "display_name": "Python 3"
    },
    "language_info": {
      "name": "python"
    }
  },
  "cells": [
    {
      "cell_type": "markdown",
      "source": [
        "# **FUNCTION**\n",
        "\n",
        "*   Ever since we av been writing code, we call it out\n",
        "*   But function is the way we simplify our code\n",
        "\n",
        "\n"
      ],
      "metadata": {
        "id": "Dnkt6OETHOX6"
      }
    },
    {
      "cell_type": "code",
      "source": [
        "#find the highest mnumber in a list udsing the max function\n",
        "#inbuilt function\n",
        "\n",
        "my_list = [2,9,47,8,11,50]\n",
        "max_number = max(my_list)\n",
        "print (max(my_list))"
      ],
      "metadata": {
        "colab": {
          "base_uri": "https://localhost:8080/"
        },
        "id": "5u272EDBHgp3",
        "outputId": "8f2a7b41-84a5-402f-a3fd-00143456743e"
      },
      "execution_count": null,
      "outputs": [
        {
          "output_type": "stream",
          "name": "stdout",
          "text": [
            "50\n"
          ]
        }
      ]
    },
    {
      "cell_type": "code",
      "source": [
        "#using the sorted method and indexing to find the highest mnumber in a list\n",
        "\n",
        "my_list_sort = sorted(my_list, reverse = True)\n",
        "max_number = my_list_sort[0]\n",
        "print (max_number)"
      ],
      "metadata": {
        "colab": {
          "base_uri": "https://localhost:8080/"
        },
        "id": "U05DM1K6HqoO",
        "outputId": "cdc46437-b1c2-45a7-ba8c-2f415158fcb8"
      },
      "execution_count": null,
      "outputs": [
        {
          "output_type": "stream",
          "name": "stdout",
          "text": [
            "50\n"
          ]
        }
      ]
    },
    {
      "cell_type": "code",
      "source": [
        "##using the reverse method and indexing to find the highest mnumber in a list\n",
        "\n",
        "my_list.reverse()\n",
        "max_number = my_list[0]\n",
        "print (max_number)"
      ],
      "metadata": {
        "colab": {
          "base_uri": "https://localhost:8080/"
        },
        "id": "6QEKbs76Hyr-",
        "outputId": "20e0ab51-5523-447c-83a6-9276f088ef15"
      },
      "execution_count": null,
      "outputs": [
        {
          "output_type": "stream",
          "name": "stdout",
          "text": [
            "50\n"
          ]
        }
      ]
    },
    {
      "cell_type": "code",
      "source": [
        "##using the sort method and indexing to find the highest mnumber in a list\n",
        "my_list.sort()\n",
        "max_number = my_list[-1]\n",
        "print (max_number)"
      ],
      "metadata": {
        "colab": {
          "base_uri": "https://localhost:8080/"
        },
        "id": "JvlZCunxH164",
        "outputId": "d94129de-6d7c-484d-895e-53716cf58ae7"
      },
      "execution_count": null,
      "outputs": [
        {
          "output_type": "stream",
          "name": "stdout",
          "text": [
            "50\n"
          ]
        }
      ]
    },
    {
      "cell_type": "code",
      "source": [
        "##using the FOR LOOP method to find the highest mnumber in a list\n",
        "\n",
        "highest_number = my_list [0]\n",
        "\n",
        "for num in my_list:\n",
        "  if num > highest_number:\n",
        "    highest_number = num\n",
        "\n",
        "print('The highest number is:', highest_number)\n"
      ],
      "metadata": {
        "colab": {
          "base_uri": "https://localhost:8080/"
        },
        "id": "knMtxrCKK1Ao",
        "outputId": "a38f4cd7-d106-4f07-9ae7-6b468ada10c7"
      },
      "execution_count": null,
      "outputs": [
        {
          "output_type": "stream",
          "name": "stdout",
          "text": [
            "The highest number is: 50\n"
          ]
        }
      ]
    },
    {
      "cell_type": "markdown",
      "source": [
        "# **FUNCTION DECLARATION**\n",
        "\n",
        "*   When we want to write a function, we start with #def\n",
        "*   Followed by the function name with open bracket\n",
        "- The **return** is used to return a value/an answer... is it more like the print function\n",
        "\n"
      ],
      "metadata": {
        "id": "jQEFa4RJSrON"
      }
    },
    {
      "cell_type": "code",
      "source": [
        "def function_name_example ():\n",
        "  print ('This is a function')"
      ],
      "metadata": {
        "id": "jMSS8o1cTZzh"
      },
      "execution_count": null,
      "outputs": []
    },
    {
      "cell_type": "code",
      "source": [
        "function_name_example()"
      ],
      "metadata": {
        "colab": {
          "base_uri": "https://localhost:8080/"
        },
        "id": "Mxs2kMSsTqng",
        "outputId": "e885703c-221e-4b6b-c148-8be1419a377c"
      },
      "execution_count": null,
      "outputs": [
        {
          "output_type": "stream",
          "name": "stdout",
          "text": [
            "This is a function\n"
          ]
        }
      ]
    },
    {
      "cell_type": "code",
      "source": [
        "#fnction to add two numbers together\n",
        "\n",
        "def add_numbers (a,b):        #parameter\n",
        "  c = a + b\n",
        "  return c\n",
        "\n",
        "c = add_numbers (4,5)         #argument\n",
        "\n",
        "print(c)"
      ],
      "metadata": {
        "colab": {
          "base_uri": "https://localhost:8080/"
        },
        "id": "WLmoMV1aT08w",
        "outputId": "d415bab8-74ef-49b1-c48a-24d66c8e25c1"
      },
      "execution_count": null,
      "outputs": [
        {
          "output_type": "stream",
          "name": "stdout",
          "text": [
            "9\n"
          ]
        }
      ]
    },
    {
      "cell_type": "code",
      "source": [
        "num1 = 20\n",
        "num2 = 40\n",
        "\n",
        "result = add_numbers(num1,num2)\n",
        "print(result)"
      ],
      "metadata": {
        "colab": {
          "base_uri": "https://localhost:8080/"
        },
        "id": "FnOXsL9NcXQX",
        "outputId": "1e4dc27e-c633-41f4-e8cb-01b646ca6e63"
      },
      "execution_count": null,
      "outputs": [
        {
          "output_type": "stream",
          "name": "stdout",
          "text": [
            "60\n"
          ]
        }
      ]
    },
    {
      "cell_type": "code",
      "source": [
        "#making it interactive\n",
        "\n",
        "num3 = int(input('Enter any number: '))\n",
        "num4 = int(input('Enter any number: '))\n",
        "\n",
        "result = add_numbers(num3,num4)\n",
        "print()\n",
        "print (f'The answer is {result}')"
      ],
      "metadata": {
        "colab": {
          "base_uri": "https://localhost:8080/"
        },
        "id": "4O9h1-u5ez-t",
        "outputId": "0f252101-baa4-4446-8d7e-23bd6ec9b745"
      },
      "execution_count": null,
      "outputs": [
        {
          "output_type": "stream",
          "name": "stdout",
          "text": [
            "Enter any number: 500\n",
            "Enter any number: 600\n",
            "\n",
            "The answer is 1100\n"
          ]
        }
      ]
    },
    {
      "cell_type": "code",
      "source": [
        "#Creating a function to greet\n",
        "\n",
        "def greet(name):                          ##parameter\n",
        "  return f'hello \"{name}\"'                ##because we are using return, we av to save whatever comes from it as a varaible\n",
        "\n",
        "\n",
        "\n",
        "user = input ('Enter your name: ')            #argument     #this is the variable       #the varaible is an argument\n",
        "output = greet (user)\n",
        "print(output)                                 #it will print whatever name inputed into the variable\n",
        "\n"
      ],
      "metadata": {
        "id": "1DX_ZEyUgdFU",
        "colab": {
          "base_uri": "https://localhost:8080/"
        },
        "outputId": "9c7e1ecf-7da0-4aae-9d94-078571ee58d7"
      },
      "execution_count": null,
      "outputs": [
        {
          "output_type": "stream",
          "name": "stdout",
          "text": [
            "Enter your name: akym\n",
            "hello \"akym\"\n"
          ]
        }
      ]
    },
    {
      "cell_type": "code",
      "source": [
        "#Another_example\n",
        "Another_example = greet('tobi')\n",
        "print (Another_example)"
      ],
      "metadata": {
        "id": "pL7j8HuKeMYH",
        "colab": {
          "base_uri": "https://localhost:8080/"
        },
        "outputId": "54c2a33c-3a7e-4d7a-abb4-00d7898587cc"
      },
      "execution_count": null,
      "outputs": [
        {
          "output_type": "stream",
          "name": "stdout",
          "text": [
            "hello \"tobi\"\n"
          ]
        }
      ]
    },
    {
      "cell_type": "code",
      "source": [
        "def max (listt):\n",
        "  max = listt[0]\n",
        "\n",
        "  for num in listt:\n",
        "    if num > max:\n",
        "      max = num\n",
        "\n",
        "  return f'The highest number is:', max\n",
        "\n",
        "\n",
        "my_list = [2,9,47,11,50]\n",
        "highest_number = max(my_list)\n",
        "\n",
        "print (highest_number)"
      ],
      "metadata": {
        "colab": {
          "base_uri": "https://localhost:8080/"
        },
        "id": "-RKEbpI9nytA",
        "outputId": "456a241f-eaec-41ed-cd84-3a283062f590"
      },
      "execution_count": null,
      "outputs": [
        {
          "output_type": "stream",
          "name": "stdout",
          "text": [
            "('The highest number is:', 50)\n"
          ]
        }
      ]
    },
    {
      "cell_type": "code",
      "source": [
        "def max_number (listt_of_numbers):\n",
        "  highest_number = listt_of_numbers[0]\n",
        "\n",
        "  for num in listt_of_numbers:\n",
        "    if num > highest_number:\n",
        "      highest_number = num\n",
        "\n",
        "  print ('The highest number is:', highest_number)\n",
        "\n",
        "\n",
        "my_list = [2,9,47,11,50]\n",
        "max_number(my_list)                #max_number is the function created"
      ],
      "metadata": {
        "colab": {
          "base_uri": "https://localhost:8080/"
        },
        "id": "YJtVNfGPo7M1",
        "outputId": "5c0dc21a-f543-449b-91d5-bba0931bfddf"
      },
      "execution_count": null,
      "outputs": [
        {
          "output_type": "stream",
          "name": "stdout",
          "text": [
            "The highest number is: 50\n"
          ]
        }
      ]
    },
    {
      "cell_type": "markdown",
      "source": [
        "# **PRACTICE**\n",
        "\n",
        "A PROGRAM To allow a user to enter the number of sequence of digit they want to input and then find out the maximum number using a function\n",
        "\n",
        "Steps:\n",
        "*   Create a function to find max\n",
        "*   Create a loop to determine the input of number\n",
        "- Find the maximum of the numbers and return the answer\n",
        "\n"
      ],
      "metadata": {
        "id": "3wZxA1Aw9tMa"
      }
    },
    {
      "cell_type": "code",
      "source": [
        "## how to create a program where users enter a list of numbers and when they are done, we will find the highest\n",
        "\n",
        "def max_number ():\n",
        "  list1 = list (map(int, input ('please enter multiple values seperated by space: ').split(' ')))             #mapping: its applies a function on a list of iteration\n",
        "  max = list1[0]\n",
        "  for t in list1:\n",
        "    if t > max:\n",
        "      max = t\n",
        "  return max"
      ],
      "metadata": {
        "id": "HCoVl5Yp24Hr"
      },
      "execution_count": null,
      "outputs": []
    },
    {
      "cell_type": "code",
      "source": [
        "result = max_number()\n",
        "print (result)\n"
      ],
      "metadata": {
        "colab": {
          "base_uri": "https://localhost:8080/"
        },
        "id": "tt9YLhQ0PF_w",
        "outputId": "ca3d915b-c228-4f5b-c7f9-50b58d997a02"
      },
      "execution_count": null,
      "outputs": [
        {
          "output_type": "stream",
          "name": "stdout",
          "text": [
            "please enter multiple values seperated by space: 1 58 689 7 95 878 89\n",
            "878\n"
          ]
        }
      ]
    },
    {
      "cell_type": "code",
      "source": [
        "## how to create a program where users enter a list of numbers and when they are done, we will find the highest\n",
        "\n",
        "def max_number ():\n",
        "  list1 = list (map(int, input ('please enter multiple values seperated by space: ').split(' ')))\n",
        "  return max (list1)\n",
        "\n",
        "result2 = max_number()\n",
        "print (result2)"
      ],
      "metadata": {
        "colab": {
          "base_uri": "https://localhost:8080/"
        },
        "id": "APRW7Ae6UsmJ",
        "outputId": "41836218-c6cf-472c-cc40-0ef60483610d"
      },
      "execution_count": null,
      "outputs": [
        {
          "output_type": "stream",
          "name": "stdout",
          "text": [
            "please enter multiple values seperated by space: 10 20 30 40 50\n",
            "('The highest number is:', 50)\n"
          ]
        }
      ]
    },
    {
      "cell_type": "markdown",
      "source": [
        "# **MAPPING**\n",
        "\n",
        "*   Applies a function on an iterable\n",
        "*   We can use map to change the values of a column\n",
        "\n"
      ],
      "metadata": {
        "id": "7JH0xIfFfxrP"
      }
    },
    {
      "cell_type": "code",
      "source": [
        "#function to find the square rooot of a number\n",
        "\n",
        "def square_root (number):\n",
        "  return number **2\n",
        "\n",
        "Result = square_root (50)\n",
        "print (Result)"
      ],
      "metadata": {
        "colab": {
          "base_uri": "https://localhost:8080/"
        },
        "id": "GeOGoCn6f6mx",
        "outputId": "740bf433-6844-47ef-e81f-1fcbf3219c4f"
      },
      "execution_count": null,
      "outputs": [
        {
          "output_type": "stream",
          "name": "stdout",
          "text": [
            "2500\n"
          ]
        }
      ]
    },
    {
      "cell_type": "code",
      "source": [
        "#function to calculate the square rooot of a number\n",
        "\n",
        "def square_num (number):\n",
        "  return pow (number, 2)            #pow means power, which means raised to the power of 2\n",
        "\n",
        "Result3 = square_num (100)\n",
        "print (Result3)"
      ],
      "metadata": {
        "colab": {
          "base_uri": "https://localhost:8080/"
        },
        "id": "7Db7jAJgwFrr",
        "outputId": "b66ade3d-c604-4eff-ea67-223d31ec24e5"
      },
      "execution_count": null,
      "outputs": [
        {
          "output_type": "stream",
          "name": "stdout",
          "text": [
            "10000\n"
          ]
        }
      ]
    },
    {
      "cell_type": "code",
      "source": [
        "listed_numbers = [2,3,4,5,6,7,8,9,50,5,3,7,6]\n",
        "\n",
        "listed_num = []\n",
        "\n",
        "for x in listed_numbers:\n",
        "  listed_num.append (square_num(x))\n",
        "\n",
        "print (listed_num)"
      ],
      "metadata": {
        "colab": {
          "base_uri": "https://localhost:8080/"
        },
        "id": "ELLy3DgbmSpJ",
        "outputId": "efa1ec8c-4910-417a-adac-db1772488423"
      },
      "execution_count": null,
      "outputs": [
        {
          "output_type": "stream",
          "name": "stdout",
          "text": [
            "[4, 9, 16, 25, 36, 49, 64, 81, 2500, 25, 9, 49, 36]\n"
          ]
        }
      ]
    },
    {
      "cell_type": "markdown",
      "source": [
        "# **MORE ON FUNCTION**"
      ],
      "metadata": {
        "id": "NgC2zU-dV4Jt"
      }
    },
    {
      "cell_type": "code",
      "source": [
        "def greet (name):\n",
        "  return f'hello, {name}'\n",
        "\n",
        "print (greet ('akym'))"
      ],
      "metadata": {
        "id": "39Xh8fnHWC5q",
        "colab": {
          "base_uri": "https://localhost:8080/"
        },
        "outputId": "95f3a6f0-d17a-440b-dacc-6b167f95f219"
      },
      "execution_count": null,
      "outputs": [
        {
          "output_type": "stream",
          "name": "stdout",
          "text": [
            "hello, akym\n"
          ]
        }
      ]
    },
    {
      "cell_type": "code",
      "source": [
        "#calculator function\n",
        "#in this case, the user will enter the operator they want to use\n",
        "\n",
        "def calculate(num1, num2, operator):\n",
        "  if operator == '+':\n",
        "    return num1 + num2\n",
        "  elif operator == '-':\n",
        "      return num1 - num2\n",
        "  elif operator == '*':\n",
        "      return num1 * num2\n",
        "  elif operator == '/':\n",
        "      if num2 != 0:                         #you can divide by 0\n",
        "        return num1 / num2\n",
        "      else:\n",
        "        return 'cannot divide by 0'\n",
        "  else:\n",
        "    return 'invalid operartor'\n"
      ],
      "metadata": {
        "id": "fIYnGFbP27z3"
      },
      "execution_count": null,
      "outputs": []
    },
    {
      "cell_type": "code",
      "source": [
        "result4 = calculate(2,4, '+')                          # num1 = 2, num 2= 4, '+' is the arithmethic operator\n",
        "print (result4)\n",
        "\n",
        "print()\n",
        "\n",
        "result5 = calculate(2,4, '-')                          # num1 = 2, num 2= 4, '-' is the arithmethic operator\n",
        "print (result5)\n",
        "\n",
        "print()\n",
        "\n",
        "result6 = calculate(2,4, '*')                          # num1 = 2, num 2= 4, '*' is the arithmethic operator\n",
        "print (result6)\n",
        "\n",
        "print ()\n",
        "\n",
        "result7 = calculate(2,4, '/')                          # num1 = 2, num 2= 4, '/' is the arithmethic operator\n",
        "print (result7)"
      ],
      "metadata": {
        "colab": {
          "base_uri": "https://localhost:8080/"
        },
        "id": "jqNmhrYK5chf",
        "outputId": "361d7136-73e7-4db4-bbff-a20e6deb44a0"
      },
      "execution_count": null,
      "outputs": [
        {
          "output_type": "stream",
          "name": "stdout",
          "text": [
            "6\n",
            "\n",
            "-2\n",
            "\n",
            "8\n",
            "\n",
            "0.5\n"
          ]
        }
      ]
    },
    {
      "cell_type": "code",
      "source": [
        "#using the input method to make it interactive\n",
        "num4 = int (input ('Enter any number: '))\n",
        "num5 = int (input ('Enter any number: '))\n",
        "operator = (input ('Enter operator: '))\n",
        "\n",
        "\n",
        "result8 = calculate (num4, num5, operator)\n",
        "\n",
        "print()\n",
        "print (result8)\n"
      ],
      "metadata": {
        "colab": {
          "base_uri": "https://localhost:8080/"
        },
        "id": "COph4VHIG4On",
        "outputId": "37de7d70-b1d6-4d32-b52f-f4339cb2719c"
      },
      "execution_count": null,
      "outputs": [
        {
          "output_type": "stream",
          "name": "stdout",
          "text": [
            "Enter any number: 500\n",
            "Enter any number: 50\n",
            "Enter operator: /\n",
            "\n",
            "10.0\n"
          ]
        }
      ]
    },
    {
      "cell_type": "code",
      "source": [
        "#pallindrome checker\n",
        "\n",
        "def is_it_a_pallindrome (string):\n",
        "\tclean_string = ''.join(string.split()).lower()\n",
        "\treturn clean_string == clean_string[::-1]\n",
        "\n",
        "parallindrome_checker = is_it_a_pallindrome ('level')\n",
        "print (parallindrome_checker)"
      ],
      "metadata": {
        "id": "ZtfbA8FFHeZx",
        "colab": {
          "base_uri": "https://localhost:8080/"
        },
        "outputId": "551a3eb2-03ef-4d04-84c2-966c3d1bac8c"
      },
      "execution_count": null,
      "outputs": [
        {
          "output_type": "stream",
          "name": "stdout",
          "text": [
            "True\n"
          ]
        }
      ]
    },
    {
      "cell_type": "code",
      "source": [
        "#factorial checker\n",
        "\n",
        "def factorial (n):\n",
        "\tif n == 0 or n == 1:\n",
        "\t\treturn 1\n",
        "\telse:\n",
        "\t\treturn n * factorial (n - 1)"
      ],
      "metadata": {
        "id": "chXNxbzJHs5u"
      },
      "execution_count": null,
      "outputs": []
    },
    {
      "cell_type": "code",
      "source": [
        "\n",
        "#factorial checker\n",
        "\n",
        "def factorial (n):\n",
        "\tif n== 0 or n ==1:\n",
        "\t\treturn 1\n",
        "\telse:\n",
        "\t\treturn n * factorial (n - 1)\n",
        "\n",
        "factorial_checker = factorial (5)\t\t\t\t#meaning 5*4*3*2*1\n",
        "print (factorial_checker)\n"
      ],
      "metadata": {
        "id": "V3uD95XCH_pu",
        "colab": {
          "base_uri": "https://localhost:8080/"
        },
        "outputId": "978b3d73-d106-46c2-cc8f-7f8b6deb6a52"
      },
      "execution_count": null,
      "outputs": [
        {
          "output_type": "stream",
          "name": "stdout",
          "text": [
            "120\n"
          ]
        }
      ]
    },
    {
      "cell_type": "code",
      "source": [
        "list4 = [2,3,4,5,6,79,19,17,13,35,37,38,25,68,11,23,25,28,12,10,8,9,5,7]\n",
        "\n",
        "list4.sort()\n",
        "print(list4)"
      ],
      "metadata": {
        "colab": {
          "base_uri": "https://localhost:8080/"
        },
        "id": "1y85nXhNBj41",
        "outputId": "1a0e3cd7-2a85-4cf8-a1d9-376bd19f431a"
      },
      "execution_count": null,
      "outputs": [
        {
          "output_type": "stream",
          "name": "stdout",
          "text": [
            "[2, 3, 4, 5, 5, 6, 7, 8, 9, 10, 11, 12, 13, 17, 19, 23, 25, 25, 28, 35, 37, 38, 68, 79]\n"
          ]
        }
      ]
    },
    {
      "cell_type": "code",
      "source": [
        "## how to print even and odd numbers from a list\n",
        "\n",
        "even_list = []\n",
        "\n",
        "for number in list4:\n",
        "  if number % 2 == 0:\n",
        "    even_list.append(number)\n",
        "\n",
        "print(even_list)\n",
        "\n",
        "print()\n",
        "\n",
        "#using list comp\n",
        "even_list_comp = [number for number in list4 if number % 2 == 0]\n",
        "print (even_list_comp)\n",
        "\n",
        "print()\n",
        "\n",
        "odd_list = []\n",
        "\n",
        "for number in list4:\n",
        "  if not number % 2 == 0:\n",
        "   odd_list.append(number)\n",
        "\n",
        "print(odd_list)\n",
        "\n",
        "print()\n",
        "\n",
        "#using list comp\n",
        "odd_list_comp = [number for number in list4 if not number % 2 == 0]\n",
        "print (odd_list_comp)\n"
      ],
      "metadata": {
        "colab": {
          "base_uri": "https://localhost:8080/"
        },
        "id": "t-n06uoQE385",
        "outputId": "2c727aa2-a81a-426b-e7f7-19c0b5c35e2d"
      },
      "execution_count": null,
      "outputs": [
        {
          "output_type": "stream",
          "name": "stdout",
          "text": [
            "[2, 4, 6, 8, 10, 12, 28, 38, 68]\n",
            "\n",
            "[2, 4, 6, 8, 10, 12, 28, 38, 68]\n",
            "\n",
            "[3, 5, 5, 7, 9, 11, 13, 17, 19, 23, 25, 25, 35, 37, 79]\n",
            "\n",
            "[3, 5, 5, 7, 9, 11, 13, 17, 19, 23, 25, 25, 35, 37, 79]\n"
          ]
        }
      ]
    },
    {
      "cell_type": "code",
      "source": [
        "#list comprehension\n",
        "#list comprehension means putting all your codes in one line\n",
        "\n",
        "def even_squares (numbers):\n",
        "\treturn [x ** 2 for x in numbers if x % 2 == 0]\t\t\t\t\t\t\t# for every even number in a list, it will square them\n",
        "\n",
        "\n",
        "def odd_squares (numbers):\n",
        "\treturn [x ** 2 for x in numbers if not x % 2 == 0]\t\t\t\t\t\t\t# for every odd number in a list, it will square them\n",
        "numbers_squared_even =  even_squares (list4)\n",
        "numbers_squared_odd =  odd_squares (list4)\n",
        "\n",
        "print (numbers_squared_even)\n",
        "print ()\n",
        "print (numbers_squared_odd)\n"
      ],
      "metadata": {
        "id": "lEyDTJ6oILtO",
        "colab": {
          "base_uri": "https://localhost:8080/"
        },
        "outputId": "2f367a05-2784-4682-a280-9c911b3fbddb"
      },
      "execution_count": null,
      "outputs": [
        {
          "output_type": "stream",
          "name": "stdout",
          "text": [
            "[4, 16, 36, 64, 100, 144, 784, 1444, 4624]\n",
            "\n",
            "[9, 25, 25, 49, 81, 121, 169, 289, 361, 529, 625, 625, 1225, 1369, 6241]\n"
          ]
        }
      ]
    },
    {
      "cell_type": "code",
      "source": [
        "#using list comprehension\n",
        "\n",
        "list_comp = [ number for number in range (11)]\n",
        "print (list_comp)\n",
        "\n",
        "##using normal way\n",
        "list5 = []\n",
        "\n",
        "for number in range (11):\n",
        "  list5.append (number)\n",
        "\n",
        "print (list5)"
      ],
      "metadata": {
        "colab": {
          "base_uri": "https://localhost:8080/"
        },
        "id": "8y4kSJ5TLPNP",
        "outputId": "7720b6e5-3117-4ac1-8372-2fbf335b06bb"
      },
      "execution_count": null,
      "outputs": [
        {
          "output_type": "stream",
          "name": "stdout",
          "text": [
            "[0, 1, 2, 3, 4, 5, 6, 7, 8, 9, 10]\n",
            "[0, 1, 2, 3, 4, 5, 6, 7, 8, 9, 10]\n"
          ]
        }
      ]
    },
    {
      "cell_type": "code",
      "source": [
        "## leap year checker\n",
        "\n",
        "def leap_year_check (year):\n",
        "  if (year % 4 == 0 and year % 100 != 0) or (year % 400 == 0):\n",
        "    return f'{year} is a leap year'\n",
        "  else:\n",
        "    return f'{year} is not a leap year'\n",
        "\n",
        "print (leap_year_check(2020))\n",
        "print (leap_year_check(2034))\n",
        "print (leap_year_check(2026))\n",
        "print (leap_year_check(2060))\n",
        "print (leap_year_check(2056))\n",
        "print (leap_year_check(1997))"
      ],
      "metadata": {
        "colab": {
          "base_uri": "https://localhost:8080/"
        },
        "id": "VKhnFYo0OStv",
        "outputId": "fb6fff0f-11d2-4b28-fff1-468cc0f7f3bc"
      },
      "execution_count": null,
      "outputs": [
        {
          "output_type": "stream",
          "name": "stdout",
          "text": [
            "2020 is a leap year\n",
            "2034 is not a leap year\n",
            "2026 is not a leap year\n",
            "2060 is a leap year\n",
            "2056 is a leap year\n",
            "1997 is not a leap year\n"
          ]
        }
      ]
    },
    {
      "cell_type": "code",
      "source": [
        "## temperature converter\n",
        "\n",
        "def celcius_to_fahrenheit (celcius):\n",
        "\treturn (celcius * 9/5) + 32\n",
        "\n",
        "def fahrenheit_to_celcius (fahrenheit):\n",
        "\treturn (fahrenheit - 32) * 5/9\n",
        "\n",
        "print (celcius_to_fahrenheit (0))\n",
        "print (fahrenheit_to_celcius (32))"
      ],
      "metadata": {
        "colab": {
          "base_uri": "https://localhost:8080/"
        },
        "id": "HmKYRfUBINA1",
        "outputId": "0eb94739-bdbb-4905-f917-8186661f1103"
      },
      "execution_count": null,
      "outputs": [
        {
          "output_type": "stream",
          "name": "stdout",
          "text": [
            "32.0\n",
            "0.0\n"
          ]
        }
      ]
    },
    {
      "cell_type": "code",
      "source": [
        "## prime number checker\n",
        "\n",
        "def is_prime (number):\n",
        "\tif number <=1:\n",
        "\t\treturn False\n",
        "\tfor i in range (2, int (number ** 0.5) +1):\n",
        "\t\tif number % i == 0:\n",
        "\t\t\treturn False\n",
        "\treturn True\n",
        "\n",
        "print (is_prime (17))\n",
        "print (is_prime (20))\n",
        "\n"
      ],
      "metadata": {
        "colab": {
          "base_uri": "https://localhost:8080/"
        },
        "id": "g37Fm1O0IW5H",
        "outputId": "2bfd08df-40e8-4cc1-8205-af6b15e271ae"
      },
      "execution_count": null,
      "outputs": [
        {
          "output_type": "stream",
          "name": "stdout",
          "text": [
            "True\n",
            "False\n"
          ]
        }
      ]
    },
    {
      "cell_type": "code",
      "source": [
        "## list reversal\n",
        "\n",
        "def list_reversal (liistt):\n",
        "\treversed_list = []\n",
        "\tfor item in liistt:\n",
        "\t\treversed_list.insert(0, item)\n",
        "\treturn reversed_list\n",
        "\n",
        "\n",
        "print (list_reversal([1,2,3,4]))\n"
      ],
      "metadata": {
        "colab": {
          "base_uri": "https://localhost:8080/"
        },
        "id": "QbZ8jfMJI4cI",
        "outputId": "81a3f803-ebde-404e-a576-6f30bbfe788f"
      },
      "execution_count": null,
      "outputs": [
        {
          "output_type": "stream",
          "name": "stdout",
          "text": [
            "[4, 3, 2, 1]\n"
          ]
        }
      ]
    }
  ]
}