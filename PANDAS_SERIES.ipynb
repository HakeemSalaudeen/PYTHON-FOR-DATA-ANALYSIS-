{
  "nbformat": 4,
  "nbformat_minor": 0,
  "metadata": {
    "colab": {
      "provenance": [],
      "authorship_tag": "ABX9TyMN2gfQVPgUZSIPTepsvstq",
      "include_colab_link": true
    },
    "kernelspec": {
      "name": "python3",
      "display_name": "Python 3"
    },
    "language_info": {
      "name": "python"
    }
  },
  "cells": [
    {
      "cell_type": "markdown",
      "metadata": {
        "id": "view-in-github",
        "colab_type": "text"
      },
      "source": [
        "<a href=\"https://colab.research.google.com/github/HakeemSalaudeen/PYTHON-FOR-DATA-ANALYSIS-/blob/main/PANDAS_SERIES.ipynb\" target=\"_parent\"><img src=\"https://colab.research.google.com/assets/colab-badge.svg\" alt=\"Open In Colab\"/></a>"
      ]
    },
    {
      "cell_type": "markdown",
      "source": [
        "# **PANDAS**\n",
        "\n",
        "* We have two types of data structures in pandas\n",
        "pandas series and pandas dataframe\n",
        "* Every column in a database is treated as series and series is built on Numpy\n",
        "* if you understand series you will understand pandas\n",
        "* A pandas series is a one dimensional labelled array capable of holding data of various types (e.g int, str, flt etc)\n",
        "* It is one of the core data structures provided by the pandas library and it resembles a column in a spreadsheet or a single column in a SQL table.\n",
        "* Each element in a series has a label called an 'index' associated with it which makes it easy to access manipulate and perform operations on the data.\n",
        "* Here is how to create a Pandas series and some key attributes and methods associated with it:\n",
        "\n",
        "\n",
        "**Creating a series**:\n",
        "\n",
        "You can create a series using the pd.series() constructor by passing a list, array or dictionary like object as the data structure"
      ],
      "metadata": {
        "id": "IDaIJVgrd-Ck"
      }
    },
    {
      "cell_type": "code",
      "source": [
        "# import library\n",
        "\n",
        "import pandas as pd"
      ],
      "metadata": {
        "id": "iP32i1GueR5L"
      },
      "execution_count": null,
      "outputs": []
    },
    {
      "cell_type": "code",
      "source": [
        "# creating a series from a list\n",
        "# series shows you the index\n",
        "\n",
        "data = (10, 20, 30, 40, 50)       #a list\n",
        "series_data = pd.Series(data)       # .Series is a class under pandas   # converting the list to a pandas series\n",
        "\n",
        "print(series_data)"
      ],
      "metadata": {
        "colab": {
          "base_uri": "https://localhost:8080/"
        },
        "id": "Tso4Bv-hg6H5",
        "outputId": "cd98dd8b-04c8-4b53-ee45-76c001db2df4"
      },
      "execution_count": null,
      "outputs": [
        {
          "output_type": "stream",
          "name": "stdout",
          "text": [
            "0    10\n",
            "1    20\n",
            "2    30\n",
            "3    40\n",
            "4    50\n",
            "dtype: int64\n"
          ]
        }
      ]
    },
    {
      "cell_type": "code",
      "source": [
        "## creating a series with a custom index labels\n",
        "\n",
        "data_index = ['one', 'two', 'three', 'four', 'five']\n",
        "amount = [100, 500, 300, 5000, 900]\n",
        "series_data_index = pd.Series (data, index = data_index )\n",
        "\n",
        "print (series_data_index)"
      ],
      "metadata": {
        "colab": {
          "base_uri": "https://localhost:8080/"
        },
        "id": "ioW8GyvYg8Qq",
        "outputId": "79ab1881-df68-40b4-ea34-1c45f103609d"
      },
      "execution_count": null,
      "outputs": [
        {
          "output_type": "stream",
          "name": "stdout",
          "text": [
            "one      10\n",
            "two      20\n",
            "three    30\n",
            "four     40\n",
            "five     50\n",
            "dtype: int64\n"
          ]
        }
      ]
    },
    {
      "cell_type": "code",
      "source": [
        "#counting a series from a dictionaryy\n",
        "\n",
        "data_dict = {'one': 10, 'two': 20, 'three': 30, 'four': 40, 'five': 50}\n",
        "dict_to_series = pd.Series(data_dict)\n",
        "\n",
        "print (dict_to_series)"
      ],
      "metadata": {
        "colab": {
          "base_uri": "https://localhost:8080/"
        },
        "id": "xgB1F42Gg9EN",
        "outputId": "323937cd-0caf-4948-c05b-156d8b28b320"
      },
      "execution_count": null,
      "outputs": [
        {
          "output_type": "stream",
          "name": "stdout",
          "text": [
            "one      10\n",
            "two      20\n",
            "three    30\n",
            "four     40\n",
            "five     50\n",
            "dtype: int64\n"
          ]
        }
      ]
    },
    {
      "cell_type": "markdown",
      "source": [
        "# **ACCESSING DATA IN A SERIES**\n",
        "\n",
        "*  You can access data in a series using indexing and slicing\n",
        "\n",
        "\n"
      ],
      "metadata": {
        "id": "P4HTtzRThCVe"
      }
    },
    {
      "cell_type": "code",
      "source": [
        "## accessing a single element by label\n",
        "\n",
        "dict_to_series ['two']        #we will write the key word"
      ],
      "metadata": {
        "colab": {
          "base_uri": "https://localhost:8080/"
        },
        "id": "zhLX_KwBhKDl",
        "outputId": "a89db3a2-adef-40ef-c0e4-e5fe42863114"
      },
      "execution_count": null,
      "outputs": [
        {
          "output_type": "execute_result",
          "data": {
            "text/plain": [
              "20"
            ]
          },
          "metadata": {},
          "execution_count": 5
        }
      ]
    },
    {
      "cell_type": "code",
      "source": [
        "series_data [2]"
      ],
      "metadata": {
        "colab": {
          "base_uri": "https://localhost:8080/"
        },
        "id": "gyoyHw52hMlB",
        "outputId": "1158be1e-3fca-49ec-defb-0084a8a93670"
      },
      "execution_count": null,
      "outputs": [
        {
          "output_type": "execute_result",
          "data": {
            "text/plain": [
              "30"
            ]
          },
          "metadata": {},
          "execution_count": 6
        }
      ]
    },
    {
      "cell_type": "code",
      "source": [
        "# slicing to get a subset of a list\n",
        "\n",
        "dict_to_series [1 : 4]"
      ],
      "metadata": {
        "colab": {
          "base_uri": "https://localhost:8080/"
        },
        "id": "FycuSHl-hMsw",
        "outputId": "c05f2908-9817-4211-f909-72665b1cafd5"
      },
      "execution_count": null,
      "outputs": [
        {
          "output_type": "execute_result",
          "data": {
            "text/plain": [
              "two      20\n",
              "three    30\n",
              "four     40\n",
              "dtype: int64"
            ]
          },
          "metadata": {},
          "execution_count": 7
        }
      ]
    },
    {
      "cell_type": "code",
      "source": [
        "# OR\n",
        "# slicing to get a subset of a list\n",
        "\n",
        "dict_to_series ['two' : 'four']       #NB-- Notice that slicing in pd.Series included the last value unlike list"
      ],
      "metadata": {
        "colab": {
          "base_uri": "https://localhost:8080/"
        },
        "id": "iFuIehB-hMyG",
        "outputId": "a69917e9-03e2-4a53-f6ab-bd1e9124a3b1"
      },
      "execution_count": null,
      "outputs": [
        {
          "output_type": "execute_result",
          "data": {
            "text/plain": [
              "two      20\n",
              "three    30\n",
              "four     40\n",
              "dtype: int64"
            ]
          },
          "metadata": {},
          "execution_count": 8
        }
      ]
    },
    {
      "cell_type": "code",
      "source": [
        "#accessing multiple elements by label\n",
        "\n",
        "dict_to_series [['two', 'four']]        #we use double square bracket to avoid errors\n",
        "\n",
        "#it will give us a two dimention array"
      ],
      "metadata": {
        "colab": {
          "base_uri": "https://localhost:8080/"
        },
        "id": "_B1-pmzThM2u",
        "outputId": "fb0ff0f1-1703-46e8-fa8b-d7ce6bfad805"
      },
      "execution_count": null,
      "outputs": [
        {
          "output_type": "execute_result",
          "data": {
            "text/plain": [
              "two     20\n",
              "four    40\n",
              "dtype: int64"
            ]
          },
          "metadata": {},
          "execution_count": 10
        }
      ]
    },
    {
      "cell_type": "markdown",
      "source": [
        "# **KEY ATTRIBUTES OF A SERIES**\n",
        "\n",
        "* values: returns the data in the series as a Numpy array\n",
        "* index: returns the index of the series\n",
        "* dtype: returns the data type of the element in the series\n",
        "* name: returns the name for the series\n",
        "\n",
        "\n"
      ],
      "metadata": {
        "id": "IPWcSb2hhdDr"
      }
    },
    {
      "cell_type": "code",
      "source": [
        "series_data"
      ],
      "metadata": {
        "colab": {
          "base_uri": "https://localhost:8080/"
        },
        "id": "44l34hrvhM6_",
        "outputId": "39b57a90-9c9e-4e63-daca-7c773d1f04a5"
      },
      "execution_count": null,
      "outputs": [
        {
          "output_type": "execute_result",
          "data": {
            "text/plain": [
              "0    10\n",
              "1    20\n",
              "2    30\n",
              "3    40\n",
              "4    50\n",
              "dtype: int64"
            ]
          },
          "metadata": {},
          "execution_count": 11
        }
      ]
    },
    {
      "cell_type": "code",
      "source": [
        "series_data.shape"
      ],
      "metadata": {
        "colab": {
          "base_uri": "https://localhost:8080/"
        },
        "id": "papfrbgFhM_H",
        "outputId": "12bd57f7-1b05-4595-dbbc-766794ecf7cc"
      },
      "execution_count": null,
      "outputs": [
        {
          "output_type": "execute_result",
          "data": {
            "text/plain": [
              "(5,)"
            ]
          },
          "metadata": {},
          "execution_count": 12
        }
      ]
    },
    {
      "cell_type": "code",
      "source": [
        "# .values convert it to rows\n",
        "# .values makes it appear like a 1D array\n",
        "\n",
        "series_data.values"
      ],
      "metadata": {
        "colab": {
          "base_uri": "https://localhost:8080/"
        },
        "id": "h20GcWPmhu38",
        "outputId": "89ce5f4b-7cc3-48cf-af11-d9fb24485422"
      },
      "execution_count": null,
      "outputs": [
        {
          "output_type": "execute_result",
          "data": {
            "text/plain": [
              "array([10, 20, 30, 40, 50])"
            ]
          },
          "metadata": {},
          "execution_count": 13
        }
      ]
    },
    {
      "cell_type": "code",
      "source": [
        "# .index tells us the range\n",
        "# start dtop and step\n",
        "# it helps you look through the series\n",
        "\n",
        "series_data.index"
      ],
      "metadata": {
        "colab": {
          "base_uri": "https://localhost:8080/"
        },
        "id": "zBrXa8N8hu75",
        "outputId": "5aaa3e2a-6dd8-4996-fc51-4563ed6149f7"
      },
      "execution_count": null,
      "outputs": [
        {
          "output_type": "execute_result",
          "data": {
            "text/plain": [
              "RangeIndex(start=0, stop=5, step=1)"
            ]
          },
          "metadata": {},
          "execution_count": 14
        }
      ]
    },
    {
      "cell_type": "code",
      "source": [
        "#.dtype tells us the type of column\n",
        "#we can also change the type if we want to\n",
        "\n",
        "series_data.dtype"
      ],
      "metadata": {
        "colab": {
          "base_uri": "https://localhost:8080/"
        },
        "id": "mTWtnnFBh0n0",
        "outputId": "c3ec5647-c247-4002-93b2-c78caaa70d94"
      },
      "execution_count": null,
      "outputs": [
        {
          "output_type": "execute_result",
          "data": {
            "text/plain": [
              "dtype('int64')"
            ]
          },
          "metadata": {},
          "execution_count": 15
        }
      ]
    },
    {
      "cell_type": "code",
      "source": [
        "# adding new rows\n",
        "\n",
        "series_data[5] = 60\n",
        "series_data[6] = 70\n",
        "series_data[7] = 70"
      ],
      "metadata": {
        "id": "SiQu2xWYh0rM"
      },
      "execution_count": null,
      "outputs": []
    },
    {
      "cell_type": "code",
      "source": [
        "## new row added\n",
        "\n",
        "series_data"
      ],
      "metadata": {
        "colab": {
          "base_uri": "https://localhost:8080/"
        },
        "id": "XMNmqkrPh0vP",
        "outputId": "5f78b327-474c-4bbf-aa29-d13ad4d6966f"
      },
      "execution_count": null,
      "outputs": [
        {
          "output_type": "execute_result",
          "data": {
            "text/plain": [
              "0    10\n",
              "1    20\n",
              "2    30\n",
              "3    40\n",
              "4    50\n",
              "5    60\n",
              "6    70\n",
              "7    70\n",
              "dtype: int64"
            ]
          },
          "metadata": {},
          "execution_count": 19
        }
      ]
    },
    {
      "cell_type": "code",
      "source": [
        "# .head gives us the first five element in a series, dataset or a dataframe\n",
        "# dont forget the parerntisis\n",
        "\n",
        "series_data.head()"
      ],
      "metadata": {
        "colab": {
          "base_uri": "https://localhost:8080/"
        },
        "id": "6W9OEIzZh0y0",
        "outputId": "96a36613-e175-4e56-93b0-c001fe03b014"
      },
      "execution_count": null,
      "outputs": [
        {
          "output_type": "execute_result",
          "data": {
            "text/plain": [
              "0    10\n",
              "1    20\n",
              "2    30\n",
              "3    40\n",
              "4    50\n",
              "dtype: int64"
            ]
          },
          "metadata": {},
          "execution_count": 21
        }
      ]
    },
    {
      "cell_type": "code",
      "source": [
        "# to specify the amount of rows we want\n",
        "\n",
        "series_data.head(7)         ## it will give the first seven rows"
      ],
      "metadata": {
        "colab": {
          "base_uri": "https://localhost:8080/"
        },
        "id": "O2Q5pYmSh02s",
        "outputId": "b2ab3f5c-5cbd-46b5-eae5-c3ef23adede4"
      },
      "execution_count": null,
      "outputs": [
        {
          "output_type": "execute_result",
          "data": {
            "text/plain": [
              "0    10\n",
              "1    20\n",
              "2    30\n",
              "3    40\n",
              "4    50\n",
              "5    60\n",
              "6    70\n",
              "dtype: int64"
            ]
          },
          "metadata": {},
          "execution_count": 22
        }
      ]
    },
    {
      "cell_type": "code",
      "source": [
        "# to specify the amount of rows we want\n",
        "\n",
        "series_data.head(3)         ## it will give the first 3 rows"
      ],
      "metadata": {
        "colab": {
          "base_uri": "https://localhost:8080/"
        },
        "id": "8Gzn5HHPhu_y",
        "outputId": "0deb18be-177d-4458-90e0-1cb4bc7232db"
      },
      "execution_count": null,
      "outputs": [
        {
          "output_type": "execute_result",
          "data": {
            "text/plain": [
              "0    10\n",
              "1    20\n",
              "2    30\n",
              "dtype: int64"
            ]
          },
          "metadata": {},
          "execution_count": 23
        }
      ]
    },
    {
      "cell_type": "code",
      "source": [
        "# .describe gives us a statistical representation of the column\n",
        "# dont forget the parerntisis\n",
        "# the data type here is a float\n",
        "\n",
        "series_data.describe()"
      ],
      "metadata": {
        "colab": {
          "base_uri": "https://localhost:8080/"
        },
        "id": "Bqw5qhr3hvDN",
        "outputId": "8a8d67b4-f308-49ef-a3f7-b3ad3deb5835"
      },
      "execution_count": null,
      "outputs": [
        {
          "output_type": "execute_result",
          "data": {
            "text/plain": [
              "count     8.000000\n",
              "mean     43.750000\n",
              "std      22.638463\n",
              "min      10.000000\n",
              "25%      27.500000\n",
              "50%      45.000000\n",
              "75%      62.500000\n",
              "max      70.000000\n",
              "dtype: float64"
            ]
          },
          "metadata": {},
          "execution_count": 24
        }
      ]
    },
    {
      "cell_type": "code",
      "source": [
        "## to make ,describe appear as a float\n",
        "# .astype is used to change the datatype of a series\n",
        "\n",
        "series_data.describe().astype(int)        #it will appear as a float"
      ],
      "metadata": {
        "colab": {
          "base_uri": "https://localhost:8080/"
        },
        "id": "yWIpIV3whvHk",
        "outputId": "88eca532-8ebc-4fa8-acfb-ab6449d91de3"
      },
      "execution_count": null,
      "outputs": [
        {
          "output_type": "execute_result",
          "data": {
            "text/plain": [
              "count     8\n",
              "mean     43\n",
              "std      22\n",
              "min      10\n",
              "25%      27\n",
              "50%      45\n",
              "75%      62\n",
              "max      70\n",
              "dtype: int64"
            ]
          },
          "metadata": {},
          "execution_count": 25
        }
      ]
    },
    {
      "cell_type": "code",
      "source": [
        "# .mean, incase u dont want to do it from .describe\n",
        "# dont forget the parerntisis\n",
        "# everycode we av been running is only running on a column notn the whole dataset\n",
        "\n",
        "series_data.mean()"
      ],
      "metadata": {
        "colab": {
          "base_uri": "https://localhost:8080/"
        },
        "id": "ECdaus79iTCm",
        "outputId": "bca4ceb5-a533-44d6-c24d-8165ebc3c272"
      },
      "execution_count": null,
      "outputs": [
        {
          "output_type": "execute_result",
          "data": {
            "text/plain": [
              "43.75"
            ]
          },
          "metadata": {},
          "execution_count": 26
        }
      ]
    },
    {
      "cell_type": "code",
      "source": [
        "# maximum\n",
        "\n",
        "series_data.max()"
      ],
      "metadata": {
        "colab": {
          "base_uri": "https://localhost:8080/"
        },
        "id": "NVrCmm7xiTGi",
        "outputId": "ce3be0c5-faa7-437c-f47f-60b7caf01dc5"
      },
      "execution_count": null,
      "outputs": [
        {
          "output_type": "execute_result",
          "data": {
            "text/plain": [
              "70"
            ]
          },
          "metadata": {},
          "execution_count": 27
        }
      ]
    },
    {
      "cell_type": "code",
      "source": [
        "# minimum\n",
        "\n",
        "series_data.min()"
      ],
      "metadata": {
        "colab": {
          "base_uri": "https://localhost:8080/"
        },
        "id": "vfuCjhjYiTQE",
        "outputId": "8ed9bfb1-25b1-4eb0-ef8e-9ba74febd0f0"
      },
      "execution_count": null,
      "outputs": [
        {
          "output_type": "execute_result",
          "data": {
            "text/plain": [
              "10"
            ]
          },
          "metadata": {},
          "execution_count": 28
        }
      ]
    },
    {
      "cell_type": "code",
      "source": [
        "# standard deviation\n",
        "\n",
        "series_data.std()"
      ],
      "metadata": {
        "colab": {
          "base_uri": "https://localhost:8080/"
        },
        "id": "WEsCicibiTT6",
        "outputId": "70563f63-a4d9-440f-a11d-33843576fae1"
      },
      "execution_count": null,
      "outputs": [
        {
          "output_type": "execute_result",
          "data": {
            "text/plain": [
              "22.638462845343543"
            ]
          },
          "metadata": {},
          "execution_count": 29
        }
      ]
    },
    {
      "cell_type": "code",
      "source": [
        "# variance\n",
        "\n",
        "series_data.var()"
      ],
      "metadata": {
        "colab": {
          "base_uri": "https://localhost:8080/"
        },
        "id": "p_ymZL3riTX2",
        "outputId": "b5cbc94e-26b5-415f-c3ee-066bcac67715"
      },
      "execution_count": null,
      "outputs": [
        {
          "output_type": "execute_result",
          "data": {
            "text/plain": [
              "512.5"
            ]
          },
          "metadata": {},
          "execution_count": 30
        }
      ]
    },
    {
      "cell_type": "code",
      "source": [
        "# sum\n",
        "\n",
        "series_data.sum()"
      ],
      "metadata": {
        "colab": {
          "base_uri": "https://localhost:8080/"
        },
        "id": "ejv4FTx8iTbr",
        "outputId": "c7c8e195-0ef5-43a4-ae18-241ed7e30ce7"
      },
      "execution_count": null,
      "outputs": [
        {
          "output_type": "execute_result",
          "data": {
            "text/plain": [
              "350"
            ]
          },
          "metadata": {},
          "execution_count": 31
        }
      ]
    },
    {
      "cell_type": "markdown",
      "source": [
        "# **ELEMENT WISE OPERATORS**\n",
        "\n",
        "*  You can perform element wise oprators on series, such as substraction, addition, multiplication and division\n",
        "\n",
        "\n"
      ],
      "metadata": {
        "id": "f4sGeXNLj_oE"
      }
    },
    {
      "cell_type": "code",
      "source": [
        "series1 = pd.Series([1,2,3])\n",
        "series2 = pd.Series([4,5,6])\n",
        "\n",
        "print(series1)\n",
        "print(series2)\n"
      ],
      "metadata": {
        "colab": {
          "base_uri": "https://localhost:8080/"
        },
        "id": "_tpbA1WrkME8",
        "outputId": "dccc0a4a-e7a7-4d1f-e3a4-845fa28eddc8"
      },
      "execution_count": null,
      "outputs": [
        {
          "output_type": "stream",
          "name": "stdout",
          "text": [
            "0    1\n",
            "1    2\n",
            "2    3\n",
            "dtype: int64\n",
            "0    4\n",
            "1    5\n",
            "2    6\n",
            "dtype: int64\n"
          ]
        }
      ]
    },
    {
      "cell_type": "code",
      "source": [
        "#element wise addition\n",
        "## we can two series together to get a new column\n",
        "\n",
        "series_add = series1 + series2\t\t\t\t\t#we will get a new data strutcure\n",
        "#series_add is a new column\n",
        "\n",
        "print (series_add)"
      ],
      "metadata": {
        "colab": {
          "base_uri": "https://localhost:8080/"
        },
        "id": "H5fK1CCuiTfi",
        "outputId": "fabc8982-35fd-4fa7-d461-2bb739a4fd77"
      },
      "execution_count": null,
      "outputs": [
        {
          "output_type": "stream",
          "name": "stdout",
          "text": [
            "0    5\n",
            "1    7\n",
            "2    9\n",
            "dtype: int64\n"
          ]
        }
      ]
    },
    {
      "cell_type": "code",
      "source": [
        "#element wise subtraction\n",
        "## we can two series together to get a new column\n",
        "\n",
        "series_subtraction = series1 - series2\t\t\t\t\t#we will get a new data strutcure\n",
        "#series_add is a new column\n",
        "\n",
        "print (series_subtraction)"
      ],
      "metadata": {
        "colab": {
          "base_uri": "https://localhost:8080/"
        },
        "id": "zmxMjmHBk8Rd",
        "outputId": "449d030b-5b9c-43ae-801c-994ac8a964a2"
      },
      "execution_count": null,
      "outputs": [
        {
          "output_type": "stream",
          "name": "stdout",
          "text": [
            "0   -3\n",
            "1   -3\n",
            "2   -3\n",
            "dtype: int64\n"
          ]
        }
      ]
    },
    {
      "cell_type": "code",
      "source": [
        "#element wise multiplication\n",
        "## we can two series together to get a new column\n",
        "\n",
        "series_multiplication = series1 * series2\t\t\t\t\t#we will get a new data strutcure\n",
        "\n",
        "\n",
        "print (series_multiplication)"
      ],
      "metadata": {
        "colab": {
          "base_uri": "https://localhost:8080/"
        },
        "id": "Fh2a8MiDiTi1",
        "outputId": "a2b0221e-e532-4ff3-9aeb-b2e6228e5fbd"
      },
      "execution_count": null,
      "outputs": [
        {
          "output_type": "stream",
          "name": "stdout",
          "text": [
            "0     4\n",
            "1    10\n",
            "2    18\n",
            "dtype: int64\n"
          ]
        }
      ]
    },
    {
      "cell_type": "code",
      "source": [
        "#element wise division\n",
        "## we can two series together to get a new column\n",
        "\n",
        "series_division =  series2 / series1 \t\t\t\t#we will get a new data strutcure\n",
        "\n",
        "print (series_division)"
      ],
      "metadata": {
        "colab": {
          "base_uri": "https://localhost:8080/"
        },
        "id": "2mvMNVdciTmL",
        "outputId": "428112da-70b5-47aa-e1ff-b10e3f3965d8"
      },
      "execution_count": null,
      "outputs": [
        {
          "output_type": "stream",
          "name": "stdout",
          "text": [
            "0    4.0\n",
            "1    2.5\n",
            "2    2.0\n",
            "dtype: float64\n"
          ]
        }
      ]
    },
    {
      "cell_type": "code",
      "source": [
        "#element wise power\n",
        "## we can two series together to get a new column\n",
        "\n",
        "series_power =  series2 ** series1 \t\t\t\t#we will get a new data strutcure\n",
        "\n",
        "print (series_power)"
      ],
      "metadata": {
        "colab": {
          "base_uri": "https://localhost:8080/"
        },
        "id": "429Ow5FIlsWB",
        "outputId": "aa6d5cb6-238c-4f86-d6d1-6cfd9cd9e0ac"
      },
      "execution_count": null,
      "outputs": [
        {
          "output_type": "stream",
          "name": "stdout",
          "text": [
            "0      4\n",
            "1     25\n",
            "2    216\n",
            "dtype: int64\n"
          ]
        }
      ]
    },
    {
      "cell_type": "markdown",
      "source": [
        "# **FILTERING AND BOOLEAN SELECTION**"
      ],
      "metadata": {
        "id": "eUOCi06RrT5t"
      }
    },
    {
      "cell_type": "code",
      "source": [
        "\n",
        "print (series_data > 30)     \t\t#this is not a dataset/dataframe\n",
        "\n",
        "print ()\n",
        "\n",
        "## filtering values greater than 30\n",
        "\n",
        "filter_series = series_data [series_data > 30]\t\t\t# we will a complete dataset that will pick the on that true\n",
        "\n",
        "print (filter_series)\n"
      ],
      "metadata": {
        "colab": {
          "base_uri": "https://localhost:8080/"
        },
        "id": "ydFVjKVurfJf",
        "outputId": "b231bc72-84d8-4261-839a-abe781355558"
      },
      "execution_count": null,
      "outputs": [
        {
          "output_type": "stream",
          "name": "stdout",
          "text": [
            "0    False\n",
            "1    False\n",
            "2    False\n",
            "3     True\n",
            "4     True\n",
            "dtype: bool\n",
            "\n",
            "3    40\n",
            "4    50\n",
            "dtype: int64\n"
          ]
        }
      ]
    },
    {
      "cell_type": "code",
      "source": [
        "## boolean selection: selecting values meeting a condition\n",
        "\n",
        "series_data[series_data % 2 == 0]         # if the modulus of the dataset divided by 2 = 0, it going to print the dataframe"
      ],
      "metadata": {
        "colab": {
          "base_uri": "https://localhost:8080/"
        },
        "id": "WK6bJaIqLCCg",
        "outputId": "466e4f11-a5cd-4ef4-aa4b-53d3df49a839"
      },
      "execution_count": null,
      "outputs": [
        {
          "output_type": "execute_result",
          "data": {
            "text/plain": [
              "0    10\n",
              "1    20\n",
              "2    30\n",
              "3    40\n",
              "4    50\n",
              "dtype: int64"
            ]
          },
          "metadata": {},
          "execution_count": 4
        }
      ]
    }
  ]
}