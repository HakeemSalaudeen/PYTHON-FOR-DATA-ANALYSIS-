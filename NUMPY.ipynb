{
  "nbformat": 4,
  "nbformat_minor": 0,
  "metadata": {
    "colab": {
      "provenance": []
    },
    "kernelspec": {
      "name": "python3",
      "display_name": "Python 3"
    },
    "language_info": {
      "name": "python"
    }
  },
  "cells": [
    {
      "cell_type": "markdown",
      "source": [
        "# **PYTHON NUMPY**\n",
        "\n",
        "*   Numpy is an advanced list\n",
        "* Not just an advanced list, it is faster than the normal list\n",
        "* Numpy is an array (sequence of number)\n",
        "*   Numpy is created for computations\n",
        "* Numpy is a library that has been built in python, and before we can use it, we have to import it\n",
        "* everything we do like pandas, framework were built under numpy\n",
        "* Numpy helps to process numbers\n",
        "* it is a set of function designed to become a package\n",
        "\n"
      ],
      "metadata": {
        "id": "bzLPS1CrfGKU"
      }
    },
    {
      "cell_type": "code",
      "source": [
        "## import numpy\n",
        "#Numpy is a library that has been built in python\n",
        "# we have to import it\n",
        "\n",
        "import numpy as np        # as a tradition in python, always import Numpy as np"
      ],
      "metadata": {
        "id": "Kann8yDUfLu5"
      },
      "execution_count": null,
      "outputs": []
    },
    {
      "cell_type": "code",
      "source": [
        "## creating a ID NumPy array\n",
        "\n",
        "array = np.array ([0,1,2,3,4,5,6,7,8,9])       #.array is a method in Numpy that will use to create Numpy kind  of list\n",
        "\n",
        "#by using .array, it takes it to be a list rather than an array"
      ],
      "metadata": {
        "id": "ZPAKU_4PfY28"
      },
      "execution_count": null,
      "outputs": []
    },
    {
      "cell_type": "code",
      "source": [
        "type (array)"
      ],
      "metadata": {
        "colab": {
          "base_uri": "https://localhost:8080/"
        },
        "id": "j35o3-62wpjq",
        "outputId": "6bdd11af-4fc3-4ac5-e732-f5da326660a8"
      },
      "execution_count": null,
      "outputs": [
        {
          "output_type": "execute_result",
          "data": {
            "text/plain": [
              "numpy.ndarray"
            ]
          },
          "metadata": {},
          "execution_count": 3
        }
      ]
    },
    {
      "cell_type": "code",
      "source": [
        "# indexing/ slicing\n",
        "\n",
        "index_array = array[4]\n",
        "sliced_array = array [2:8]        #it excludes the last number\n",
        "\n",
        "print (index_array)\n",
        "print (sliced_array)\n"
      ],
      "metadata": {
        "colab": {
          "base_uri": "https://localhost:8080/"
        },
        "id": "GzZc-N-vxLjv",
        "outputId": "3d27dc01-1fc1-4fe5-845d-d605affab033"
      },
      "execution_count": null,
      "outputs": [
        {
          "output_type": "stream",
          "name": "stdout",
          "text": [
            "4\n",
            "[2 3 4 5 6 7]\n"
          ]
        }
      ]
    },
    {
      "cell_type": "code",
      "source": [
        "num =  [5,5,6,8,5,4]\n",
        "num1 =  [7,8,99,7,86,4]\n",
        "\n",
        "sum_num = sum (num + num1)\n",
        "print (sum_num)"
      ],
      "metadata": {
        "colab": {
          "base_uri": "https://localhost:8080/"
        },
        "id": "LFK63iz2gw-1",
        "outputId": "c02134dc-0fc9-49aa-ea3a-055f02ec0598"
      },
      "execution_count": null,
      "outputs": [
        {
          "output_type": "stream",
          "name": "stdout",
          "text": [
            "244\n"
          ]
        }
      ]
    },
    {
      "cell_type": "code",
      "source": [
        "from numpy.core.fromnumeric import mean\n",
        "from numpy.lib.function_base import average\n",
        "\n",
        "num_avg = average (num)\n",
        "#num_ mean\n",
        "\n",
        "print (num_avg)\n",
        "#print (num_mean)"
      ],
      "metadata": {
        "colab": {
          "base_uri": "https://localhost:8080/"
        },
        "id": "Ne4unIbiiTtS",
        "outputId": "39691537-1f53-459f-db03-5de6c86d1b29"
      },
      "execution_count": null,
      "outputs": [
        {
          "output_type": "stream",
          "name": "stdout",
          "text": [
            "5.5\n"
          ]
        }
      ]
    },
    {
      "cell_type": "markdown",
      "source": [
        "# **DIMENSIONAL ARRAYS**\n",
        "\n",
        "In numpy there is 1D arrays, 2D arrays, 3D arrays\n",
        "\n",
        "* we use the number of brackets to know the type of dimentional arrays\n",
        "\n",
        "1D array is just like a normal list because all the items are in one list (no nested list)"
      ],
      "metadata": {
        "id": "NzjP4pHJyKRQ"
      }
    },
    {
      "cell_type": "code",
      "source": [
        "#1D array\n",
        "# all one dimension arrays are called VECTORS\n",
        "\n",
        "\n",
        "one_D = np.array ([0,1,2,3,4,5,6,7,8,9,10,11,12])     # all the items are in one list\n",
        "                                              #it closed with one bracket==iD array"
      ],
      "metadata": {
        "id": "lyrtwQKry3pr"
      },
      "execution_count": null,
      "outputs": []
    },
    {
      "cell_type": "code",
      "source": [
        "#2D array\n",
        "\n",
        "two_D = np.array ([[1,2,3], [4,5,6], [7,8,9,],[5,7,7]])      #it closed with two bracket==2D array\n",
        "\n",
        "print(two_D)"
      ],
      "metadata": {
        "colab": {
          "base_uri": "https://localhost:8080/"
        },
        "id": "fngHHxRlzLBZ",
        "outputId": "0cd49843-7a46-4ff5-d6dc-365cf14ab068"
      },
      "execution_count": null,
      "outputs": [
        {
          "output_type": "stream",
          "name": "stdout",
          "text": [
            "[[1 2 3]\n",
            " [4 5 6]\n",
            " [7 8 9]\n",
            " [5 7 7]]\n"
          ]
        }
      ]
    },
    {
      "cell_type": "code",
      "source": [
        "three_D = np.array ([[[1,2,3], [4,5,6], [7,8,9]]])\n",
        "\n",
        "print(three_D)"
      ],
      "metadata": {
        "colab": {
          "base_uri": "https://localhost:8080/"
        },
        "id": "HhDUGqMGpX5g",
        "outputId": "6a14a73c-d905-4853-a185-2f389138627a"
      },
      "execution_count": null,
      "outputs": [
        {
          "output_type": "stream",
          "name": "stdout",
          "text": [
            "[[[1 2 3]\n",
            "  [4 5 6]\n",
            "  [7 8 9]]]\n"
          ]
        }
      ]
    },
    {
      "cell_type": "code",
      "source": [
        "# indexing in numpy and normal way\n",
        "\n",
        "#normal way\n",
        "normal_way = two_D [1,1]\n",
        "\n",
        "#numpy\n",
        "np_way = two_D [1,1]\n",
        "\n",
        "print (normal_way)\n",
        "print (np_way)"
      ],
      "metadata": {
        "colab": {
          "base_uri": "https://localhost:8080/"
        },
        "id": "IqF7GaaP1QMv",
        "outputId": "4db2860a-1717-4aeb-91cd-17c8ef4db7c9"
      },
      "execution_count": null,
      "outputs": [
        {
          "output_type": "stream",
          "name": "stdout",
          "text": [
            "5\n",
            "5\n"
          ]
        }
      ]
    },
    {
      "cell_type": "code",
      "source": [
        "#slicing and indexing 2D arrays\n",
        "\n",
        "print ('item in row1, column2 is: ', two_D [1,2])\n",
        "print ('first row: ', two_D [0,:])\n",
        "print ('second column: ', two_D [:,1])\n",
        "print()\n",
        "print ('all 2D array: ', two_D [:])"
      ],
      "metadata": {
        "colab": {
          "base_uri": "https://localhost:8080/"
        },
        "id": "Ov-1h4YJ6JE7",
        "outputId": "faa106e0-af6c-4d14-f148-a55685a4474a"
      },
      "execution_count": null,
      "outputs": [
        {
          "output_type": "stream",
          "name": "stdout",
          "text": [
            "item in row1, column2 is:  6\n",
            "first row:  [1 2 3]\n",
            "second column:  [2 5 8 7]\n",
            "\n",
            "all 2D array:  [[1 2 3]\n",
            " [4 5 6]\n",
            " [7 8 9]\n",
            " [5 7 7]]\n"
          ]
        }
      ]
    },
    {
      "cell_type": "code",
      "source": [
        "# to check the shape of the numpy\n",
        "#shape will tell you the number of rows and column\n",
        "#while ndim will tell you the dimension\n",
        "\n",
        "print('shape of the array: ', one_D.shape)\n",
        "print('shape of the array: ',two_D.shape)\n",
        "print('shape of the array: ',three_D.shape)"
      ],
      "metadata": {
        "colab": {
          "base_uri": "https://localhost:8080/"
        },
        "id": "s4pLZGfN8NiW",
        "outputId": "e20e212a-16e8-48ec-9b20-bb1ebb1dee94"
      },
      "execution_count": null,
      "outputs": [
        {
          "output_type": "stream",
          "name": "stdout",
          "text": [
            "shape of the array:  (10,)\n",
            "shape of the array:  (3, 3)\n",
            "shape of the array:  (1, 3, 3)\n"
          ]
        }
      ]
    },
    {
      "cell_type": "code",
      "source": [
        "# to find the number of dimensions\n",
        "# we use the '.ndim' attributes\n",
        "\n",
        "print('Number of dimension (1D): ', one_D.ndim)\n",
        "print('Number of dimension (2D): ', two_D.ndim)\n",
        "print('Number of dimension (3D): ', three_D.ndim)\n"
      ],
      "metadata": {
        "colab": {
          "base_uri": "https://localhost:8080/"
        },
        "id": "Ns_Plxs8_beq",
        "outputId": "3ffe4aef-1cbb-4e25-b41a-d5315c184dbb"
      },
      "execution_count": null,
      "outputs": [
        {
          "output_type": "stream",
          "name": "stdout",
          "text": [
            "Number of dimension (1D):  1\n",
            "Number of dimension (2D):  2\n",
            "Number of dimension (3D):  3\n"
          ]
        }
      ]
    },
    {
      "cell_type": "code",
      "source": [
        "# data type of the array\n",
        "#array comes with type and we can find it with the attribute 'dtype'\n",
        "#dtype is very important in pandas\n",
        "\n",
        "type1 = one_D.dtype\n",
        "type2 = two_D.dtype\n",
        "\n",
        "print(type1)\n",
        "print(type2)"
      ],
      "metadata": {
        "colab": {
          "base_uri": "https://localhost:8080/"
        },
        "id": "vM7-I68h8y8s",
        "outputId": "6e974d1f-ba73-442f-d149-3da00a639a7a"
      },
      "execution_count": null,
      "outputs": [
        {
          "output_type": "stream",
          "name": "stdout",
          "text": [
            "int64\n",
            "int64\n"
          ]
        }
      ]
    },
    {
      "cell_type": "code",
      "source": [
        "#Sum of all element in the array\n",
        "\n",
        "sum_oneD = one_D.sum()\n",
        "sum_twoD = two_D.sum()\n",
        "sum_threeD = three_D.sum()\n",
        "\n",
        "print ('Sum of all element is', sum_oneD)\n",
        "print ('Sum of all element is', sum_twoD)\n",
        "print ('Sum of all element is', sum_threeD)"
      ],
      "metadata": {
        "colab": {
          "base_uri": "https://localhost:8080/"
        },
        "id": "BODRdW_3t5Ig",
        "outputId": "8c701c2d-261a-46d2-dcd8-d459fb32e8b7"
      },
      "execution_count": null,
      "outputs": [
        {
          "output_type": "stream",
          "name": "stdout",
          "text": [
            "Sum of all element is 78\n",
            "Sum of all element is 64\n",
            "Sum of all element is 45\n"
          ]
        }
      ]
    },
    {
      "cell_type": "code",
      "source": [
        "#Maximum and minimum item in element\n",
        "\n",
        "min_oneD = one_D.min()\n",
        "min_twoD = two_D.min()\n",
        "min_threeD = three_D.min()\n",
        "\n",
        "max_oneD = one_D.max()\n",
        "max_twoD = two_D.max()\n",
        "max_threeD = three_D.max()\n",
        "\n",
        "print ('Minimum element is', min_oneD)\n",
        "print ('Minimum element is', min_twoD)\n",
        "print ('Minimum element is', min_threeD)\n",
        "print()\n",
        "print ('Maximum element is', max_oneD)\n",
        "print ('Maximum element is', max_twoD)\n",
        "print ('Maximum element is', max_threeD)\n"
      ],
      "metadata": {
        "colab": {
          "base_uri": "https://localhost:8080/"
        },
        "id": "U84GnikovBNs",
        "outputId": "d72d06e3-bd03-4360-80a3-74474f489ce9"
      },
      "execution_count": null,
      "outputs": [
        {
          "output_type": "stream",
          "name": "stdout",
          "text": [
            "Minimum element is 0\n",
            "Minimum element is 1\n",
            "Minimum element is 1\n",
            "\n",
            "Maximum element is 12\n",
            "Maximum element is 9\n",
            "Maximum element is 9\n"
          ]
        }
      ]
    },
    {
      "cell_type": "code",
      "source": [
        "#mean and standard deviation\n",
        "\n",
        "mean_oneD = one_D.mean()\n",
        "mean_twoD = two_D.mean()\n",
        "mean_threeD = three_D.mean()\n",
        "\n",
        "std_oneD = one_D.std()\n",
        "std_twoD = two_D.std()\n",
        "std_threeD = three_D.std()\n",
        "\n",
        "Var_oneD = one_D.var()\n",
        "Var_twoD = two_D.var()\n",
        "Var_threeD = three_D.var()\n",
        "\n",
        "print ('mean 1D is:', mean_oneD)\n",
        "print ('mean 2D is:', mean_twoD)\n",
        "print ('mean 3D is:', mean_threeD)\n",
        "print()\n",
        "print ('Std 1D is:', std_oneD)\n",
        "print ('Std 1D is:', std_twoD)\n",
        "print ('Std 1D is:', std_threeD)\n",
        "print()\n",
        "print ('Var 1D is:', Var_oneD)\n",
        "print ('Var 1D is:', Var_twoD)\n",
        "print ('Var 1D is:', Var_threeD)"
      ],
      "metadata": {
        "colab": {
          "base_uri": "https://localhost:8080/"
        },
        "id": "GUA6EnHiwXqx",
        "outputId": "126c5e9b-1f6f-4170-e86b-09884131c423"
      },
      "execution_count": null,
      "outputs": [
        {
          "output_type": "stream",
          "name": "stdout",
          "text": [
            "mean 1D is: 6.0\n",
            "mean 2D is: 5.333333333333333\n",
            "mean 3D is: 5.0\n",
            "\n",
            "Std 1D is: 3.7416573867739413\n",
            "Std 1D is: 2.3570226039551585\n",
            "Std 1D is: 2.581988897471611\n",
            "\n",
            "Var 1D is: 14.0\n",
            "Var 1D is: 5.555555555555556\n",
            "Var 1D is: 6.666666666666667\n"
          ]
        }
      ]
    },
    {
      "cell_type": "code",
      "source": [
        "#rehsaping an array\n",
        "#four_D = np.array ([[1,2,3], [4,5,6], [7,8,9]])\n",
        "\n",
        "#reshaped_twoD = one_D.reshape(2,5)\n",
        "\n",
        "#print ('mean 1D is:', reshaped_twoD)"
      ],
      "metadata": {
        "id": "IIh3davZ1XAp"
      },
      "execution_count": null,
      "outputs": []
    },
    {
      "cell_type": "markdown",
      "source": [
        "# **Testing RANGE WITH numpy and normal list**\n",
        "\n"
      ],
      "metadata": {
        "id": "eKqkPfTLnI6W"
      }
    },
    {
      "cell_type": "code",
      "source": [
        "%time list_range = list (range(500))      #list used 23.6 micro second to generate the result\n",
        "\n",
        "print (list_range)"
      ],
      "metadata": {
        "colab": {
          "base_uri": "https://localhost:8080/"
        },
        "id": "_u4iGKALmYij",
        "outputId": "07b0f357-dedb-4c9f-b51f-7504deaf9fc0"
      },
      "execution_count": null,
      "outputs": [
        {
          "output_type": "stream",
          "name": "stdout",
          "text": [
            "CPU times: user 17 µs, sys: 2 µs, total: 19 µs\n",
            "Wall time: 23.6 µs\n",
            "[0, 1, 2, 3, 4, 5, 6, 7, 8, 9, 10, 11, 12, 13, 14, 15, 16, 17, 18, 19, 20, 21, 22, 23, 24, 25, 26, 27, 28, 29, 30, 31, 32, 33, 34, 35, 36, 37, 38, 39, 40, 41, 42, 43, 44, 45, 46, 47, 48, 49, 50, 51, 52, 53, 54, 55, 56, 57, 58, 59, 60, 61, 62, 63, 64, 65, 66, 67, 68, 69, 70, 71, 72, 73, 74, 75, 76, 77, 78, 79, 80, 81, 82, 83, 84, 85, 86, 87, 88, 89, 90, 91, 92, 93, 94, 95, 96, 97, 98, 99, 100, 101, 102, 103, 104, 105, 106, 107, 108, 109, 110, 111, 112, 113, 114, 115, 116, 117, 118, 119, 120, 121, 122, 123, 124, 125, 126, 127, 128, 129, 130, 131, 132, 133, 134, 135, 136, 137, 138, 139, 140, 141, 142, 143, 144, 145, 146, 147, 148, 149, 150, 151, 152, 153, 154, 155, 156, 157, 158, 159, 160, 161, 162, 163, 164, 165, 166, 167, 168, 169, 170, 171, 172, 173, 174, 175, 176, 177, 178, 179, 180, 181, 182, 183, 184, 185, 186, 187, 188, 189, 190, 191, 192, 193, 194, 195, 196, 197, 198, 199, 200, 201, 202, 203, 204, 205, 206, 207, 208, 209, 210, 211, 212, 213, 214, 215, 216, 217, 218, 219, 220, 221, 222, 223, 224, 225, 226, 227, 228, 229, 230, 231, 232, 233, 234, 235, 236, 237, 238, 239, 240, 241, 242, 243, 244, 245, 246, 247, 248, 249, 250, 251, 252, 253, 254, 255, 256, 257, 258, 259, 260, 261, 262, 263, 264, 265, 266, 267, 268, 269, 270, 271, 272, 273, 274, 275, 276, 277, 278, 279, 280, 281, 282, 283, 284, 285, 286, 287, 288, 289, 290, 291, 292, 293, 294, 295, 296, 297, 298, 299, 300, 301, 302, 303, 304, 305, 306, 307, 308, 309, 310, 311, 312, 313, 314, 315, 316, 317, 318, 319, 320, 321, 322, 323, 324, 325, 326, 327, 328, 329, 330, 331, 332, 333, 334, 335, 336, 337, 338, 339, 340, 341, 342, 343, 344, 345, 346, 347, 348, 349, 350, 351, 352, 353, 354, 355, 356, 357, 358, 359, 360, 361, 362, 363, 364, 365, 366, 367, 368, 369, 370, 371, 372, 373, 374, 375, 376, 377, 378, 379, 380, 381, 382, 383, 384, 385, 386, 387, 388, 389, 390, 391, 392, 393, 394, 395, 396, 397, 398, 399, 400, 401, 402, 403, 404, 405, 406, 407, 408, 409, 410, 411, 412, 413, 414, 415, 416, 417, 418, 419, 420, 421, 422, 423, 424, 425, 426, 427, 428, 429, 430, 431, 432, 433, 434, 435, 436, 437, 438, 439, 440, 441, 442, 443, 444, 445, 446, 447, 448, 449, 450, 451, 452, 453, 454, 455, 456, 457, 458, 459, 460, 461, 462, 463, 464, 465, 466, 467, 468, 469, 470, 471, 472, 473, 474, 475, 476, 477, 478, 479, 480, 481, 482, 483, 484, 485, 486, 487, 488, 489, 490, 491, 492, 493, 494, 495, 496, 497, 498, 499]\n"
          ]
        }
      ]
    },
    {
      "cell_type": "code",
      "source": [
        "%time numpy_range = np.arange(500)       #while numpy used 13 micro second to generate the result\n",
        "                                              #with the time used, numpy is faster\n",
        "print (numpy_range)\n",
        "\n"
      ],
      "metadata": {
        "colab": {
          "base_uri": "https://localhost:8080/"
        },
        "id": "XH4yc86qmtuM",
        "outputId": "d179c77a-f6a1-4c60-be9a-455f44f73f73"
      },
      "execution_count": null,
      "outputs": [
        {
          "output_type": "stream",
          "name": "stdout",
          "text": [
            "CPU times: user 53 µs, sys: 4 µs, total: 57 µs\n",
            "Wall time: 61.8 µs\n",
            "[  0   1   2   3   4   5   6   7   8   9  10  11  12  13  14  15  16  17\n",
            "  18  19  20  21  22  23  24  25  26  27  28  29  30  31  32  33  34  35\n",
            "  36  37  38  39  40  41  42  43  44  45  46  47  48  49  50  51  52  53\n",
            "  54  55  56  57  58  59  60  61  62  63  64  65  66  67  68  69  70  71\n",
            "  72  73  74  75  76  77  78  79  80  81  82  83  84  85  86  87  88  89\n",
            "  90  91  92  93  94  95  96  97  98  99 100 101 102 103 104 105 106 107\n",
            " 108 109 110 111 112 113 114 115 116 117 118 119 120 121 122 123 124 125\n",
            " 126 127 128 129 130 131 132 133 134 135 136 137 138 139 140 141 142 143\n",
            " 144 145 146 147 148 149 150 151 152 153 154 155 156 157 158 159 160 161\n",
            " 162 163 164 165 166 167 168 169 170 171 172 173 174 175 176 177 178 179\n",
            " 180 181 182 183 184 185 186 187 188 189 190 191 192 193 194 195 196 197\n",
            " 198 199 200 201 202 203 204 205 206 207 208 209 210 211 212 213 214 215\n",
            " 216 217 218 219 220 221 222 223 224 225 226 227 228 229 230 231 232 233\n",
            " 234 235 236 237 238 239 240 241 242 243 244 245 246 247 248 249 250 251\n",
            " 252 253 254 255 256 257 258 259 260 261 262 263 264 265 266 267 268 269\n",
            " 270 271 272 273 274 275 276 277 278 279 280 281 282 283 284 285 286 287\n",
            " 288 289 290 291 292 293 294 295 296 297 298 299 300 301 302 303 304 305\n",
            " 306 307 308 309 310 311 312 313 314 315 316 317 318 319 320 321 322 323\n",
            " 324 325 326 327 328 329 330 331 332 333 334 335 336 337 338 339 340 341\n",
            " 342 343 344 345 346 347 348 349 350 351 352 353 354 355 356 357 358 359\n",
            " 360 361 362 363 364 365 366 367 368 369 370 371 372 373 374 375 376 377\n",
            " 378 379 380 381 382 383 384 385 386 387 388 389 390 391 392 393 394 395\n",
            " 396 397 398 399 400 401 402 403 404 405 406 407 408 409 410 411 412 413\n",
            " 414 415 416 417 418 419 420 421 422 423 424 425 426 427 428 429 430 431\n",
            " 432 433 434 435 436 437 438 439 440 441 442 443 444 445 446 447 448 449\n",
            " 450 451 452 453 454 455 456 457 458 459 460 461 462 463 464 465 466 467\n",
            " 468 469 470 471 472 473 474 475 476 477 478 479 480 481 482 483 484 485\n",
            " 486 487 488 489 490 491 492 493 494 495 496 497 498 499]\n"
          ]
        }
      ]
    },
    {
      "cell_type": "markdown",
      "source": [
        "# **AXIS**"
      ],
      "metadata": {
        "id": "QHT-3Th4FrGi"
      }
    },
    {
      "cell_type": "code",
      "source": [
        "## axis\n",
        "## axis sums each row and also column\n",
        "## sum by row and create an ID array\n",
        "## axis 1 sum rows, axis 0 sums colums\n",
        "\n",
        "print(two_D.sum(axis = 1))\t\t\t#axis1 is for row #axis 0 is for column (in numpy)\n",
        "print(three_D.sum(axis = 1))"
      ],
      "metadata": {
        "colab": {
          "base_uri": "https://localhost:8080/"
        },
        "id": "S7zR_MqtFwrs",
        "outputId": "c82ea042-c9b6-4d42-f400-d4b1318717d8"
      },
      "execution_count": null,
      "outputs": [
        {
          "output_type": "stream",
          "name": "stdout",
          "text": [
            "[ 6 15 24 19]\n",
            "[[12 15 18]]\n"
          ]
        }
      ]
    },
    {
      "cell_type": "code",
      "source": [
        "## sum by column and create an ID array\n",
        "\n",
        "print(two_D.sum(axis = 0)) \t\t\t#axis1 is for row #axis 0 is for column (in numpy)\n",
        "print()\n",
        "print(three_D.sum(axis = 0))"
      ],
      "metadata": {
        "colab": {
          "base_uri": "https://localhost:8080/"
        },
        "id": "6JUktQIvGMc2",
        "outputId": "3e9a9641-46a8-465a-a003-74cc0610f8ac"
      },
      "execution_count": null,
      "outputs": [
        {
          "output_type": "stream",
          "name": "stdout",
          "text": [
            "[17 22 25]\n",
            "\n",
            "[[1 2 3]\n",
            " [4 5 6]\n",
            " [7 8 9]]\n"
          ]
        }
      ]
    },
    {
      "cell_type": "markdown",
      "source": [
        "# **NUMERIC COMPUTATION**"
      ],
      "metadata": {
        "id": "B-ivjCAVRkBN"
      }
    },
    {
      "cell_type": "code",
      "source": [
        "arr1 = np.array([1,2,3])\n",
        "arr2 = np.array([1,5,5])\n",
        "\n",
        "print (arr1, arr2)"
      ],
      "metadata": {
        "colab": {
          "base_uri": "https://localhost:8080/"
        },
        "id": "kPuynpkORsD_",
        "outputId": "1d1bb420-29b7-4ba2-b6b1-f1e53da0657e"
      },
      "execution_count": null,
      "outputs": [
        {
          "output_type": "stream",
          "name": "stdout",
          "text": [
            "element addition is [2 7 8]\n",
            "[1 2 3] [1 5 5]\n"
          ]
        }
      ]
    },
    {
      "cell_type": "code",
      "source": [
        "## adding 2 list together\n",
        "\n",
        "result_addition = arr1 + arr2 \t\t\t\t\t## a normal python list cannot do it, it works because is numpy\n",
        "\n",
        "print ('element addition is', result_addition)"
      ],
      "metadata": {
        "colab": {
          "base_uri": "https://localhost:8080/"
        },
        "id": "ThKCTPNHHnOn",
        "outputId": "caeed296-d987-4f61-dd3e-71c899dae773"
      },
      "execution_count": null,
      "outputs": [
        {
          "output_type": "stream",
          "name": "stdout",
          "text": [
            "element addition is [2 7 8]\n"
          ]
        }
      ]
    },
    {
      "cell_type": "code",
      "source": [
        "## dividing 2 list by eachother\n",
        "\n",
        "result_division = arr1 / arr2 \t\t\t\t\t\t## a normal python list cannot do it, it works because is numpy\n",
        "result_division1 = arr2 / arr1          ## there are different\n",
        "\n",
        "print ('element division is', result_division)\n",
        "print()\n",
        "print ('element division is', result_division1)"
      ],
      "metadata": {
        "colab": {
          "base_uri": "https://localhost:8080/"
        },
        "id": "csK2ThFGHvD7",
        "outputId": "a6bbed2f-7f38-426f-bc0e-622deb8ccce7"
      },
      "execution_count": null,
      "outputs": [
        {
          "output_type": "stream",
          "name": "stdout",
          "text": [
            "element division is [1.  0.4 0.6]\n",
            "\n",
            "element division is [1.         2.5        1.66666667]\n"
          ]
        }
      ]
    },
    {
      "cell_type": "code",
      "source": [
        "## multipling  an array  by eachother\n",
        "\n",
        "result_multiplication = arr1 * arr2 \t\t\t\t\t\t## a normal python list cannot do it, it works because is numpy\n",
        "\n",
        "print ('element multiplication is', result_multiplication)"
      ],
      "metadata": {
        "colab": {
          "base_uri": "https://localhost:8080/"
        },
        "id": "EGfengAFIR_f",
        "outputId": "93503ff8-a1d5-4f12-e205-18742aa4321e"
      },
      "execution_count": null,
      "outputs": [
        {
          "output_type": "stream",
          "name": "stdout",
          "text": [
            "element addition is [ 1 10 15]\n"
          ]
        }
      ]
    },
    {
      "cell_type": "code",
      "source": [
        "## Dot product\n",
        "## same thing with sumproduct in excel\n",
        "\n",
        "dot_product = np.dot(arr1, arr2)\n",
        "\n",
        "print ('element sumproduct is', dot_product)\n",
        "\n",
        "print()\n",
        "\n",
        "## OR\n",
        "\n",
        "dot_product1 = arr1 @ arr2\n",
        "\n",
        "print ('element sumproduct is', dot_product1)\n"
      ],
      "metadata": {
        "colab": {
          "base_uri": "https://localhost:8080/"
        },
        "id": "rWxIWb0vIdIB",
        "outputId": "075f9700-a467-4a84-f7bf-a819d4be4bd6"
      },
      "execution_count": null,
      "outputs": [
        {
          "output_type": "stream",
          "name": "stdout",
          "text": [
            "element sumproduct is 26\n",
            "\n",
            "element sumproduct is 26\n"
          ]
        }
      ]
    },
    {
      "cell_type": "code",
      "source": [
        "## combining two arrays together\n",
        "\n",
        "arr3 = np.array([arr1, arr2])\n",
        "\n",
        "print (arr3)\n"
      ],
      "metadata": {
        "colab": {
          "base_uri": "https://localhost:8080/"
        },
        "id": "Y_SmoUqVSPLS",
        "outputId": "ed879c75-d150-452a-c55a-29e3e359569e"
      },
      "execution_count": null,
      "outputs": [
        {
          "output_type": "stream",
          "name": "stdout",
          "text": [
            "[[1 2 3]\n",
            " [1 5 5]]\n"
          ]
        }
      ]
    },
    {
      "cell_type": "code",
      "source": [
        "## Dot product\n",
        "\n",
        "dot_product4 = np.dot(arr3, arr2)\n",
        "\n",
        "print ('element sumproduct is', dot_product4)"
      ],
      "metadata": {
        "colab": {
          "base_uri": "https://localhost:8080/"
        },
        "id": "QkfZaTSySo5y",
        "outputId": "2d9884ee-f4e1-45aa-b51c-5aa9d4cffdbe"
      },
      "execution_count": null,
      "outputs": [
        {
          "output_type": "stream",
          "name": "stdout",
          "text": [
            "element sumproduct is [26 51]\n"
          ]
        }
      ]
    },
    {
      "cell_type": "markdown",
      "source": [
        "# **VECTOR ARRAY**\n",
        "\n",
        "\n",
        "\n",
        "*  all one dimension arrays are called VECTORS\n",
        "\n"
      ],
      "metadata": {
        "id": "jtC6_Ix8UvyS"
      }
    },
    {
      "cell_type": "code",
      "source": [
        "arr9 = np.arange(0,20,3)\n",
        "\n",
        "print (arr9)"
      ],
      "metadata": {
        "colab": {
          "base_uri": "https://localhost:8080/"
        },
        "id": "bFwl3TeGU2eS",
        "outputId": "8e759b2c-7c93-4df5-a596-e0a16acd43d5"
      },
      "execution_count": null,
      "outputs": [
        {
          "output_type": "stream",
          "name": "stdout",
          "text": [
            "[ 0  3  6  9 12 15 18]\n"
          ]
        }
      ]
    },
    {
      "cell_type": "code",
      "source": [
        "print (arr9 + 2)                # it will add 2 to all the items in the array\n",
        "                                # it wont affect the former array (arr9)"
      ],
      "metadata": {
        "colab": {
          "base_uri": "https://localhost:8080/"
        },
        "id": "XBY0_ZgxWe1r",
        "outputId": "b0a74c46-ac67-44d0-88d9-35e883fb471d"
      },
      "execution_count": null,
      "outputs": [
        {
          "output_type": "stream",
          "name": "stdout",
          "text": [
            "[ 2  5  8 11 14 17 20]\n"
          ]
        }
      ]
    },
    {
      "cell_type": "code",
      "source": [
        "arr9                  #it didnt affect it"
      ],
      "metadata": {
        "colab": {
          "base_uri": "https://localhost:8080/"
        },
        "id": "5zMFqStCW-Fo",
        "outputId": "fa0f3e00-1b61-44e2-94a7-a057225d6407"
      },
      "execution_count": null,
      "outputs": [
        {
          "output_type": "execute_result",
          "data": {
            "text/plain": [
              "array([ 0,  3,  6,  9, 12, 15, 18])"
            ]
          },
          "metadata": {},
          "execution_count": 7
        }
      ]
    },
    {
      "cell_type": "code",
      "source": [
        "print (arr9 ** 2)"
      ],
      "metadata": {
        "colab": {
          "base_uri": "https://localhost:8080/"
        },
        "id": "VmpUM3ADczix",
        "outputId": "9f822a7e-5f60-4842-a3c9-03012693840b"
      },
      "execution_count": null,
      "outputs": [
        {
          "output_type": "stream",
          "name": "stdout",
          "text": [
            "[  0   9  36  81 144 225 324]\n"
          ]
        }
      ]
    },
    {
      "cell_type": "markdown",
      "source": [
        "# **BOOLEAN ARRAY**"
      ],
      "metadata": {
        "id": "XsxtmC5te0qS"
      }
    },
    {
      "cell_type": "code",
      "source": [
        "arr9 > 3"
      ],
      "metadata": {
        "colab": {
          "base_uri": "https://localhost:8080/"
        },
        "id": "ZV-u_fHTe6J_",
        "outputId": "41efb58e-bed9-4bf8-8962-e8270b242c49"
      },
      "execution_count": null,
      "outputs": [
        {
          "output_type": "execute_result",
          "data": {
            "text/plain": [
              "array([False, False,  True,  True,  True,  True,  True])"
            ]
          },
          "metadata": {},
          "execution_count": 8
        }
      ]
    },
    {
      "cell_type": "code",
      "source": [
        "arr9 [arr9 > 3]"
      ],
      "metadata": {
        "colab": {
          "base_uri": "https://localhost:8080/"
        },
        "id": "TCs1y2Iw9197",
        "outputId": "a86c1d64-8bde-4a29-d268-ba500ff1c845"
      },
      "execution_count": null,
      "outputs": [
        {
          "output_type": "execute_result",
          "data": {
            "text/plain": [
              "array([ 6,  9, 12, 15, 18])"
            ]
          },
          "metadata": {},
          "execution_count": 9
        }
      ]
    },
    {
      "cell_type": "code",
      "source": [
        "## AND = &\n",
        "## OR = |\n",
        "## NOT =  ~\n",
        "\n",
        "print(arr9 [(arr9 > 3) & (arr9 < 13)])\n",
        "print(arr9 [(arr9 > 3) & (arr9 > 13)])\n",
        "print(arr9 [(arr9 > 3) | (arr9 < 13)])\n",
        "print(arr9 [ (arr9 > 3) & ~ (arr9 < 13)])\n",
        "print (arr9)"
      ],
      "metadata": {
        "colab": {
          "base_uri": "https://localhost:8080/"
        },
        "id": "T_wmTn6F_Hak",
        "outputId": "78f0555b-6d3d-45b6-b54a-aff66fbbbb36"
      },
      "execution_count": null,
      "outputs": [
        {
          "output_type": "stream",
          "name": "stdout",
          "text": [
            "[ 6  9 12]\n",
            "[15 18]\n",
            "[ 0  3  6  9 12 15 18]\n",
            "[15 18]\n",
            "[ 0  3  6  9 12 15 18]\n"
          ]
        }
      ]
    },
    {
      "cell_type": "code",
      "source": [
        "# to get even numbers\n",
        "\n",
        "arr9 [arr9 % 2 == 0]"
      ],
      "metadata": {
        "colab": {
          "base_uri": "https://localhost:8080/"
        },
        "id": "1MPCOEU2C_m4",
        "outputId": "a6081dd7-20d5-47a6-9dec-89e7eb839f2a"
      },
      "execution_count": null,
      "outputs": [
        {
          "output_type": "execute_result",
          "data": {
            "text/plain": [
              "array([ 0,  6, 12, 18])"
            ]
          },
          "metadata": {},
          "execution_count": 25
        }
      ]
    },
    {
      "cell_type": "code",
      "source": [
        "# to get odd numbers\n",
        "\n",
        "arr9 [ ~ arr9 % 2 == 0]"
      ],
      "metadata": {
        "colab": {
          "base_uri": "https://localhost:8080/"
        },
        "id": "DIsulfdpDOmb",
        "outputId": "168722cc-2a10-49ed-f3c3-1f4d25efbded"
      },
      "execution_count": null,
      "outputs": [
        {
          "output_type": "execute_result",
          "data": {
            "text/plain": [
              "array([ 3,  9, 15])"
            ]
          },
          "metadata": {},
          "execution_count": 26
        }
      ]
    },
    {
      "cell_type": "code",
      "source": [
        "# generate random numbers\n",
        "\n",
        "RandNum = np.arange (10,100,10)       # it will generate a range that will start from 10 and also inmultiples of 10\n",
        "\n",
        "print (RandNum)\n",
        "\n",
        "\n",
        "RandNum1 = np.random.randint (100,size=10)         #return random numbers of any form\n",
        "#not sorted, not in multiples of anything\n",
        "\n",
        "print (RandNum1)"
      ],
      "metadata": {
        "colab": {
          "base_uri": "https://localhost:8080/"
        },
        "id": "KoelKVHhD0ZX",
        "outputId": "8c15f1cc-7dad-42fe-b36f-128ad7c89b7d"
      },
      "execution_count": null,
      "outputs": [
        {
          "output_type": "stream",
          "name": "stdout",
          "text": [
            "[10 20 30 40 50 60 70 80 90]\n",
            "[22 47 72 36 92 60 66 69 22 15]\n"
          ]
        }
      ]
    },
    {
      "cell_type": "code",
      "source": [
        "# using for loop to generate a random that will print each number one after the other like raffle draw\n",
        "\n",
        "for number in range (len (RandNum1) + 1):\n",
        "  print (np.random.choice (RandNum1))"
      ],
      "metadata": {
        "colab": {
          "base_uri": "https://localhost:8080/"
        },
        "id": "AS8SlJpKF01d",
        "outputId": "235ecf10-042f-42d3-a869-3f11adf48e46"
      },
      "execution_count": null,
      "outputs": [
        {
          "output_type": "stream",
          "name": "stdout",
          "text": [
            "22\n",
            "92\n",
            "60\n",
            "15\n",
            "47\n",
            "22\n",
            "66\n",
            "36\n",
            "66\n",
            "22\n",
            "92\n"
          ]
        }
      ]
    }
  ]
}