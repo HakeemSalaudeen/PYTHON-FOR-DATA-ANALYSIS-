{
  "nbformat": 4,
  "nbformat_minor": 0,
  "metadata": {
    "colab": {
      "provenance": [],
      "include_colab_link": true
    },
    "kernelspec": {
      "name": "python3",
      "display_name": "Python 3"
    },
    "language_info": {
      "name": "python"
    }
  },
  "cells": [
    {
      "cell_type": "markdown",
      "metadata": {
        "id": "view-in-github",
        "colab_type": "text"
      },
      "source": [
        "<a href=\"https://colab.research.google.com/github/HakeemSalaudeen/PYTHON-FOR-DATA-ANALYSIS-/blob/main/VARIABLES_AND_LOGICAL_OPERATORS.ipynb\" target=\"_parent\"><img src=\"https://colab.research.google.com/assets/colab-badge.svg\" alt=\"Open In Colab\"/></a>"
      ]
    },
    {
      "cell_type": "markdown",
      "source": [
        "# **VARIABLES**"
      ],
      "metadata": {
        "id": "rUBmwGbML8fN"
      }
    },
    {
      "cell_type": "code",
      "execution_count": null,
      "metadata": {
        "colab": {
          "base_uri": "https://localhost:8080/"
        },
        "id": "oKi7ozQXe7TS",
        "outputId": "149be1f9-c320-40b6-a5fa-9ec76b630d0f"
      },
      "outputs": [
        {
          "output_type": "stream",
          "name": "stdout",
          "text": [
            "andriod, ios\n",
            "2\n",
            "60.7\n",
            "True\n",
            "d\n",
            "andriod, ios 2 60.7 True\n"
          ]
        }
      ],
      "source": [
        "#variable typees in python\n",
        "num_of_phone = 2                             #integer\n",
        "name_of_phone = 'andriod, ios'               #string\n",
        "height = 60.7                                 #float\n",
        "profile = True                                #bool\n",
        "\n",
        "print (name_of_phone)\n",
        "print (num_of_phone)\n",
        "print (height)\n",
        "print (profile)\n",
        "print (name_of_phone[2])\n",
        "print (name_of_phone, num_of_phone, height, profile )\n"
      ]
    },
    {
      "cell_type": "code",
      "source": [
        "##arithmethic operators in python\n",
        "x = 50\n",
        "y = 3\n",
        "\n",
        "print (x+y)                       #addition\n",
        "print (x*y)                       #multiplication\n",
        "print (x-y)                       #subtraction\n",
        "print (x/y)                       #division\n",
        "print (x//y)                      #floor\n",
        "print (x**y)                      #exponential\n",
        "print (x%y)                       #modulus\n",
        "print (x*x*x)                     #raise to power"
      ],
      "metadata": {
        "colab": {
          "base_uri": "https://localhost:8080/"
        },
        "id": "KhKoCgv6hPGD",
        "outputId": "781994c4-4796-4b6a-dc23-670cfe6921d7"
      },
      "execution_count": null,
      "outputs": [
        {
          "output_type": "stream",
          "name": "stdout",
          "text": [
            "53\n",
            "150\n",
            "47\n",
            "16.666666666666668\n",
            "16\n",
            "125000\n",
            "2\n",
            "125000\n",
            "55\n"
          ]
        }
      ]
    },
    {
      "cell_type": "code",
      "source": [
        "#concertenate\n",
        "first_name = 'Abdulhakeem'\n",
        "last_name = 'salaudeen'\n",
        "middle_name = 'oluwatobi'\n",
        "ful_name = first_name + ' ' + last_name + ' ' + middle_name\n",
        "\n",
        "print(first_name + ' ' + last_name + ' ' + middle_name)\n",
        "print (ful_name)\n",
        "\n"
      ],
      "metadata": {
        "colab": {
          "base_uri": "https://localhost:8080/"
        },
        "id": "bMeaL4PCk1AX",
        "outputId": "059c5d3f-2863-4348-cb59-97bcc7e566b7"
      },
      "execution_count": null,
      "outputs": [
        {
          "output_type": "stream",
          "name": "stdout",
          "text": [
            "Abdulhakeem salaudeen oluwatobi\n",
            "Abdulhakeem salaudeen oluwatobi\n"
          ]
        }
      ]
    },
    {
      "cell_type": "code",
      "source": [
        "#using multiplicsation to create dash\n",
        "print('-' *50)\n",
        "print('=' *50)\n",
        "print('_' *50)\n",
        "print('/' *50)\n",
        "print('*' *50)"
      ],
      "metadata": {
        "colab": {
          "base_uri": "https://localhost:8080/"
        },
        "id": "m08XUTc-osl9",
        "outputId": "535c33d4-5763-4ca5-c971-bc40075600f7"
      },
      "execution_count": null,
      "outputs": [
        {
          "output_type": "stream",
          "name": "stdout",
          "text": [
            "--------------------------------------------------\n",
            "==================================================\n",
            "__________________________________________________\n",
            "//////////////////////////////////////////////////\n",
            "**************************************************\n"
          ]
        }
      ]
    },
    {
      "cell_type": "markdown",
      "source": [
        "# **strip, split, title, lower, upper**"
      ],
      "metadata": {
        "id": "dBw1IDlRMiB8"
      }
    },
    {
      "cell_type": "code",
      "source": [
        "#strip, split, title, lower, upper, find\n",
        "home_address = '2b, emeka nweze street, admiralty, lekki, lagos state.'\n",
        "home_address2 = '             2b, emeka nweze street, admiralty, lekki, lagos state.'\n",
        "print (home_address)\n",
        "print (home_address.title())                                     #proper casing\n",
        "print ('\\n')                                                     #new line\n",
        "print (home_address.upper())                                     #capital letters\n",
        "print (home_address.lower())                                     #small letters\n",
        "print (home_address.split(','))                                  #split the string\n",
        "print (home_address2.strip())                                    #remove spaces\n",
        "print (len(home_address2), len(home_address))                    #count the number of character in a string\n",
        "print (home_address.split(',') [-2])                             #indexing in a list\n",
        "\n",
        "\n",
        "\n",
        "\n"
      ],
      "metadata": {
        "colab": {
          "base_uri": "https://localhost:8080/"
        },
        "id": "-ZcX_j2ltOpW",
        "outputId": "1d4fe4af-5543-4859-da60-67e618a8ec70"
      },
      "execution_count": null,
      "outputs": [
        {
          "output_type": "stream",
          "name": "stdout",
          "text": [
            "2b, emeka nweze street, admiralty, lekki, lagos state.\n",
            "2B, Emeka Nweze Street, Admiralty, Lekki, Lagos State.\n",
            "\n",
            "\n",
            "2B, EMEKA NWEZE STREET, ADMIRALTY, LEKKI, LAGOS STATE.\n",
            "2b, emeka nweze street, admiralty, lekki, lagos state.\n",
            "['2b', ' emeka nweze street', ' admiralty', ' lekki', ' lagos state.']\n",
            "2b, emeka nweze street, admiralty, lekki, lagos state.\n",
            "67 54\n",
            " lekki\n"
          ]
        }
      ]
    },
    {
      "cell_type": "code",
      "source": [
        "#to give space in python print('\\n')\n",
        "#it means next line"
      ],
      "metadata": {
        "id": "EC2zxjwxwo5w"
      },
      "execution_count": null,
      "outputs": []
    },
    {
      "cell_type": "code",
      "source": [
        "#print format\n",
        "#calcuylator to add two numbers\n",
        "num1 = 2\n",
        "num2 = 4\n",
        "result  = num1 + num2\n",
        "\n",
        "print(result)\n",
        "#to add print format so it can present the result in a perfect way\n",
        "print('the answer is ' + str(result) )\n",
        "print ('the answer is {}'. format(result))\n",
        "print ('The addition of {} and {} is {}'.format(num1, num2, result))\n",
        "print (f'The addition of {num1} and {num2} is {result}')\n"
      ],
      "metadata": {
        "colab": {
          "base_uri": "https://localhost:8080/"
        },
        "id": "1w7bnusX8xxq",
        "outputId": "594c3192-7448-4a9e-d61f-07a066f00544"
      },
      "execution_count": null,
      "outputs": [
        {
          "output_type": "stream",
          "name": "stdout",
          "text": [
            "6\n",
            "the answer is 6\n",
            "the answer is 6\n",
            "The addition of 2 and 4 is 6\n",
            "The addition of 2 and 4 is 6\n"
          ]
        }
      ]
    },
    {
      "cell_type": "code",
      "source": [
        "#input format\n",
        "#CALCULATOR TO ADD TWO NUMBERS\n",
        "\n",
        "num1 = int(input(\"Enter the first number: \") )\n",
        "num2 = 6\n",
        "result = num1 + num2\n",
        "print (f'The addition of {num1} and {num2} is {result}')\n",
        "\n",
        "\n",
        "num1 = int(input(\"Enter the first number: \") )\n",
        "num2 = int(input(\"Enter the second number: \") )\n",
        "result = num1 + num2\n",
        "print (f'The addition of {num1} and {num2} is {result}')"
      ],
      "metadata": {
        "colab": {
          "base_uri": "https://localhost:8080/"
        },
        "id": "bcHyR-ozC_vR",
        "outputId": "acc260db-22fd-41a6-80c3-465e45d82af3"
      },
      "execution_count": null,
      "outputs": [
        {
          "output_type": "stream",
          "name": "stdout",
          "text": [
            "Enter the first number: 20\n",
            "The addition of 20 and 6 is 26\n",
            "Enter the first number: 20\n",
            "Enter the second number: 50\n",
            "The addition of 20 and 50 is 70\n"
          ]
        }
      ]
    },
    {
      "cell_type": "code",
      "source": [
        "#relational operators /control flow statement\n",
        "\n",
        "# greater than  <<\n",
        "num3 = int(input('enter num3: '))\n",
        "num4 = int(input('enter num4: '))\n",
        "\n",
        "if num3 > num4:\n",
        "  print('yes')\n",
        "else:\n",
        "  print('no')\n"
      ],
      "metadata": {
        "id": "l2mgbIDoPJoX",
        "colab": {
          "base_uri": "https://localhost:8080/"
        },
        "outputId": "1a12b5c4-2498-489f-cc2c-a95b5ec73224"
      },
      "execution_count": null,
      "outputs": [
        {
          "output_type": "stream",
          "name": "stdout",
          "text": [
            "enter num3: 30\n",
            "enter num4: 60\n",
            "no\n"
          ]
        }
      ]
    },
    {
      "cell_type": "code",
      "source": [
        "# less than  or = <<\n",
        "num3 = int(input('enter num3: '))\n",
        "num4 = int(input('enter num4: '))\n",
        "\n",
        "if num3 <= num4:\n",
        "  print('yes')\n",
        "else:\n",
        "  print('no')\n"
      ],
      "metadata": {
        "colab": {
          "base_uri": "https://localhost:8080/"
        },
        "id": "egH2FubOjDwa",
        "outputId": "ccd40ee5-5348-4e83-d05f-2f3962cb177f"
      },
      "execution_count": null,
      "outputs": [
        {
          "output_type": "stream",
          "name": "stdout",
          "text": [
            "enter num3: 40\n",
            "enter num4: 40\n",
            "yes\n"
          ]
        }
      ]
    },
    {
      "cell_type": "markdown",
      "source": [
        "# **LOGICAL OPERATORS**\n",
        "\n",
        "*   AND\n",
        "*   OR\n",
        "-NOT\n",
        "\n",
        "\n"
      ],
      "metadata": {
        "id": "qRVn5cq-MyHv"
      }
    },
    {
      "cell_type": "code",
      "source": [
        "# AND operator\n",
        "#it is TRUE if both expression are TRUE, otherwise it is FALSE\n",
        "\n",
        "num3 = int(input('enter num3: '))\n",
        "num4 = int(input('enter num4: '))\n",
        "num5 = int(input('enter num5: '))\n",
        "num6 = int(input('enter num6: '))\n",
        "\n",
        "if (num3 != num4) and (num5 != num6):\n",
        "  print('yes')\n",
        "else:\n",
        "  print('no')"
      ],
      "metadata": {
        "id": "HbWTJ2RdUN76",
        "colab": {
          "base_uri": "https://localhost:8080/"
        },
        "outputId": "d6c760cf-1099-4833-ff55-5e1c42cda32b"
      },
      "execution_count": null,
      "outputs": [
        {
          "output_type": "stream",
          "name": "stdout",
          "text": [
            "enter num3: 20\n",
            "enter num4: 30\n",
            "enter num5: 40\n",
            "enter num6: 50\n",
            "yes\n"
          ]
        }
      ]
    },
    {
      "cell_type": "code",
      "source": [
        "# OR operator\n",
        "#it is TRUE if one expression is TRUE, otherwise it is FALSE\n",
        "\n",
        "num3 = int(input('enter num3: '))\n",
        "num4 = int(input('enter num4: '))\n",
        "num5 = int(input('enter num5: '))\n",
        "num6 = int(input('enter num6: '))\n",
        "\n",
        "if (num3 != num4) or (num5 != num6):\n",
        "  print('yes')\n",
        "else:\n",
        "  print('no')"
      ],
      "metadata": {
        "colab": {
          "base_uri": "https://localhost:8080/"
        },
        "id": "B63ADexTW7Ls",
        "outputId": "65c571bd-2d08-446c-cd4c-4491e683c701"
      },
      "execution_count": null,
      "outputs": [
        {
          "output_type": "stream",
          "name": "stdout",
          "text": [
            "enter num3: 20\n",
            "enter num4: 20\n",
            "enter num5: 30\n",
            "enter num6: 30\n",
            "no\n"
          ]
        }
      ]
    },
    {
      "cell_type": "code",
      "source": [
        "# NOT operator\n",
        "#It negates the result of an expression\n",
        "\n",
        "num3 = int(input('enter num3: '))\n",
        "num4 = int(input('enter num4: '))\n",
        "num5 = int(input('enter num5: '))\n",
        "num6 = int(input('enter num6: '))\n",
        "\n",
        "if not((num3 >= num4) and (num5 != num6)):\n",
        "  print('yes')\n",
        "else:\n",
        "  print('no')"
      ],
      "metadata": {
        "colab": {
          "base_uri": "https://localhost:8080/"
        },
        "id": "4xMyL2RCYqKZ",
        "outputId": "5b6c878c-4e70-436e-dec2-97358e73c38e"
      },
      "execution_count": null,
      "outputs": [
        {
          "output_type": "stream",
          "name": "stdout",
          "text": [
            "enter num3: 50\n",
            "enter num4: 20\n",
            "enter num5: 60\n",
            "enter num6: 50\n",
            "no\n"
          ]
        }
      ]
    },
    {
      "cell_type": "markdown",
      "source": [
        "# ***ASSIGNMENT ***"
      ],
      "metadata": {
        "id": "mDb9E0OfY5V7"
      }
    },
    {
      "cell_type": "code",
      "source": [
        "#Compound Interest\n",
        "\n",
        "principal = int(input('enter the principal amount: '))\n",
        "rate = int(input('enter the rate amount: '))\n",
        "time = int(input('enter the time amount: '))\n",
        "\n",
        "\n",
        "Compound_Interest = (principal * (1+rate/100)**time)\n",
        "\n",
        "print ('\\n')\n",
        "print(Compound_Interest)\n",
        "print ('\\n')\n",
        "print(f'Compound_Interest after {time}years of {principal}naira loan obtained at an annual interest of {rate}% is {round(Compound_Interest,2)} naira')\n"
      ],
      "metadata": {
        "colab": {
          "base_uri": "https://localhost:8080/"
        },
        "id": "kRLINEoSZI-O",
        "outputId": "0654fc89-2602-4efc-80b8-6a003a51afcf"
      },
      "execution_count": null,
      "outputs": [
        {
          "output_type": "stream",
          "name": "stdout",
          "text": [
            "enter the principal amount: 2000\n",
            "enter the rate amount: 20\n",
            "enter the time amount: 5\n",
            "\n",
            "\n",
            "4976.6399999999985\n",
            "\n",
            "\n",
            "Compound_Interest after 5years of 2000naira loan obtained at an annual interest of 20% is 4976.64 naira\n"
          ]
        }
      ]
    },
    {
      "cell_type": "code",
      "source": [
        "##Check voting eligiblity in election\n",
        "\n",
        "Acceptable_voting_age = 18\n",
        "voters_name1 = str(input('Enter voters name: '))\n",
        "voters_age1 = int(input('Enter voters age: '))\n",
        "\n",
        "print ('\\n')\n",
        "if voters_age1 >= Acceptable_voting_age:\n",
        "  print(f'{voters_name1} is eligible')\n",
        "else:\n",
        "   print(f'{voters_name1} is not eligible')\n"
      ],
      "metadata": {
        "colab": {
          "base_uri": "https://localhost:8080/"
        },
        "id": "HtW_zomfeM1C",
        "outputId": "597c0188-2748-4624-dcd1-33e887a5b30d"
      },
      "execution_count": null,
      "outputs": [
        {
          "output_type": "stream",
          "name": "stdout",
          "text": [
            "Enter voters name: Akym\n",
            "Enter voters age: 26\n",
            "\n",
            "\n",
            "Akym is eligible\n"
          ]
        }
      ]
    },
    {
      "cell_type": "code",
      "source": [
        "from re import A\n",
        "## How to swap values between two variables without using temporay varaibles\n",
        "\n",
        "a=10\n",
        "b=15\n",
        "\n",
        "c=a\n",
        "d=b\n",
        "\n",
        "a=d\n",
        "b=c\n",
        "\n",
        "print(a,b)\n",
        "\n",
        "\n",
        "#ANOTHER WAY OF SWAPPING VARIALES\n",
        "a=10\n",
        "b=15\n",
        "\n",
        "a, b= b, a\n",
        "\n",
        "print(f'a={a}')\n",
        "print(f'b={b}')\n",
        "\n"
      ],
      "metadata": {
        "colab": {
          "base_uri": "https://localhost:8080/"
        },
        "id": "0Kb90s39jqGu",
        "outputId": "ed6753b9-eee2-4392-820b-fdc1bc4e790f"
      },
      "execution_count": null,
      "outputs": [
        {
          "output_type": "stream",
          "name": "stdout",
          "text": [
            "15 10\n",
            "a=15\n",
            "b=10\n"
          ]
        }
      ]
    },
    {
      "cell_type": "code",
      "source": [],
      "metadata": {
        "id": "eLAJ71xzkfn9"
      },
      "execution_count": null,
      "outputs": []
    }
  ]
}