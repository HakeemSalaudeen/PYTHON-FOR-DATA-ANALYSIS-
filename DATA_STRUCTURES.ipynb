{
  "nbformat": 4,
  "nbformat_minor": 0,
  "metadata": {
    "colab": {
      "provenance": [],
      "authorship_tag": "ABX9TyMoQgKp93dAu1e5MJEoRnJw",
      "include_colab_link": true
    },
    "kernelspec": {
      "name": "python3",
      "display_name": "Python 3"
    },
    "language_info": {
      "name": "python"
    }
  },
  "cells": [
    {
      "cell_type": "markdown",
      "metadata": {
        "id": "view-in-github",
        "colab_type": "text"
      },
      "source": [
        "<a href=\"https://colab.research.google.com/github/HakeemSalaudeen/PYTHON-FOR-DATA-ANALYSIS-/blob/main/DATA_STRUCTURES.ipynb\" target=\"_parent\"><img src=\"https://colab.research.google.com/assets/colab-badge.svg\" alt=\"Open In Colab\"/></a>"
      ]
    },
    {
      "cell_type": "markdown",
      "source": [
        "# **DATA STRUCTURES**\n",
        "\n",
        "\n",
        "*   LIST\n",
        "*   TUPLE\n",
        "*   DICTIONARY\n",
        "*   SET\n",
        "\n",
        "\n",
        "\n"
      ],
      "metadata": {
        "id": "y1ocGX56pP4G"
      }
    },
    {
      "cell_type": "markdown",
      "source": [
        "# **LIST**"
      ],
      "metadata": {
        "id": "4et43E9D564A"
      }
    },
    {
      "cell_type": "code",
      "source": [
        "## A list is a collection of values that can be of the same data type or not\n",
        "#List is declared using square brackets []\n",
        "\n",
        "My_list = []                                                     #empty list\n",
        "My_list1 = [1,2,3,4,5,6]                                          #list are seperated by comma\n",
        "My_list2 = ['akym',2,3.0,4,True,6,False]                                #list with diff data type\n",
        "My_list3 = [5,4,5,9,8,7,44,56,6,55,65,1,255,45,6,8,5,4]\n",
        "My_list4 = [5,4,5,9,8,7,44,56,6]\n",
        "My_list5 = [55,65,1,255,45,6,8,5,4]\n",
        "\n",
        "\n",
        "\n",
        "print(My_list)\n",
        "print(My_list1)\n",
        "print(My_list2)\n",
        "print(My_list2 [0])                                                 #accessing the list using indexing\n",
        "\n",
        "first_name = My_list2[0]                                              #accessing the list using indexing and variable\n",
        "print(first_name)\n",
        "\n",
        "last_item = My_list2[-1]                                              #accessing the list from the last item\n",
        "print(last_item)\n"
      ],
      "metadata": {
        "colab": {
          "base_uri": "https://localhost:8080/"
        },
        "id": "Ie8Z0h-Z6CiY",
        "outputId": "d71757e3-40b7-435f-84a4-1a88560f1063"
      },
      "execution_count": null,
      "outputs": [
        {
          "output_type": "stream",
          "name": "stdout",
          "text": [
            "[]\n",
            "[1, 2, 3, 4, 5, 6]\n",
            "['akym', 2, 3.0, 4, True, 6, False]\n",
            "akym\n",
            "akym\n",
            "False\n"
          ]
        }
      ]
    },
    {
      "cell_type": "code",
      "source": [
        "#changing the item of a list using indexing\n",
        "My_list2[0] = 'tobi'\n",
        "My_list2[-1]= 888\n",
        "print(My_list2)"
      ],
      "metadata": {
        "colab": {
          "base_uri": "https://localhost:8080/"
        },
        "id": "r7xBY1mF6TEl",
        "outputId": "062f74ef-f32e-462e-b3ea-d176301eb697"
      },
      "execution_count": null,
      "outputs": [
        {
          "output_type": "stream",
          "name": "stdout",
          "text": [
            "['tobi', 2, 3.0, 4, True, 6, 888]\n"
          ]
        }
      ]
    },
    {
      "cell_type": "code",
      "source": [
        "## how to find the length of a list\n",
        "\n",
        "length = len(My_list)\n",
        "length1 = len(My_list2)\n",
        "length2 = len(My_list1)\n",
        "length3 = len(My_list3)\n",
        "\n",
        "print(length)\n",
        "print(length1)\n",
        "print(length2)\n",
        "print(length3)"
      ],
      "metadata": {
        "colab": {
          "base_uri": "https://localhost:8080/"
        },
        "id": "kgeuprjS6uum",
        "outputId": "6c817ba1-54a9-4033-9ad2-ca48b657031f"
      },
      "execution_count": null,
      "outputs": [
        {
          "output_type": "stream",
          "name": "stdout",
          "text": [
            "0\n",
            "7\n",
            "6\n",
            "18\n"
          ]
        }
      ]
    },
    {
      "cell_type": "code",
      "source": [
        "## how to insert an item into a list\n",
        "\n",
        "My_list2.append('akym')\n",
        "My_list2.append('akymm')\n",
        "My_list2.append('salaudeen')\n",
        "\n",
        "print (My_list2)"
      ],
      "metadata": {
        "colab": {
          "base_uri": "https://localhost:8080/"
        },
        "id": "TzY3VX1R7KbF",
        "outputId": "fdb41c1b-99b9-4adb-eedb-03347d7adcb3"
      },
      "execution_count": null,
      "outputs": [
        {
          "output_type": "stream",
          "name": "stdout",
          "text": [
            "['tobi', 2, 3.0, 4, True, 6, 888, 'akym', 'akym', 'akymm', 'akym', 'akymm', 'salaudeen']\n"
          ]
        }
      ]
    },
    {
      "cell_type": "code",
      "source": [
        "##How to sort a list using sort\n",
        "#.sort affects the original list\n",
        "#we dont create a variable for sort\n",
        "## note: sort is a method, sorted is a function\n",
        "\n",
        "My_list3.sort()\n",
        "print(My_list3)"
      ],
      "metadata": {
        "colab": {
          "base_uri": "https://localhost:8080/"
        },
        "id": "-dkCuzsk8cqL",
        "outputId": "cdb6939c-4e26-4514-adbb-d09bcb3824be"
      },
      "execution_count": null,
      "outputs": [
        {
          "output_type": "stream",
          "name": "stdout",
          "text": [
            "[1, 4, 4, 5, 5, 5, 6, 6, 7, 8, 8, 9, 44, 45, 55, 56, 65, 255]\n"
          ]
        }
      ]
    },
    {
      "cell_type": "code",
      "source": [
        "\n",
        "##How to sort a list using sorted\n",
        "#.sorted does affects the original list\n",
        "#that why we are putting it in a variable\n",
        "## note: sort is a method, sorted is a function\n",
        "\n",
        "sorted_list = sorted(My_list3)\n",
        "print(sorted_list)"
      ],
      "metadata": {
        "colab": {
          "base_uri": "https://localhost:8080/"
        },
        "id": "1s5xKIyf8gAz",
        "outputId": "2d220931-0b25-4c98-c440-767a948839da"
      },
      "execution_count": null,
      "outputs": [
        {
          "output_type": "stream",
          "name": "stdout",
          "text": [
            "[1, 4, 4, 5, 5, 5, 6, 6, 7, 8, 8, 9, 44, 45, 55, 56, 65, 255]\n"
          ]
        }
      ]
    },
    {
      "cell_type": "code",
      "source": [
        "##How to reverse a list using reverse\n",
        "#function\n",
        "\n",
        "My_list3.reverse()\n",
        "print(My_list3)"
      ],
      "metadata": {
        "colab": {
          "base_uri": "https://localhost:8080/"
        },
        "id": "_jxmMGRQ80u6",
        "outputId": "ca181b07-ee36-4cee-c915-9f10b0a4d19f"
      },
      "execution_count": null,
      "outputs": [
        {
          "output_type": "stream",
          "name": "stdout",
          "text": [
            "[255, 65, 56, 55, 45, 44, 9, 8, 8, 7, 6, 6, 5, 5, 5, 4, 4, 1]\n"
          ]
        }
      ]
    },
    {
      "cell_type": "code",
      "source": [
        "## Adding a list to a list\n",
        "  #using the + method\n",
        "\n",
        "My_list6 = My_list5 + My_list4\n",
        "print(My_list6)"
      ],
      "metadata": {
        "colab": {
          "base_uri": "https://localhost:8080/"
        },
        "id": "xuVO9_oUODQw",
        "outputId": "7c87ffc7-1350-483e-98c5-18939b7c9148"
      },
      "execution_count": null,
      "outputs": [
        {
          "output_type": "stream",
          "name": "stdout",
          "text": [
            "[55, 65, 1, 255, 45, 6, 8, 5, 4, 5, 4, 5, 9, 8, 7, 44, 56, 6]\n"
          ]
        }
      ]
    },
    {
      "cell_type": "code",
      "source": [
        "## Adding a list to a list\n",
        "#using the extend method (preferable)\n",
        "\n",
        "My_list5.extend(My_list4)\n",
        "print (My_list5)"
      ],
      "metadata": {
        "colab": {
          "base_uri": "https://localhost:8080/"
        },
        "id": "XO4jJaHDOrZC",
        "outputId": "62369c8a-c855-492d-bb26-af4ce6ef60bb"
      },
      "execution_count": null,
      "outputs": [
        {
          "output_type": "stream",
          "name": "stdout",
          "text": [
            "['akym', 2, 4, True, 6, False, 1, 2, 3, 4, 5, 6, [1, 2, 3, 4, 5, 6, [5, 4, 5, 9, 8, 7, 44, 56, 6, 55, 65, 1, 45, 6, 8, 5, 4]], 5, 4, 5, 9, 8, 7, 44, 56, 6, 55, 65, 1, 45, 6, 8, 5, 4]\n"
          ]
        }
      ]
    },
    {
      "cell_type": "code",
      "source": [
        "## Adding a list to a list\n",
        "  #using the apend method\n",
        "\n",
        "My_list6.append(My_list4)\n",
        "print (My_list6)\n"
      ],
      "metadata": {
        "colab": {
          "base_uri": "https://localhost:8080/"
        },
        "id": "iLf-f3HEPewq",
        "outputId": "80de9817-da72-4d13-bae8-b2fa713d0bcd"
      },
      "execution_count": null,
      "outputs": [
        {
          "output_type": "stream",
          "name": "stdout",
          "text": [
            "[55, 65, 1, 255, 45, 6, 8, 5, 4, 5, 4, 5, 9, 8, 7, 44, 56, 6, [5, 4, 5, 9, 8, 7, 44, 56, 6, 55, 65, 1, 45, 6, 8, 5, 4], [5, 4, 5, 9, 8, 7, 44, 56, 6, 55, 65, 1, 45, 6, 8, 5, 4]]\n"
          ]
        }
      ]
    },
    {
      "cell_type": "code",
      "source": [
        "## To copy(refrencing) a list\n",
        "  #using =\n",
        "\n",
        "My_list7 = My_list6\n",
        "print(My_list7)\n",
        "\n",
        "#using copy method (preferable)\n",
        "My_list8 = My_list6.copy()\n",
        "print(My_list8)\n"
      ],
      "metadata": {
        "colab": {
          "base_uri": "https://localhost:8080/"
        },
        "id": "0eV0pYK_P5SW",
        "outputId": "478f8ee1-94a6-47ec-9670-85df400f9c17"
      },
      "execution_count": null,
      "outputs": [
        {
          "output_type": "stream",
          "name": "stdout",
          "text": [
            "[55, 65, 1, 255, 45, 6, 8, 5, 4, 5, 4, 5, 9, 8, 7, 44, 56, 6, [5, 4, 5, 9, 8, 7, 44, 56, 6, 55, 65, 1, 45, 6, 8, 5, 4], [5, 4, 5, 9, 8, 7, 44, 56, 6, 55, 65, 1, 45, 6, 8, 5, 4]]\n",
            "[55, 65, 1, 255, 45, 6, 8, 5, 4, 5, 4, 5, 9, 8, 7, 44, 56, 6, [5, 4, 5, 9, 8, 7, 44, 56, 6, 55, 65, 1, 45, 6, 8, 5, 4], [5, 4, 5, 9, 8, 7, 44, 56, 6, 55, 65, 1, 45, 6, 8, 5, 4]]\n"
          ]
        }
      ]
    },
    {
      "cell_type": "code",
      "source": [
        "\n",
        "## how to index a list that is inside another list\n",
        "\n",
        "#My_list8[0][0]\n"
      ],
      "metadata": {
        "id": "NFsPAKbdpvzl"
      },
      "execution_count": null,
      "outputs": []
    },
    {
      "cell_type": "code",
      "source": [
        "## To remove an item from a list\n",
        "My_list8.remove(8)\n",
        "print(My_list8)                       #The remove function affected list3\n",
        "\n",
        "## To remove an item from a list\n",
        "My_list5.remove(3)\n",
        "print(My_list3)                       #The remove function doesnt affected list2"
      ],
      "metadata": {
        "colab": {
          "base_uri": "https://localhost:8080/"
        },
        "id": "IITsbNaVQ0Qc",
        "outputId": "4b26303c-9d13-40d7-d169-a7d4c2ad7a8f"
      },
      "execution_count": null,
      "outputs": [
        {
          "output_type": "stream",
          "name": "stdout",
          "text": [
            "[65, 6, 5, 4, 5, 4, 5, 9, 8, 7, 44, 56, 6, [5, 4, 5, 9, 8, 7, 44, 56, 6, 55, 65, 1, 45, 6, 8, 5, 4], [5, 4, 5, 9, 8, 7, 44, 56, 6, 55, 65, 1, 45, 6, 8, 5, 4]]\n"
          ]
        }
      ]
    },
    {
      "cell_type": "code",
      "source": [
        " ##To delete an item\n",
        "  #using pop method\n",
        "My_list7.pop()\n",
        "\n",
        "  #using pop and index\n",
        "index_popped = My_list5.pop(0)\n",
        "print (index_popped)\n",
        "\n",
        " #using remove method\n",
        "      #it doesnt use index, it use value\n",
        "      #when you use remove, it remove the first occurence of the value\n",
        "      #remove wont the resukt out unlike pop, it will just remove it\n",
        "\n",
        "My_list4.remove(8)\n",
        "\n",
        "\n",
        " #using del keyword function method\n",
        "del My_list4 [1]"
      ],
      "metadata": {
        "colab": {
          "base_uri": "https://localhost:8080/"
        },
        "id": "51w3WD2n41ed",
        "outputId": "ebde3f56-5b68-41d7-b79f-76f46b8b3676"
      },
      "execution_count": null,
      "outputs": [
        {
          "output_type": "stream",
          "name": "stdout",
          "text": [
            "akym\n"
          ]
        }
      ]
    },
    {
      "cell_type": "code",
      "source": [
        "print(My_list)\n",
        "print(My_list1)\n",
        "print(My_list2)\n",
        "print(My_list3)\n",
        "print(My_list4)\n",
        "print(My_list5)\n"
      ],
      "metadata": {
        "id": "INS8xsaHfYpA"
      },
      "execution_count": null,
      "outputs": []
    },
    {
      "cell_type": "code",
      "source": [
        "my_list9 = [23,58,596,4858,569,76,7485]\n",
        "\n",
        "print (my_list9)\n"
      ],
      "metadata": {
        "colab": {
          "base_uri": "https://localhost:8080/"
        },
        "id": "BNiqC8WdWr1i",
        "outputId": "ec955b7f-b3dc-4431-fb24-26da64615143"
      },
      "execution_count": null,
      "outputs": [
        {
          "output_type": "stream",
          "name": "stdout",
          "text": [
            "[23, 58, 596, 4858, 569, 76, 7485]\n"
          ]
        }
      ]
    },
    {
      "cell_type": "code",
      "source": [
        "## How to clear a list entirely\n",
        "my_list9.clear()\n",
        "\n",
        "print(my_list9)\n",
        "\n"
      ],
      "metadata": {
        "id": "lVqEU0uk8B1o",
        "colab": {
          "base_uri": "https://localhost:8080/"
        },
        "outputId": "17fe48dd-8e80-41e8-c604-72a8b8cce725"
      },
      "execution_count": null,
      "outputs": [
        {
          "output_type": "stream",
          "name": "stdout",
          "text": [
            "[]\n"
          ]
        }
      ]
    },
    {
      "cell_type": "markdown",
      "source": [
        "# **Introduction to Tuple**\n",
        "\n",
        "---\n",
        "\n",
        "\n",
        "\n",
        "---\n",
        "\n",
        "\n",
        "\n",
        "A TUPLE IS A COLLECTION OF DATA OR VALUES OF ANY DATA TYPE\n",
        "\n",
        "\n",
        "*   NOTE: Tuple uses '( )' while list use '[ ]'\n",
        "*   Tuple is immutable, i.e once created, it values cannot be changedTuple is immutable, i.e once created, it values cannot be changed\n",
        "*   List item\n",
        "\n",
        "\n",
        "\n",
        "\n",
        "\n",
        "\n",
        "\n"
      ],
      "metadata": {
        "id": "pHxpEG5Db2JT"
      }
    },
    {
      "cell_type": "code",
      "source": [
        "#Tuple declaration\n",
        "my_tuple = ()\n",
        "type (my_tuple)"
      ],
      "metadata": {
        "colab": {
          "base_uri": "https://localhost:8080/"
        },
        "id": "kdFFVLp9cibr",
        "outputId": "0d388476-3b51-4df4-8555-fec5c0d5142a"
      },
      "execution_count": null,
      "outputs": [
        {
          "output_type": "execute_result",
          "data": {
            "text/plain": [
              "tuple"
            ]
          },
          "metadata": {},
          "execution_count": 6
        }
      ]
    },
    {
      "cell_type": "code",
      "source": [
        "## Inserting values into a Tuple by seperating each values with a comma\n",
        "\n",
        "my_tuple1 = (2)\n",
        "my_tuple2 = (2,)\n",
        "my_tuple3 = (2,5,2,4,6,2,5)                                               #A tuple with same data type\n",
        "my_tuple4 = (True, 'tobi','akym',55,11,33,5)                                #A tuple with diff data type\n",
        "my_nested_tuple5 = ((2,5),(2,4),(6,2),(5,55))                                         #A nested tuple\n",
        "\n",
        "\n",
        "\n",
        "print (my_tuple1)\n",
        "print (my_tuple2)\n",
        "print (my_tuple3)\n",
        "print (my_tuple4)\n",
        "print(my_nested_tuple5)\n",
        "\n",
        "type (my_tuple1)\n",
        "type (my_tuple2)\n",
        "type (my_tuple3)"
      ],
      "metadata": {
        "colab": {
          "base_uri": "https://localhost:8080/"
        },
        "id": "X2unpFlLfGIC",
        "outputId": "52224f03-9197-4281-fadb-0c975d59b004"
      },
      "execution_count": null,
      "outputs": [
        {
          "output_type": "stream",
          "name": "stdout",
          "text": [
            "2\n",
            "(2,)\n",
            "(2, 5, 2, 4, 6, 2, 5)\n",
            "(True, 'tobi', 'akym', 55, 11, 33, 5)\n",
            "((2, 5), (2, 4), (6, 2), (5, 55))\n"
          ]
        },
        {
          "output_type": "execute_result",
          "data": {
            "text/plain": [
              "tuple"
            ]
          },
          "metadata": {},
          "execution_count": 32
        }
      ]
    },
    {
      "cell_type": "markdown",
      "source": [
        "Accessing a tuple is done using indexing"
      ],
      "metadata": {
        "id": "kgiWOC_ZmmNg"
      }
    },
    {
      "cell_type": "code",
      "source": [
        "#accessing a tuple\n",
        "print (my_tuple3[3])"
      ],
      "metadata": {
        "colab": {
          "base_uri": "https://localhost:8080/"
        },
        "id": "M5PwedxomvOE",
        "outputId": "1ede5cb0-07e0-48b4-a6e8-5dc2ba8bdb7f"
      },
      "execution_count": null,
      "outputs": [
        {
          "output_type": "stream",
          "name": "stdout",
          "text": [
            "4\n"
          ]
        }
      ]
    },
    {
      "cell_type": "code",
      "source": [
        "##counting a tuple\n",
        "#count the number of occurence of an item in a tuple\n",
        "\n",
        "print(my_tuple3.count(2))                   ## it will count how many times 2 appreared in the tuple\n",
        "\n",
        "##Length of an item in a tuple\n",
        "length = len(my_tuple3)\n",
        "print (length)"
      ],
      "metadata": {
        "colab": {
          "base_uri": "https://localhost:8080/"
        },
        "id": "d3UDgpu8qelA",
        "outputId": "19426cee-4185-4025-f44b-f0a5d6b43e85"
      },
      "execution_count": null,
      "outputs": [
        {
          "output_type": "stream",
          "name": "stdout",
          "text": [
            "3\n",
            "7\n"
          ]
        }
      ]
    },
    {
      "cell_type": "markdown",
      "source": [
        "# **SETS**\n",
        "\n",
        "\n",
        "*   Sets is also a collection of values\n",
        "*   Sets do not accept duplicate\n",
        "*   Sets is declared with '{  }'\n",
        "*   The same way you create a Set is the same way you create a dictionary\n",
        "*   Dictionary have KEY VALUE PAIRS, Set does not have\n",
        "*   When you declare a Set without putting a variable, it appears as a dictionary\n",
        "*   Python reconize both Sets and Dictionary with { }\n",
        "*   Set will scatter the items in {} after you print which makes it difficult when accessing the items in a set.\n",
        "\n",
        "\n",
        "\n",
        "\n",
        "\n",
        "\n"
      ],
      "metadata": {
        "id": "pJ5m2nNm67rQ"
      }
    },
    {
      "cell_type": "code",
      "source": [
        "My_sets = {True, 'tobi','akym',55,11,33,5}\n",
        "\n",
        "print (type (My_sets))                #3data structure\n",
        "print (My_sets)                       ## it will scatter the results that came out after you print"
      ],
      "metadata": {
        "colab": {
          "base_uri": "https://localhost:8080/"
        },
        "id": "rTvsawid7mfN",
        "outputId": "508486d7-73f8-4c5b-c196-7175c8cf1ac7"
      },
      "execution_count": null,
      "outputs": [
        {
          "output_type": "stream",
          "name": "stdout",
          "text": [
            "<class 'set'>\n",
            "{True, 33, 'akym', 5, 55, 11, 'tobi'}\n"
          ]
        }
      ]
    },
    {
      "cell_type": "code",
      "source": [
        "dic = {}\n",
        "type (dic)"
      ],
      "metadata": {
        "colab": {
          "base_uri": "https://localhost:8080/"
        },
        "id": "dTBvbTpj7gMQ",
        "outputId": "91362b98-4e0c-454c-b55a-7cec8a0f26bd"
      },
      "execution_count": null,
      "outputs": [
        {
          "output_type": "execute_result",
          "data": {
            "text/plain": [
              "dict"
            ]
          },
          "metadata": {},
          "execution_count": 17
        }
      ]
    },
    {
      "cell_type": "code",
      "source": [
        "# adding a value to a set\n",
        "#using add method\n",
        "\n",
        "My_set1 = {'orange', 'apple', 'mango'}\n",
        "My_set1.add ('grape')\n",
        "\n",
        "print (My_set1)"
      ],
      "metadata": {
        "colab": {
          "base_uri": "https://localhost:8080/"
        },
        "id": "427Cw5Z8XytW",
        "outputId": "c40eda6c-132e-469f-9c77-959add8b4e76"
      },
      "execution_count": null,
      "outputs": [
        {
          "output_type": "stream",
          "name": "stdout",
          "text": [
            "{'apple', 'mango', 'grape', 'orange'}\n"
          ]
        }
      ]
    },
    {
      "cell_type": "code",
      "source": [
        "## adding a set to a set\n",
        "#using the update method\n",
        "\n",
        "my_set2 = {'watermelon','lemon'}\n",
        "My_set1.update (my_set2)       #we use update to add to a set\n",
        "\n",
        "print (My_set1)"
      ],
      "metadata": {
        "colab": {
          "base_uri": "https://localhost:8080/"
        },
        "id": "E165xNISY3Wh",
        "outputId": "6e25f25e-63df-45cd-c8a5-bd21c0999e51"
      },
      "execution_count": null,
      "outputs": [
        {
          "output_type": "stream",
          "name": "stdout",
          "text": [
            "{'lemon', 'apple', 'mango', 'watermelon', 'grape', 'orange'}\n"
          ]
        }
      ]
    },
    {
      "cell_type": "code",
      "source": [
        "##duplicate in a set\n",
        "\n",
        "My_set8= { 1,3,3,2,4,4,4,4}                # it doesnt allow duplicate\n",
        "print (My_set8)"
      ],
      "metadata": {
        "colab": {
          "base_uri": "https://localhost:8080/"
        },
        "id": "8be2KbkFZaBE",
        "outputId": "7afb6790-8050-43cd-91a3-88cd7c12310f"
      },
      "execution_count": null,
      "outputs": [
        {
          "output_type": "stream",
          "name": "stdout",
          "text": [
            "{1, 2, 3, 4}\n"
          ]
        }
      ]
    },
    {
      "cell_type": "code",
      "source": [
        "#SET UNION\n",
        "#adding a set to a set\n",
        "\n",
        "Set_7 = My_set1.union(my_set2)                  #union joins the set together\n",
        "\n",
        "print ( Set_7 )\n",
        "\n",
        "#set intersection\n",
        "\n",
        "Set_8 = My_set1.intersection(my_set2)           # intersection finds the item that is in both set\n",
        "\n",
        "print ( Set_8 )\n",
        "\n",
        "#set difference                                 # difference gives us the item that isnt in both set (opposite of intersection)\n",
        "\n",
        "Set_9= My_set1.difference (my_set2)\n",
        "\n",
        "print ( Set_9)\n",
        "\n",
        "#set symmetric difference                               (opposite of intersection I.e it gives us what they don’t av in common\n",
        "\n",
        "Set_10 = My_set1.symmetric_difference (my_set2)\n",
        "\n",
        "print ( Set_10)"
      ],
      "metadata": {
        "colab": {
          "base_uri": "https://localhost:8080/"
        },
        "id": "io2jAlwAZvyU",
        "outputId": "31234b47-d306-42ba-aa70-5813d5126a15"
      },
      "execution_count": null,
      "outputs": [
        {
          "output_type": "stream",
          "name": "stdout",
          "text": [
            "{'lemon', 'apple', 'mango', 'watermelon', 'grape', 'orange'}\n",
            "{'lemon', 'watermelon'}\n",
            "{'apple', 'mango', 'grape', 'orange'}\n",
            "{'apple', 'mango', 'grape', 'orange'}\n"
          ]
        }
      ]
    },
    {
      "cell_type": "markdown",
      "source": [
        "# ***HOW TO CONVERT DATA STRUCTURES ***"
      ],
      "metadata": {
        "id": "mxeRnj1Nbkqt"
      }
    },
    {
      "cell_type": "code",
      "source": [
        "#from one data structures to the other\n",
        "#convert a set to a Tuple\n",
        "\n",
        "Tuple3 = tuple (Set_7)\n",
        "\n",
        "print (type (Tuple3), Tuple3 )\n",
        "\n",
        "#convert a tuple to a set\n",
        "Sett3 = set (Tuple3)\n",
        "\n",
        "print (type (Sett3), Sett3 )\n",
        "\n",
        "#convert a set to a list\n",
        "Listt3 = list (Sett3)\n",
        "\n",
        "print (type (Listt3), Listt3 )"
      ],
      "metadata": {
        "colab": {
          "base_uri": "https://localhost:8080/"
        },
        "id": "nxRK4N9cbsdm",
        "outputId": "5ec01cd9-75f3-4c11-eab3-dbf387700378"
      },
      "execution_count": null,
      "outputs": [
        {
          "output_type": "stream",
          "name": "stdout",
          "text": [
            "<class 'tuple'> ('lemon', 'apple', 'mango', 'watermelon', 'grape', 'orange')\n",
            "<class 'set'> {'apple', 'mango', 'grape', 'watermelon', 'lemon', 'orange'}\n",
            "<class 'list'> ['apple', 'mango', 'grape', 'watermelon', 'lemon', 'orange']\n"
          ]
        }
      ]
    },
    {
      "cell_type": "markdown",
      "source": [
        "# ***DICTIONARY ***\n",
        "\n",
        "*  DIC COLLECT DATA IN KEY VALUE PAIR\n",
        "*   Dictionary is more like a data structure\n",
        "*  Whatever is before the column is called the Key, and whatever is outside the column is called the value\n",
        "* More like the key is a variable name\n",
        "*  Is like you’re declaring a variable inside the { }, but the variable you’re declaring is a key value\n",
        "*   When we use dictionary? …..your full table (in excel) is a dictionary,\n",
        "\n",
        "*  we can create a table out of a dictionary\n",
        "*   dictionary doesnt accept duplicate\n",
        "\n",
        "\n",
        "\n",
        "\n",
        "\n",
        "\n",
        "\n",
        "\n"
      ],
      "metadata": {
        "id": "aJQAweSYdiQ1"
      }
    },
    {
      "cell_type": "code",
      "source": [
        "#declaration of a dict\n",
        "\n",
        "My_dict = { }\n",
        "type ( My_dict)"
      ],
      "metadata": {
        "colab": {
          "base_uri": "https://localhost:8080/"
        },
        "id": "iEnyl_tZeKsd",
        "outputId": "e199d21e-9511-4ca5-c067-8bf032974364"
      },
      "execution_count": null,
      "outputs": [
        {
          "output_type": "execute_result",
          "data": {
            "text/plain": [
              "dict"
            ]
          },
          "metadata": {},
          "execution_count": 19
        }
      ]
    },
    {
      "cell_type": "code",
      "source": [
        "#adding a value to a dict and separating each item with a comma\n",
        "\n",
        "my_dict = {'Name' : 'Akym', 'Age' : 26, 'Marital_status' : True, 'Height' : 70.8}\n",
        "\n",
        "print (my_dict)"
      ],
      "metadata": {
        "colab": {
          "base_uri": "https://localhost:8080/"
        },
        "id": "j_IZnZoymMDc",
        "outputId": "8125e1dc-e967-4884-abe1-d2b6222311ca"
      },
      "execution_count": null,
      "outputs": [
        {
          "output_type": "stream",
          "name": "stdout",
          "text": [
            "{'Name': 'Akym', 'Age': 26, 'Marital_status': True, 'Height': 70.8}\n"
          ]
        }
      ]
    },
    {
      "cell_type": "code",
      "source": [
        "#how to accesss an item in a dictionary using a key\n",
        "\n",
        "print (my_dict ['Name'])                    #we use the key value to access an item in a dictionary\n",
        "\n",
        "name = my_dict ['Name']                     #another way\n",
        "age = my_dict ['Age']\n",
        "Marital_status = my_dict ['Marital_status']\n",
        "Height = my_dict ['Height']\n",
        "\n",
        "print (name, age, Marital_status, Height)\n"
      ],
      "metadata": {
        "colab": {
          "base_uri": "https://localhost:8080/"
        },
        "id": "U3IYonc4oQwo",
        "outputId": "d1891f22-9021-41da-e845-9f5878ceae6a"
      },
      "execution_count": null,
      "outputs": [
        {
          "output_type": "stream",
          "name": "stdout",
          "text": [
            "Akym\n",
            "Akym 26 True 70.8\n"
          ]
        }
      ]
    },
    {
      "cell_type": "code",
      "source": [
        "#how to modify the value in a dictionary\n",
        "\n",
        "my_dict ['Name'] = 'akym tobi'\n",
        "\n",
        "my_dict ['Age']  = 27\n",
        "\n",
        "print (my_dict)\n"
      ],
      "metadata": {
        "colab": {
          "base_uri": "https://localhost:8080/"
        },
        "id": "g-WQmUlau5P9",
        "outputId": "3943952b-060b-4734-c686-729518776f45"
      },
      "execution_count": null,
      "outputs": [
        {
          "output_type": "stream",
          "name": "stdout",
          "text": [
            "{'Name': 'akym tobi', 'Age': 27, 'Marital_status': True, 'Height': 70.8}\n"
          ]
        }
      ]
    },
    {
      "cell_type": "code",
      "source": [
        "#how to add new key and value to an existing dictionary\n",
        "\n",
        "my_dict [ 'occupation'] = 'data analyst'\n",
        "\n",
        "print (my_dict)\n",
        "print (my_dict ['occupation'])"
      ],
      "metadata": {
        "colab": {
          "base_uri": "https://localhost:8080/"
        },
        "id": "iiGz6wUvv-vY",
        "outputId": "6055c2fe-d916-4e1c-857a-a94e6a265bf9"
      },
      "execution_count": null,
      "outputs": [
        {
          "output_type": "stream",
          "name": "stdout",
          "text": [
            "{'Name': 'Akym', 'Age': 26, 'Marital_status': True, 'Height': 70.8, 'occupation': 'data analyst'}\n",
            "data analyst\n"
          ]
        }
      ]
    },
    {
      "cell_type": "code",
      "source": [
        "#How to remove a key and a value from a dict\n",
        "\n",
        "my_dict.pop ('Height')              #remove a specified key and a value"
      ],
      "metadata": {
        "colab": {
          "base_uri": "https://localhost:8080/"
        },
        "id": "-RcsRCbO0Qot",
        "outputId": "d321bbdf-fe0f-4835-9dd7-f6a0ae42c1d1"
      },
      "execution_count": null,
      "outputs": [
        {
          "output_type": "execute_result",
          "data": {
            "text/plain": [
              "70.8"
            ]
          },
          "metadata": {},
          "execution_count": 35
        }
      ]
    },
    {
      "cell_type": "code",
      "source": [
        "#how to see just the keys in a dict\n",
        "\n",
        "keys_in_the_dict = my_dict.keys()\n",
        "\n",
        "print(keys_in_the_dict)\n",
        "print(list (keys_in_the_dict))            #to remove the \"dict_key\" in the previous result (by coverting it to a list)"
      ],
      "metadata": {
        "colab": {
          "base_uri": "https://localhost:8080/"
        },
        "id": "yVOEFRtt1yFR",
        "outputId": "a8bf12eb-aed5-4ba4-fe68-16e998312161"
      },
      "execution_count": null,
      "outputs": [
        {
          "output_type": "stream",
          "name": "stdout",
          "text": [
            "dict_keys(['Name', 'Age', 'Marital_status', 'Height'])\n",
            "['Name', 'Age', 'Marital_status', 'Height']\n"
          ]
        }
      ]
    },
    {
      "cell_type": "code",
      "source": [
        "#how to get the values in a dict\n",
        "\n",
        "Values_in_the_dict = my_dict.values()\n",
        "\n",
        "print(Values_in_the_dict)\n",
        "print(list (Values_in_the_dict))                   #to remove the \"dict_key\" in the previous result (by coverting it to a list)\n"
      ],
      "metadata": {
        "colab": {
          "base_uri": "https://localhost:8080/"
        },
        "id": "Ati_VySB5DyJ",
        "outputId": "57f969b5-0eb6-4c4b-bee0-4220a463f0df"
      },
      "execution_count": null,
      "outputs": [
        {
          "output_type": "stream",
          "name": "stdout",
          "text": [
            "dict_values(['Akym', 26, True, 70.8])\n",
            "['Akym', 26, True, 70.8]\n"
          ]
        }
      ]
    },
    {
      "cell_type": "code",
      "source": [
        "#how to get both the values and keys together\n",
        "\n",
        "items_in_the_dict = my_dict.items()\n",
        "\n",
        "print(items_in_the_dict)\n",
        "print(list (items_in_the_dict))                   #to remove the \"dict_key\" in the previous result (by coverting it to a list)"
      ],
      "metadata": {
        "colab": {
          "base_uri": "https://localhost:8080/"
        },
        "id": "UgeA4r2a8Yko",
        "outputId": "bf7ea584-53e8-4d09-a4f8-63c6f32658a3"
      },
      "execution_count": null,
      "outputs": [
        {
          "output_type": "stream",
          "name": "stdout",
          "text": [
            "dict_items([('Name', 'Akym'), ('Age', 26), ('Marital_status', True), ('Height', 70.8), ('occupation', 'data analyst')])\n",
            "[('Name', 'Akym'), ('Age', 26), ('Marital_status', True), ('Height', 70.8), ('occupation', 'data analyst')]\n"
          ]
        }
      ]
    },
    {
      "cell_type": "code",
      "source": [
        "print(my_dict ['Name'])\n",
        "\n",
        "#how to access a dictionary using GET method\n",
        "\n",
        "Name_of_the_person = my_dict.get('Name')            #helps us avoid errors\n",
        "Age_of_the_person = my_dict.get('Age')\n",
        "Not_a_key = my_dict.get('size')                   #get will give none cus there is no size in the dict\n",
        "\n",
        "print (Name_of_the_person, Age_of_the_person)\n",
        "print ( Not_a_key)                                      #get will give none cus there is no size in the dict"
      ],
      "metadata": {
        "colab": {
          "base_uri": "https://localhost:8080/"
        },
        "id": "XK_fq12jBvI2",
        "outputId": "d84ef32a-d64f-4e9e-b6fb-cf75c4d5cfdb"
      },
      "execution_count": null,
      "outputs": [
        {
          "output_type": "stream",
          "name": "stdout",
          "text": [
            "Akym\n",
            "Akym 26\n",
            "None\n"
          ]
        }
      ]
    },
    {
      "cell_type": "code",
      "source": [
        "#how to copy a dictionary to another dictionary\n",
        "\n",
        "my_dict2 = my_dict.copy()\n",
        "my_dict3 = my_dict.copy()\n",
        "\n",
        "print(my_dict2)\n",
        "print(my_dict3)"
      ],
      "metadata": {
        "colab": {
          "base_uri": "https://localhost:8080/"
        },
        "id": "rXpPyOdoAsA1",
        "outputId": "bfedf878-69e6-4ed3-b468-3f5cccb3939a"
      },
      "execution_count": null,
      "outputs": [
        {
          "output_type": "stream",
          "name": "stdout",
          "text": [
            "{'Name': 'Akym', 'Age': 26, 'Marital_status': True, 'Height': 70.8, 'occupation': 'data analyst'}\n",
            "{'Name': 'Akym', 'Age': 26, 'Marital_status': True, 'Height': 70.8, 'occupation': 'data analyst'}\n"
          ]
        }
      ]
    },
    {
      "cell_type": "code",
      "source": [
        "#how to remove everything in a dictionarry\n",
        "\n",
        "my_dict2.clear()                #clear removes everything in a dictionary\n",
        "\n",
        "print(my_dict2)"
      ],
      "metadata": {
        "colab": {
          "base_uri": "https://localhost:8080/"
        },
        "id": "p5hZh8V_Em45",
        "outputId": "97d05d18-1c83-4928-8273-237e9cf770f0"
      },
      "execution_count": null,
      "outputs": [
        {
          "output_type": "stream",
          "name": "stdout",
          "text": [
            "{}\n"
          ]
        }
      ]
    },
    {
      "cell_type": "code",
      "source": [
        "#ow to update a dictionarry\n",
        "#update method\n",
        "#we use the update method to add dict to dict\n",
        "#just like we use extend method to adda list to a list\n",
        "\n",
        "my_dict4 = {'course' : 'hydrology', 'girl_friend' : 'iradat'}\n",
        "my_dict.update(my_dict4)\n",
        "\n",
        "print(my_dict)"
      ],
      "metadata": {
        "colab": {
          "base_uri": "https://localhost:8080/"
        },
        "id": "lKOp-6rrFt6z",
        "outputId": "07df802d-7238-4e56-ae8e-65735e9bb7bc"
      },
      "execution_count": null,
      "outputs": [
        {
          "output_type": "stream",
          "name": "stdout",
          "text": [
            "{'Name': 'Akym', 'Age': 26, 'Marital_status': True, 'Height': 70.8, 'occupation': 'data analyst', 'course': 'hydrology', 'girl_friend': 'iradat'}\n"
          ]
        }
      ]
    }
  ]
}