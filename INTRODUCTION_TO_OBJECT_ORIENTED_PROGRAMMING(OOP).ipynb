{
  "nbformat": 4,
  "nbformat_minor": 0,
  "metadata": {
    "colab": {
      "provenance": [],
      "collapsed_sections": [
        "aWRLFZlNJNFV",
        "41sG8rZjWUMk"
      ],
      "authorship_tag": "ABX9TyNbtE9UAsujVaKzEH5G2jhO",
      "include_colab_link": true
    },
    "kernelspec": {
      "name": "python3",
      "display_name": "Python 3"
    },
    "language_info": {
      "name": "python"
    }
  },
  "cells": [
    {
      "cell_type": "markdown",
      "metadata": {
        "id": "view-in-github",
        "colab_type": "text"
      },
      "source": [
        "<a href=\"https://colab.research.google.com/github/HakeemSalaudeen/PYTHON-FOR-DATA-ANALYSIS-/blob/main/INTRODUCTION_TO_OBJECT_ORIENTED_PROGRAMMING(OOP).ipynb\" target=\"_parent\"><img src=\"https://colab.research.google.com/assets/colab-badge.svg\" alt=\"Open In Colab\"/></a>"
      ]
    },
    {
      "cell_type": "markdown",
      "source": [
        "# **INTRODUCTION TO OBJECT- ORIENTED PROGRAMMING(OOP):**\n",
        "\n",
        "\n",
        "*   OOP is a programming paradigm that uses objects to structure and organize code\n",
        "*   Objects represent real-world entities and vontain both data (attributes) and behaviors (methods).....methods is the same thing as function\n",
        "*   Classes are blueprint or templates for creating objects\n",
        "*   Defining a class in python, you can define a class using the \"class\" keyword\n",
        "- OOP allows you to build a structure that you can use for multiple people but they do nut affect eachother\n",
        "- Things that are unique to an object, we use method to define them\n",
        "\n",
        "\n"
      ],
      "metadata": {
        "id": "aWRLFZlNJNFV"
      }
    },
    {
      "cell_type": "code",
      "source": [
        "## an attributes is a variables that is not declared within a function\n",
        "## an attributes is a variable that is declared outside a method that belongs to every instance of a class\n",
        "## an attributes is a variables that is been declared in a class not within a method or a function\n",
        "## A method is a function declared in a class that can be called using an instance of that class\n",
        "\n",
        "class Dog:\n",
        "  ##class attributes (shared by all instances)\n",
        "  ##class has to be defined with capital letter with a variable\n",
        "\n",
        "## Creating an attributes\n",
        "## an attributes is a variable that is not declared within a function\n",
        "## an attributes is a variable that is declared outside a method that belongs to every instance of a class\n",
        "## an attributes is a variable that is been declared in a class not within a method or a function\n",
        "## it belongs to every instance/method in the class\n",
        "\n",
        "  species = 'canis familaris'       ##ATTRIBUTES\n",
        "\n",
        "## Creating a method\n",
        "  ## constructor method (initialize instance attributes)\n",
        "  ## we use init as a constructor method to collect important information that are needed\n",
        "  ## The constructor is more like a function but the different is that constructor has __init__\n",
        "  ## Things that are unique to an object, we use method to define them\n",
        "  ## self is very important if you want to understand object programming\n",
        "  ## self makes it to be global so it can appear in any method\n",
        "  ## global variable are those which are not defined inside any function and have a global scope (can be used even outside the function)\n",
        "  ## local variables are those which are defined inside a function and their scope is limited to that function only.\n",
        "  ## so the difference between local and global variable is SELF\n",
        "  ## we use self to declare a variable because we want to use it in more than one method\n",
        "  ## DIFF BTW A METHOD AND A FUNCTION:\n",
        "              ### a function is used to do a specific task\n",
        "              ### a method is a function that is declared inside a class and can be called using a dot (.)\n",
        "\n",
        "\n",
        "  def __init__ (self, name, age, school):          #the init funtion is used to get information from the user\n",
        "    self.name = name                      #every function/every method in a class always begin with self\n",
        "    self.age = age\n",
        "    self.school = school\n",
        "\n",
        "# init has two underscore(_)\n",
        "# when you put a parameter in  __init__, anytime you want to pass in that class for the first time, you have to enter in the parameter or the argument\n",
        "# it must have a self, all method comes with a self\n",
        "    #we want to use a variable in multiple method, we are not declaring it as an attribute\n",
        "\n",
        "  ## instance method (defines behavior)\n",
        "  def description (self):\n",
        "    return f'{self.name} is {self.age} years old in {self.school}'     #the variable we declared abpve (self.name), we are passing it here\n",
        "\n",
        "  def speak (self, sound):\n",
        "    return f'{self.name} species always {sound}.'\n",
        "\n",
        "## create instance of the dog class\n",
        "\n",
        "mikey = Dog ('mikey', 6, 'funaab')\n",
        "\n"
      ],
      "metadata": {
        "id": "N3Yq8WUA50Om"
      },
      "execution_count": null,
      "outputs": []
    },
    {
      "cell_type": "code",
      "source": [
        "mikey_spechy = mikey.species\n",
        "print (mikey_spechy)"
      ],
      "metadata": {
        "colab": {
          "base_uri": "https://localhost:8080/"
        },
        "id": "gnLurS6SwbxE",
        "outputId": "6076a5e8-e708-4120-d02b-9158b59fef52"
      },
      "execution_count": null,
      "outputs": [
        {
          "output_type": "stream",
          "name": "stdout",
          "text": [
            "canis familaris\n"
          ]
        }
      ]
    },
    {
      "cell_type": "code",
      "source": [
        "mikey_decription = mikey.description()\n",
        "print (mikey_decription)"
      ],
      "metadata": {
        "colab": {
          "base_uri": "https://localhost:8080/"
        },
        "id": "03pZjQ_yAbNA",
        "outputId": "70d64e3a-bfb5-435f-d3d0-171766734620"
      },
      "execution_count": null,
      "outputs": [
        {
          "output_type": "stream",
          "name": "stdout",
          "text": [
            "mikey is 6 years old in funaab\n"
          ]
        }
      ]
    },
    {
      "cell_type": "code",
      "source": [
        "#how to check for the sound\n",
        "mikey.speak ('barks')\n"
      ],
      "metadata": {
        "colab": {
          "base_uri": "https://localhost:8080/",
          "height": 35
        },
        "id": "NE6N2h-tDQHE",
        "outputId": "2c7fa70c-f420-41dc-8cc8-529d1f0fd480"
      },
      "execution_count": null,
      "outputs": [
        {
          "output_type": "execute_result",
          "data": {
            "text/plain": [
              "'mikey species always barks.'"
            ],
            "application/vnd.google.colaboratory.intrinsic+json": {
              "type": "string"
            }
          },
          "metadata": {},
          "execution_count": 14
        }
      ]
    },
    {
      "cell_type": "code",
      "source": [
        "## OOP allows you to build a structure that you can use for multiple people but they do nut affect eachother\n",
        "## meaning we can also use that same class (for mikey) and create another object for another animal\n",
        "#  we can use that same oppurtunity to create another animal with same class we use to create another dog called rocky\n",
        "# rocky will av is own information which wont affect mikey information\n",
        "\n",
        "rocky = Dog('Rocky', 2, 'mahmud')\n",
        "\n",
        "mikey_spechy = mikey.species          #same class different name/ animal\n",
        "print (mikey_spechy)\n",
        "rocky_spechy = rocky.species\n",
        "print (rocky_spechy)\n"
      ],
      "metadata": {
        "colab": {
          "base_uri": "https://localhost:8080/"
        },
        "id": "L5I5YGL4FOeK",
        "outputId": "2e3c0380-4201-45e5-adbb-c811e7b00a86"
      },
      "execution_count": null,
      "outputs": [
        {
          "output_type": "stream",
          "name": "stdout",
          "text": [
            "canis familaris\n",
            "canis familaris\n"
          ]
        }
      ]
    },
    {
      "cell_type": "code",
      "source": [
        "#how to get the decription\n",
        "\n",
        "rocky_decription = rocky.description()\n",
        "print (rocky_decription)"
      ],
      "metadata": {
        "colab": {
          "base_uri": "https://localhost:8080/"
        },
        "id": "Kgiqe9xsKKkT",
        "outputId": "8c1ed69e-4fb7-4292-a34e-7b5285f5b973"
      },
      "execution_count": null,
      "outputs": [
        {
          "output_type": "stream",
          "name": "stdout",
          "text": [
            "Rocky is 2 years old in mahmud\n"
          ]
        }
      ]
    },
    {
      "cell_type": "code",
      "source": [
        "#how to check for the sound\n",
        "\n",
        "rocky.speak ('meow ')\n"
      ],
      "metadata": {
        "colab": {
          "base_uri": "https://localhost:8080/",
          "height": 35
        },
        "id": "uNjn53W9Kgoo",
        "outputId": "9908936b-76a3-4b26-c296-a2ea1bb3ac31"
      },
      "execution_count": null,
      "outputs": [
        {
          "output_type": "execute_result",
          "data": {
            "text/plain": [
              "'Rocky species always meow .'"
            ],
            "application/vnd.google.colaboratory.intrinsic+json": {
              "type": "string"
            }
          },
          "metadata": {},
          "execution_count": 19
        }
      ]
    },
    {
      "cell_type": "markdown",
      "source": [
        "# **COMPANY TOYOTA**\n",
        "\n",
        "***Car Types:***\n",
        "\n",
        "*   Lexus\n",
        "*   Camry\n",
        "*   highlander\n",
        "*   corolla\n",
        "*   venza\n",
        "\n",
        "***What the cars can do:***\n",
        "\n",
        "* start\n",
        "* move  \n",
        "* stop\n",
        "* reverse\n",
        "\n",
        "***What we can use to describe a car:***\n",
        "\n",
        "*   color\n",
        "*   model\n",
        "*   year\n",
        "*   size\n",
        "\n",
        "\n"
      ],
      "metadata": {
        "id": "9y4ImGqTMZtQ"
      }
    },
    {
      "cell_type": "code",
      "source": [
        "## creating a class\n",
        "\n",
        "class ToyotaCar:\n",
        "\n",
        "  # Attribute\n",
        "  company_brand = 'toyota'\n",
        "\n",
        "  #creating a constructor method for car types, car description and what it can do\n",
        "  def __init__ (self, name, age, budget, car_type):\n",
        "    self.name = name\n",
        "    self.age = age\n",
        "    self.budget = budget\n",
        "    self.car_type = car_type\n",
        "\n",
        "  def describe (self, color, model, year, size):\n",
        "      self.color = color\n",
        "      self.model = self.car_type\n",
        "      self.year = year\n",
        "      self.size = size\n",
        "\n",
        "      print (f''' The description of {self.name}\"s car is as follows\n",
        "\n",
        "             1. {self.color}\n",
        "             2.  { self.model}\n",
        "             3. {self.year}\n",
        "             4. {self.size}\n",
        "\n",
        "            ''')\n",
        "\n",
        "\n",
        "    # we want to create another method for car type (start) (this method will tell us what the car is doing )\n",
        "  def start (self):\n",
        "    print (f'{self.name}\"s {self.car_type} engine has started')\n",
        "\n",
        "     # we want to create another method for car type (move) (this method will tell us what the car is doing )\n",
        "  def move (self):\n",
        "    print (f'{self.name}\"s {self.car_type} is moving')\n",
        "\n",
        "      # we want to create another method for car type (reverse) (this method will tell us what the car is doing )\n",
        "  def reverse (self):\n",
        "    print (f'{self.name}\"s {self.car_type} can reverse')\n",
        "\n",
        "      # we want to create another method for car type (move) (this method will tell us what the car is doing )\n",
        "  def stop (self):\n",
        "    print (f'{self.name}\"s {self.car_type} will stop nearby a supermarket')\n"
      ],
      "metadata": {
        "id": "qX4l0nzUNrgs"
      },
      "execution_count": null,
      "outputs": []
    },
    {
      "cell_type": "code",
      "source": [
        "customer1 = ToyotaCar('akym', 26, 900000, 'camry',)\n",
        "\n",
        "customer1.company_brand\n",
        "customer1.car_type"
      ],
      "metadata": {
        "colab": {
          "base_uri": "https://localhost:8080/",
          "height": 35
        },
        "id": "l4ifGk22m0LO",
        "outputId": "03d6c8f6-7c94-45f5-ba43-18e05be7b34d"
      },
      "execution_count": null,
      "outputs": [
        {
          "output_type": "execute_result",
          "data": {
            "text/plain": [
              "'camry'"
            ],
            "application/vnd.google.colaboratory.intrinsic+json": {
              "type": "string"
            }
          },
          "metadata": {},
          "execution_count": 44
        }
      ]
    },
    {
      "cell_type": "code",
      "source": [
        "# to check for the decription\n",
        "customer1.describe('white', '', 2023, 'normal')"
      ],
      "metadata": {
        "colab": {
          "base_uri": "https://localhost:8080/"
        },
        "id": "89u6brOlooVc",
        "outputId": "08cd2ce3-3b19-4677-e1c8-9c0620f25b1e"
      },
      "execution_count": null,
      "outputs": [
        {
          "output_type": "stream",
          "name": "stdout",
          "text": [
            " The description of akym\"s car is as follows\n",
            "\n",
            "             1. white\n",
            "             2.  camry\n",
            "             3. 2023\n",
            "             4. normal\n",
            "               \n",
            "            \n"
          ]
        }
      ]
    },
    {
      "cell_type": "code",
      "source": [
        "#what can car do?\n",
        "\n",
        "car_start = customer1.start()\n",
        "car_move = customer1.move()\n",
        "car_reverse = customer1.reverse()\n",
        "car_stop = customer1.stop()\n",
        "\n",
        "print (car_start)\n",
        "print (car_move)\n",
        "print (car_reverse)\n",
        "print (car_stop)"
      ],
      "metadata": {
        "colab": {
          "base_uri": "https://localhost:8080/"
        },
        "id": "kp-01PXpqttu",
        "outputId": "d036998e-ddd3-47d1-a768-c174798a4067"
      },
      "execution_count": null,
      "outputs": [
        {
          "output_type": "stream",
          "name": "stdout",
          "text": [
            "akym\"s camry engine has started\n",
            "akym\"s camry is moving\n",
            "akym\"s camry can reverse\n",
            "akym\"s camry will stop nearby a supermarket\n",
            "None\n",
            "None\n",
            "None\n",
            "None\n"
          ]
        }
      ]
    },
    {
      "cell_type": "code",
      "source": [
        "# for customer2\n",
        "\n",
        "customer2 = ToyotaCar ('tobi', 32, 650000, 'venza')\n",
        "\n",
        "customer2.name\n"
      ],
      "metadata": {
        "colab": {
          "base_uri": "https://localhost:8080/",
          "height": 35
        },
        "id": "SKtpXjiHr36S",
        "outputId": "6b9505a6-e542-42d3-e94d-a29fa8b8e435"
      },
      "execution_count": null,
      "outputs": [
        {
          "output_type": "execute_result",
          "data": {
            "text/plain": [
              "'tobi'"
            ],
            "application/vnd.google.colaboratory.intrinsic+json": {
              "type": "string"
            }
          },
          "metadata": {},
          "execution_count": 54
        }
      ]
    },
    {
      "cell_type": "markdown",
      "source": [
        "# **INHERITANCE**\n",
        "\n",
        "* Inheritance allows you to create a new class that inherits attributes and methods from an existing class\n",
        "\n"
      ],
      "metadata": {
        "id": "35zQ8zuG27F0"
      }
    },
    {
      "cell_type": "code",
      "source": [
        "# parent class\n",
        "class Animal:\n",
        "  def __init__ (self, name,species):\n",
        "    self.name = name\n",
        "    self.species = species\n",
        "\n",
        "  def make_sound (self, sound):\n",
        "    return f'{self.name} sound is {sound}'\n"
      ],
      "metadata": {
        "id": "fXxOOgpt3iRH"
      },
      "execution_count": null,
      "outputs": []
    },
    {
      "cell_type": "code",
      "source": [
        "animal1 = Animal('tiger', 'cat')"
      ],
      "metadata": {
        "id": "8fId8cbK5F3e"
      },
      "execution_count": null,
      "outputs": []
    },
    {
      "cell_type": "code",
      "source": [
        "animal1_name = animal1.name\n",
        "animal1_specie = animal1.species\n",
        "animal1_sound = animal1.make_sound ('roar')\n",
        "\n",
        "\n",
        "print (animal1_name)\n",
        "print (animal1_specie)\n",
        "print (animal1_sound)"
      ],
      "metadata": {
        "colab": {
          "base_uri": "https://localhost:8080/"
        },
        "id": "Kw2u0Yv_5TdN",
        "outputId": "da33d47a-ceb0-4f21-a4a2-56bb3b04698d"
      },
      "execution_count": null,
      "outputs": [
        {
          "output_type": "stream",
          "name": "stdout",
          "text": [
            "tiger\n",
            "cat\n",
            "tiger sound is roar\n"
          ]
        }
      ]
    },
    {
      "cell_type": "code",
      "source": [
        "## to create an inheritance of 'class animal'\n",
        "# when you want to do inheritance method, you put the class that you want to inherit in a bracket\n",
        "\n",
        "class Cat (Animal):\n",
        "  def __init__ (self, name, color):                           #note that this one has breed not species\n",
        "    super(). __init__ (name, species = 'Felis catus')         #call parent constructor\n",
        "    self.color = color\n",
        "\n",
        "  def make_sound (self, sound = 'Meow'):                     #overide parent method\n",
        "    return super().make_sound(sound)\n",
        "\n",
        "  def play(self):\n",
        "    return f'{self.name} is playing with a toy.'\n"
      ],
      "metadata": {
        "id": "9k22BBCy7PAv"
      },
      "execution_count": null,
      "outputs": []
    },
    {
      "cell_type": "code",
      "source": [
        "# create an instance of the cat class\n",
        "\n",
        "cat1 = Cat ('jagun', 'white' )"
      ],
      "metadata": {
        "id": "nyx6VD98DFpr"
      },
      "execution_count": null,
      "outputs": []
    },
    {
      "cell_type": "code",
      "source": [
        "cat1_name = cat1.name\n",
        "cat1_sound = cat1.make_sound ('wof wof')\n",
        "\n",
        "print (cat1_name)\n",
        "print (cat1_sound)"
      ],
      "metadata": {
        "colab": {
          "base_uri": "https://localhost:8080/"
        },
        "id": "xhIXQcWUETJj",
        "outputId": "bce92928-14f7-4966-8a62-b05042cf3fd9"
      },
      "execution_count": null,
      "outputs": [
        {
          "output_type": "stream",
          "name": "stdout",
          "text": [
            "jagun\n",
            "jagun sound is wof wof\n"
          ]
        }
      ]
    },
    {
      "cell_type": "markdown",
      "source": [
        "# **LIGHT ESTATE**"
      ],
      "metadata": {
        "id": "41sG8rZjWUMk"
      }
    },
    {
      "cell_type": "code",
      "source": [
        "class Estate:\n",
        "\n",
        "  # attribute\n",
        "  estate_address = 'orchid road, eleganza bus stop'\n",
        "\n",
        "  def __init__(self, name):\n",
        "    self.name = name\n",
        "    self.block_numbers = ()\n",
        "\n",
        "  def building_block (self):\n",
        "    block_number = int (input ('Enter building block number: '))\n",
        "\n",
        "    if block_number not in self.block_numbers:\n",
        "      self.block_numbers.append(block_number)\n",
        "      print ('Block number registered already')\n",
        "      estate.address = str (block_number) + ' ' + estate_address\n",
        "    else:\n",
        "      print ('Block number occupied already')\n"
      ],
      "metadata": {
        "id": "6UQNFmlSWdiQ"
      },
      "execution_count": null,
      "outputs": []
    },
    {
      "cell_type": "code",
      "source": [
        "hakym_building = Estate ('hakym')"
      ],
      "metadata": {
        "id": "w3EKZqRqYou7"
      },
      "execution_count": null,
      "outputs": []
    },
    {
      "cell_type": "code",
      "source": [
        "hakym_building.estate_address"
      ],
      "metadata": {
        "colab": {
          "base_uri": "https://localhost:8080/",
          "height": 35
        },
        "id": "C0jVr2xEcFDw",
        "outputId": "0d46882d-4f62-4238-804b-918d2b04128e"
      },
      "execution_count": null,
      "outputs": [
        {
          "output_type": "execute_result",
          "data": {
            "text/plain": [
              "'orchid road, eleganza bus stop'"
            ],
            "application/vnd.google.colaboratory.intrinsic+json": {
              "type": "string"
            }
          },
          "metadata": {},
          "execution_count": 6
        }
      ]
    }
  ]
}